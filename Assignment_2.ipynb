{
  "nbformat": 4,
  "nbformat_minor": 0,
  "metadata": {
    "colab": {
      "name": "Assignment 2.ipynb",
      "provenance": [],
      "collapsed_sections": [],
      "authorship_tag": "ABX9TyONa/GSd5JCUK4ovtqb3qqW",
      "include_colab_link": true
    },
    "kernelspec": {
      "name": "python3",
      "display_name": "Python 3"
    }
  },
  "cells": [
    {
      "cell_type": "markdown",
      "metadata": {
        "id": "view-in-github",
        "colab_type": "text"
      },
      "source": [
        "<a href=\"https://colab.research.google.com/github/lathamithu/Techvolt-Intern/blob/master/Assignment_2.ipynb\" target=\"_parent\"><img src=\"https://colab.research.google.com/assets/colab-badge.svg\" alt=\"Open In Colab\"/></a>"
      ]
    },
    {
      "cell_type": "code",
      "metadata": {
        "id": "zehyPU3KdNWD",
        "colab_type": "code",
        "colab": {}
      },
      "source": [
        "import pandas as pd\n",
        "import numpy as np\n",
        "from sklearn.model_selection import train_test_split\n",
        "from sklearn.preprocessing import LabelEncoder\n",
        "from sklearn.metrics import classification_report, confusion_matrix, accuracy_score\n",
        "import matplotlib.pyplot as plt\n",
        "from sklearn import metrics\n",
        "import seaborn as sns\n",
        "%matplotlib inline"
      ],
      "execution_count": 166,
      "outputs": []
    },
    {
      "cell_type": "markdown",
      "metadata": {
        "id": "-Q4W8Z_Y8EA7",
        "colab_type": "text"
      },
      "source": [
        "Data preprocessing"
      ]
    },
    {
      "cell_type": "code",
      "metadata": {
        "id": "L58rdfcxXeQk",
        "colab_type": "code",
        "colab": {
          "base_uri": "https://localhost:8080/",
          "height": 195
        },
        "outputId": "4495a655-6c53-4379-b114-ae0f08f698c5"
      },
      "source": [
        "train = pd.read_csv(\"train_ctrUa4K.csv\")\n",
        "train.head()"
      ],
      "execution_count": 167,
      "outputs": [
        {
          "output_type": "execute_result",
          "data": {
            "text/html": [
              "<div>\n",
              "<style scoped>\n",
              "    .dataframe tbody tr th:only-of-type {\n",
              "        vertical-align: middle;\n",
              "    }\n",
              "\n",
              "    .dataframe tbody tr th {\n",
              "        vertical-align: top;\n",
              "    }\n",
              "\n",
              "    .dataframe thead th {\n",
              "        text-align: right;\n",
              "    }\n",
              "</style>\n",
              "<table border=\"1\" class=\"dataframe\">\n",
              "  <thead>\n",
              "    <tr style=\"text-align: right;\">\n",
              "      <th></th>\n",
              "      <th>Loan_ID</th>\n",
              "      <th>Gender</th>\n",
              "      <th>Married</th>\n",
              "      <th>Dependents</th>\n",
              "      <th>Education</th>\n",
              "      <th>Self_Employed</th>\n",
              "      <th>ApplicantIncome</th>\n",
              "      <th>CoapplicantIncome</th>\n",
              "      <th>LoanAmount</th>\n",
              "      <th>Loan_Amount_Term</th>\n",
              "      <th>Credit_History</th>\n",
              "      <th>Property_Area</th>\n",
              "      <th>Loan_Status</th>\n",
              "    </tr>\n",
              "  </thead>\n",
              "  <tbody>\n",
              "    <tr>\n",
              "      <th>0</th>\n",
              "      <td>LP001002</td>\n",
              "      <td>Male</td>\n",
              "      <td>No</td>\n",
              "      <td>0</td>\n",
              "      <td>Graduate</td>\n",
              "      <td>No</td>\n",
              "      <td>5849</td>\n",
              "      <td>0.0</td>\n",
              "      <td>NaN</td>\n",
              "      <td>360.0</td>\n",
              "      <td>1.0</td>\n",
              "      <td>Urban</td>\n",
              "      <td>Y</td>\n",
              "    </tr>\n",
              "    <tr>\n",
              "      <th>1</th>\n",
              "      <td>LP001003</td>\n",
              "      <td>Male</td>\n",
              "      <td>Yes</td>\n",
              "      <td>1</td>\n",
              "      <td>Graduate</td>\n",
              "      <td>No</td>\n",
              "      <td>4583</td>\n",
              "      <td>1508.0</td>\n",
              "      <td>128.0</td>\n",
              "      <td>360.0</td>\n",
              "      <td>1.0</td>\n",
              "      <td>Rural</td>\n",
              "      <td>N</td>\n",
              "    </tr>\n",
              "    <tr>\n",
              "      <th>2</th>\n",
              "      <td>LP001005</td>\n",
              "      <td>Male</td>\n",
              "      <td>Yes</td>\n",
              "      <td>0</td>\n",
              "      <td>Graduate</td>\n",
              "      <td>Yes</td>\n",
              "      <td>3000</td>\n",
              "      <td>0.0</td>\n",
              "      <td>66.0</td>\n",
              "      <td>360.0</td>\n",
              "      <td>1.0</td>\n",
              "      <td>Urban</td>\n",
              "      <td>Y</td>\n",
              "    </tr>\n",
              "    <tr>\n",
              "      <th>3</th>\n",
              "      <td>LP001006</td>\n",
              "      <td>Male</td>\n",
              "      <td>Yes</td>\n",
              "      <td>0</td>\n",
              "      <td>Not Graduate</td>\n",
              "      <td>No</td>\n",
              "      <td>2583</td>\n",
              "      <td>2358.0</td>\n",
              "      <td>120.0</td>\n",
              "      <td>360.0</td>\n",
              "      <td>1.0</td>\n",
              "      <td>Urban</td>\n",
              "      <td>Y</td>\n",
              "    </tr>\n",
              "    <tr>\n",
              "      <th>4</th>\n",
              "      <td>LP001008</td>\n",
              "      <td>Male</td>\n",
              "      <td>No</td>\n",
              "      <td>0</td>\n",
              "      <td>Graduate</td>\n",
              "      <td>No</td>\n",
              "      <td>6000</td>\n",
              "      <td>0.0</td>\n",
              "      <td>141.0</td>\n",
              "      <td>360.0</td>\n",
              "      <td>1.0</td>\n",
              "      <td>Urban</td>\n",
              "      <td>Y</td>\n",
              "    </tr>\n",
              "  </tbody>\n",
              "</table>\n",
              "</div>"
            ],
            "text/plain": [
              "    Loan_ID Gender Married  ... Credit_History Property_Area Loan_Status\n",
              "0  LP001002   Male      No  ...            1.0         Urban           Y\n",
              "1  LP001003   Male     Yes  ...            1.0         Rural           N\n",
              "2  LP001005   Male     Yes  ...            1.0         Urban           Y\n",
              "3  LP001006   Male     Yes  ...            1.0         Urban           Y\n",
              "4  LP001008   Male      No  ...            1.0         Urban           Y\n",
              "\n",
              "[5 rows x 13 columns]"
            ]
          },
          "metadata": {
            "tags": []
          },
          "execution_count": 167
        }
      ]
    },
    {
      "cell_type": "code",
      "metadata": {
        "id": "yAKlX81NbeV9",
        "colab_type": "code",
        "colab": {
          "base_uri": "https://localhost:8080/",
          "height": 225
        },
        "outputId": "c907fdae-f7ef-4965-a176-f17df0236fea"
      },
      "source": [
        "train = train.set_index('Loan_ID')\n",
        "train.head()"
      ],
      "execution_count": 168,
      "outputs": [
        {
          "output_type": "execute_result",
          "data": {
            "text/html": [
              "<div>\n",
              "<style scoped>\n",
              "    .dataframe tbody tr th:only-of-type {\n",
              "        vertical-align: middle;\n",
              "    }\n",
              "\n",
              "    .dataframe tbody tr th {\n",
              "        vertical-align: top;\n",
              "    }\n",
              "\n",
              "    .dataframe thead th {\n",
              "        text-align: right;\n",
              "    }\n",
              "</style>\n",
              "<table border=\"1\" class=\"dataframe\">\n",
              "  <thead>\n",
              "    <tr style=\"text-align: right;\">\n",
              "      <th></th>\n",
              "      <th>Gender</th>\n",
              "      <th>Married</th>\n",
              "      <th>Dependents</th>\n",
              "      <th>Education</th>\n",
              "      <th>Self_Employed</th>\n",
              "      <th>ApplicantIncome</th>\n",
              "      <th>CoapplicantIncome</th>\n",
              "      <th>LoanAmount</th>\n",
              "      <th>Loan_Amount_Term</th>\n",
              "      <th>Credit_History</th>\n",
              "      <th>Property_Area</th>\n",
              "      <th>Loan_Status</th>\n",
              "    </tr>\n",
              "    <tr>\n",
              "      <th>Loan_ID</th>\n",
              "      <th></th>\n",
              "      <th></th>\n",
              "      <th></th>\n",
              "      <th></th>\n",
              "      <th></th>\n",
              "      <th></th>\n",
              "      <th></th>\n",
              "      <th></th>\n",
              "      <th></th>\n",
              "      <th></th>\n",
              "      <th></th>\n",
              "      <th></th>\n",
              "    </tr>\n",
              "  </thead>\n",
              "  <tbody>\n",
              "    <tr>\n",
              "      <th>LP001002</th>\n",
              "      <td>Male</td>\n",
              "      <td>No</td>\n",
              "      <td>0</td>\n",
              "      <td>Graduate</td>\n",
              "      <td>No</td>\n",
              "      <td>5849</td>\n",
              "      <td>0.0</td>\n",
              "      <td>NaN</td>\n",
              "      <td>360.0</td>\n",
              "      <td>1.0</td>\n",
              "      <td>Urban</td>\n",
              "      <td>Y</td>\n",
              "    </tr>\n",
              "    <tr>\n",
              "      <th>LP001003</th>\n",
              "      <td>Male</td>\n",
              "      <td>Yes</td>\n",
              "      <td>1</td>\n",
              "      <td>Graduate</td>\n",
              "      <td>No</td>\n",
              "      <td>4583</td>\n",
              "      <td>1508.0</td>\n",
              "      <td>128.0</td>\n",
              "      <td>360.0</td>\n",
              "      <td>1.0</td>\n",
              "      <td>Rural</td>\n",
              "      <td>N</td>\n",
              "    </tr>\n",
              "    <tr>\n",
              "      <th>LP001005</th>\n",
              "      <td>Male</td>\n",
              "      <td>Yes</td>\n",
              "      <td>0</td>\n",
              "      <td>Graduate</td>\n",
              "      <td>Yes</td>\n",
              "      <td>3000</td>\n",
              "      <td>0.0</td>\n",
              "      <td>66.0</td>\n",
              "      <td>360.0</td>\n",
              "      <td>1.0</td>\n",
              "      <td>Urban</td>\n",
              "      <td>Y</td>\n",
              "    </tr>\n",
              "    <tr>\n",
              "      <th>LP001006</th>\n",
              "      <td>Male</td>\n",
              "      <td>Yes</td>\n",
              "      <td>0</td>\n",
              "      <td>Not Graduate</td>\n",
              "      <td>No</td>\n",
              "      <td>2583</td>\n",
              "      <td>2358.0</td>\n",
              "      <td>120.0</td>\n",
              "      <td>360.0</td>\n",
              "      <td>1.0</td>\n",
              "      <td>Urban</td>\n",
              "      <td>Y</td>\n",
              "    </tr>\n",
              "    <tr>\n",
              "      <th>LP001008</th>\n",
              "      <td>Male</td>\n",
              "      <td>No</td>\n",
              "      <td>0</td>\n",
              "      <td>Graduate</td>\n",
              "      <td>No</td>\n",
              "      <td>6000</td>\n",
              "      <td>0.0</td>\n",
              "      <td>141.0</td>\n",
              "      <td>360.0</td>\n",
              "      <td>1.0</td>\n",
              "      <td>Urban</td>\n",
              "      <td>Y</td>\n",
              "    </tr>\n",
              "  </tbody>\n",
              "</table>\n",
              "</div>"
            ],
            "text/plain": [
              "         Gender Married Dependents  ... Credit_History Property_Area  Loan_Status\n",
              "Loan_ID                             ...                                          \n",
              "LP001002   Male      No          0  ...            1.0         Urban            Y\n",
              "LP001003   Male     Yes          1  ...            1.0         Rural            N\n",
              "LP001005   Male     Yes          0  ...            1.0         Urban            Y\n",
              "LP001006   Male     Yes          0  ...            1.0         Urban            Y\n",
              "LP001008   Male      No          0  ...            1.0         Urban            Y\n",
              "\n",
              "[5 rows x 12 columns]"
            ]
          },
          "metadata": {
            "tags": []
          },
          "execution_count": 168
        }
      ]
    },
    {
      "cell_type": "code",
      "metadata": {
        "id": "ku9i68WNfBNa",
        "colab_type": "code",
        "colab": {}
      },
      "source": [
        "train['Dependents'] = train['Dependents'].map({'0':0, '1':1, '2':2, '3+':3})"
      ],
      "execution_count": 169,
      "outputs": []
    },
    {
      "cell_type": "code",
      "metadata": {
        "id": "QEYWuKKpjEPG",
        "colab_type": "code",
        "colab": {
          "base_uri": "https://localhost:8080/",
          "height": 431
        },
        "outputId": "ce916156-bcf9-4748-ab70-0923140467a0"
      },
      "source": [
        "train['Education'] = LabelEncoder().fit(train['Education']).transform(train['Education'])\n",
        "train"
      ],
      "execution_count": 170,
      "outputs": [
        {
          "output_type": "execute_result",
          "data": {
            "text/html": [
              "<div>\n",
              "<style scoped>\n",
              "    .dataframe tbody tr th:only-of-type {\n",
              "        vertical-align: middle;\n",
              "    }\n",
              "\n",
              "    .dataframe tbody tr th {\n",
              "        vertical-align: top;\n",
              "    }\n",
              "\n",
              "    .dataframe thead th {\n",
              "        text-align: right;\n",
              "    }\n",
              "</style>\n",
              "<table border=\"1\" class=\"dataframe\">\n",
              "  <thead>\n",
              "    <tr style=\"text-align: right;\">\n",
              "      <th></th>\n",
              "      <th>Gender</th>\n",
              "      <th>Married</th>\n",
              "      <th>Dependents</th>\n",
              "      <th>Education</th>\n",
              "      <th>Self_Employed</th>\n",
              "      <th>ApplicantIncome</th>\n",
              "      <th>CoapplicantIncome</th>\n",
              "      <th>LoanAmount</th>\n",
              "      <th>Loan_Amount_Term</th>\n",
              "      <th>Credit_History</th>\n",
              "      <th>Property_Area</th>\n",
              "      <th>Loan_Status</th>\n",
              "    </tr>\n",
              "    <tr>\n",
              "      <th>Loan_ID</th>\n",
              "      <th></th>\n",
              "      <th></th>\n",
              "      <th></th>\n",
              "      <th></th>\n",
              "      <th></th>\n",
              "      <th></th>\n",
              "      <th></th>\n",
              "      <th></th>\n",
              "      <th></th>\n",
              "      <th></th>\n",
              "      <th></th>\n",
              "      <th></th>\n",
              "    </tr>\n",
              "  </thead>\n",
              "  <tbody>\n",
              "    <tr>\n",
              "      <th>LP001002</th>\n",
              "      <td>Male</td>\n",
              "      <td>No</td>\n",
              "      <td>0.0</td>\n",
              "      <td>0</td>\n",
              "      <td>No</td>\n",
              "      <td>5849</td>\n",
              "      <td>0.0</td>\n",
              "      <td>NaN</td>\n",
              "      <td>360.0</td>\n",
              "      <td>1.0</td>\n",
              "      <td>Urban</td>\n",
              "      <td>Y</td>\n",
              "    </tr>\n",
              "    <tr>\n",
              "      <th>LP001003</th>\n",
              "      <td>Male</td>\n",
              "      <td>Yes</td>\n",
              "      <td>1.0</td>\n",
              "      <td>0</td>\n",
              "      <td>No</td>\n",
              "      <td>4583</td>\n",
              "      <td>1508.0</td>\n",
              "      <td>128.0</td>\n",
              "      <td>360.0</td>\n",
              "      <td>1.0</td>\n",
              "      <td>Rural</td>\n",
              "      <td>N</td>\n",
              "    </tr>\n",
              "    <tr>\n",
              "      <th>LP001005</th>\n",
              "      <td>Male</td>\n",
              "      <td>Yes</td>\n",
              "      <td>0.0</td>\n",
              "      <td>0</td>\n",
              "      <td>Yes</td>\n",
              "      <td>3000</td>\n",
              "      <td>0.0</td>\n",
              "      <td>66.0</td>\n",
              "      <td>360.0</td>\n",
              "      <td>1.0</td>\n",
              "      <td>Urban</td>\n",
              "      <td>Y</td>\n",
              "    </tr>\n",
              "    <tr>\n",
              "      <th>LP001006</th>\n",
              "      <td>Male</td>\n",
              "      <td>Yes</td>\n",
              "      <td>0.0</td>\n",
              "      <td>1</td>\n",
              "      <td>No</td>\n",
              "      <td>2583</td>\n",
              "      <td>2358.0</td>\n",
              "      <td>120.0</td>\n",
              "      <td>360.0</td>\n",
              "      <td>1.0</td>\n",
              "      <td>Urban</td>\n",
              "      <td>Y</td>\n",
              "    </tr>\n",
              "    <tr>\n",
              "      <th>LP001008</th>\n",
              "      <td>Male</td>\n",
              "      <td>No</td>\n",
              "      <td>0.0</td>\n",
              "      <td>0</td>\n",
              "      <td>No</td>\n",
              "      <td>6000</td>\n",
              "      <td>0.0</td>\n",
              "      <td>141.0</td>\n",
              "      <td>360.0</td>\n",
              "      <td>1.0</td>\n",
              "      <td>Urban</td>\n",
              "      <td>Y</td>\n",
              "    </tr>\n",
              "    <tr>\n",
              "      <th>...</th>\n",
              "      <td>...</td>\n",
              "      <td>...</td>\n",
              "      <td>...</td>\n",
              "      <td>...</td>\n",
              "      <td>...</td>\n",
              "      <td>...</td>\n",
              "      <td>...</td>\n",
              "      <td>...</td>\n",
              "      <td>...</td>\n",
              "      <td>...</td>\n",
              "      <td>...</td>\n",
              "      <td>...</td>\n",
              "    </tr>\n",
              "    <tr>\n",
              "      <th>LP002978</th>\n",
              "      <td>Female</td>\n",
              "      <td>No</td>\n",
              "      <td>0.0</td>\n",
              "      <td>0</td>\n",
              "      <td>No</td>\n",
              "      <td>2900</td>\n",
              "      <td>0.0</td>\n",
              "      <td>71.0</td>\n",
              "      <td>360.0</td>\n",
              "      <td>1.0</td>\n",
              "      <td>Rural</td>\n",
              "      <td>Y</td>\n",
              "    </tr>\n",
              "    <tr>\n",
              "      <th>LP002979</th>\n",
              "      <td>Male</td>\n",
              "      <td>Yes</td>\n",
              "      <td>3.0</td>\n",
              "      <td>0</td>\n",
              "      <td>No</td>\n",
              "      <td>4106</td>\n",
              "      <td>0.0</td>\n",
              "      <td>40.0</td>\n",
              "      <td>180.0</td>\n",
              "      <td>1.0</td>\n",
              "      <td>Rural</td>\n",
              "      <td>Y</td>\n",
              "    </tr>\n",
              "    <tr>\n",
              "      <th>LP002983</th>\n",
              "      <td>Male</td>\n",
              "      <td>Yes</td>\n",
              "      <td>1.0</td>\n",
              "      <td>0</td>\n",
              "      <td>No</td>\n",
              "      <td>8072</td>\n",
              "      <td>240.0</td>\n",
              "      <td>253.0</td>\n",
              "      <td>360.0</td>\n",
              "      <td>1.0</td>\n",
              "      <td>Urban</td>\n",
              "      <td>Y</td>\n",
              "    </tr>\n",
              "    <tr>\n",
              "      <th>LP002984</th>\n",
              "      <td>Male</td>\n",
              "      <td>Yes</td>\n",
              "      <td>2.0</td>\n",
              "      <td>0</td>\n",
              "      <td>No</td>\n",
              "      <td>7583</td>\n",
              "      <td>0.0</td>\n",
              "      <td>187.0</td>\n",
              "      <td>360.0</td>\n",
              "      <td>1.0</td>\n",
              "      <td>Urban</td>\n",
              "      <td>Y</td>\n",
              "    </tr>\n",
              "    <tr>\n",
              "      <th>LP002990</th>\n",
              "      <td>Female</td>\n",
              "      <td>No</td>\n",
              "      <td>0.0</td>\n",
              "      <td>0</td>\n",
              "      <td>Yes</td>\n",
              "      <td>4583</td>\n",
              "      <td>0.0</td>\n",
              "      <td>133.0</td>\n",
              "      <td>360.0</td>\n",
              "      <td>0.0</td>\n",
              "      <td>Semiurban</td>\n",
              "      <td>N</td>\n",
              "    </tr>\n",
              "  </tbody>\n",
              "</table>\n",
              "<p>614 rows × 12 columns</p>\n",
              "</div>"
            ],
            "text/plain": [
              "          Gender Married  Dependents  ...  Credit_History Property_Area  Loan_Status\n",
              "Loan_ID                               ...                                           \n",
              "LP001002    Male      No         0.0  ...             1.0         Urban            Y\n",
              "LP001003    Male     Yes         1.0  ...             1.0         Rural            N\n",
              "LP001005    Male     Yes         0.0  ...             1.0         Urban            Y\n",
              "LP001006    Male     Yes         0.0  ...             1.0         Urban            Y\n",
              "LP001008    Male      No         0.0  ...             1.0         Urban            Y\n",
              "...          ...     ...         ...  ...             ...           ...          ...\n",
              "LP002978  Female      No         0.0  ...             1.0         Rural            Y\n",
              "LP002979    Male     Yes         3.0  ...             1.0         Rural            Y\n",
              "LP002983    Male     Yes         1.0  ...             1.0         Urban            Y\n",
              "LP002984    Male     Yes         2.0  ...             1.0         Urban            Y\n",
              "LP002990  Female      No         0.0  ...             0.0     Semiurban            N\n",
              "\n",
              "[614 rows x 12 columns]"
            ]
          },
          "metadata": {
            "tags": []
          },
          "execution_count": 170
        }
      ]
    },
    {
      "cell_type": "code",
      "metadata": {
        "id": "g0T9NwEcX4Q0",
        "colab_type": "code",
        "colab": {}
      },
      "source": [
        "train['Gender'].fillna(train['Gender'].mode()[0], inplace=True)\n",
        "train['Married'].fillna(train['Married'].mode()[0], inplace=True)\n",
        "train['Self_Employed'].fillna(train['Self_Employed'].mode()[0], inplace=True)\n",
        "\n",
        "train['LoanAmount'] = train['LoanAmount'].replace(0, np.NaN)\n",
        "\n",
        "train['Loan_Amount_Term'] = train['Loan_Amount_Term'].replace(0, np.NaN)\n",
        "\n",
        "train['Loan_Amount_Term'] = train['Loan_Amount_Term'].replace(0, np.NaN)\n",
        "\n",
        "train.fillna(train.mean(),inplace=True)"
      ],
      "execution_count": 171,
      "outputs": []
    },
    {
      "cell_type": "code",
      "metadata": {
        "id": "9AjUplu2ZGY7",
        "colab_type": "code",
        "colab": {
          "base_uri": "https://localhost:8080/",
          "height": 225
        },
        "outputId": "0f4beec3-24a1-4bef-bbe3-58c759fddb90"
      },
      "source": [
        "train.head()"
      ],
      "execution_count": 172,
      "outputs": [
        {
          "output_type": "execute_result",
          "data": {
            "text/html": [
              "<div>\n",
              "<style scoped>\n",
              "    .dataframe tbody tr th:only-of-type {\n",
              "        vertical-align: middle;\n",
              "    }\n",
              "\n",
              "    .dataframe tbody tr th {\n",
              "        vertical-align: top;\n",
              "    }\n",
              "\n",
              "    .dataframe thead th {\n",
              "        text-align: right;\n",
              "    }\n",
              "</style>\n",
              "<table border=\"1\" class=\"dataframe\">\n",
              "  <thead>\n",
              "    <tr style=\"text-align: right;\">\n",
              "      <th></th>\n",
              "      <th>Gender</th>\n",
              "      <th>Married</th>\n",
              "      <th>Dependents</th>\n",
              "      <th>Education</th>\n",
              "      <th>Self_Employed</th>\n",
              "      <th>ApplicantIncome</th>\n",
              "      <th>CoapplicantIncome</th>\n",
              "      <th>LoanAmount</th>\n",
              "      <th>Loan_Amount_Term</th>\n",
              "      <th>Credit_History</th>\n",
              "      <th>Property_Area</th>\n",
              "      <th>Loan_Status</th>\n",
              "    </tr>\n",
              "    <tr>\n",
              "      <th>Loan_ID</th>\n",
              "      <th></th>\n",
              "      <th></th>\n",
              "      <th></th>\n",
              "      <th></th>\n",
              "      <th></th>\n",
              "      <th></th>\n",
              "      <th></th>\n",
              "      <th></th>\n",
              "      <th></th>\n",
              "      <th></th>\n",
              "      <th></th>\n",
              "      <th></th>\n",
              "    </tr>\n",
              "  </thead>\n",
              "  <tbody>\n",
              "    <tr>\n",
              "      <th>LP001002</th>\n",
              "      <td>Male</td>\n",
              "      <td>No</td>\n",
              "      <td>0.0</td>\n",
              "      <td>0</td>\n",
              "      <td>No</td>\n",
              "      <td>5849</td>\n",
              "      <td>0.0</td>\n",
              "      <td>146.412162</td>\n",
              "      <td>360.0</td>\n",
              "      <td>1.0</td>\n",
              "      <td>Urban</td>\n",
              "      <td>Y</td>\n",
              "    </tr>\n",
              "    <tr>\n",
              "      <th>LP001003</th>\n",
              "      <td>Male</td>\n",
              "      <td>Yes</td>\n",
              "      <td>1.0</td>\n",
              "      <td>0</td>\n",
              "      <td>No</td>\n",
              "      <td>4583</td>\n",
              "      <td>1508.0</td>\n",
              "      <td>128.000000</td>\n",
              "      <td>360.0</td>\n",
              "      <td>1.0</td>\n",
              "      <td>Rural</td>\n",
              "      <td>N</td>\n",
              "    </tr>\n",
              "    <tr>\n",
              "      <th>LP001005</th>\n",
              "      <td>Male</td>\n",
              "      <td>Yes</td>\n",
              "      <td>0.0</td>\n",
              "      <td>0</td>\n",
              "      <td>Yes</td>\n",
              "      <td>3000</td>\n",
              "      <td>0.0</td>\n",
              "      <td>66.000000</td>\n",
              "      <td>360.0</td>\n",
              "      <td>1.0</td>\n",
              "      <td>Urban</td>\n",
              "      <td>Y</td>\n",
              "    </tr>\n",
              "    <tr>\n",
              "      <th>LP001006</th>\n",
              "      <td>Male</td>\n",
              "      <td>Yes</td>\n",
              "      <td>0.0</td>\n",
              "      <td>1</td>\n",
              "      <td>No</td>\n",
              "      <td>2583</td>\n",
              "      <td>2358.0</td>\n",
              "      <td>120.000000</td>\n",
              "      <td>360.0</td>\n",
              "      <td>1.0</td>\n",
              "      <td>Urban</td>\n",
              "      <td>Y</td>\n",
              "    </tr>\n",
              "    <tr>\n",
              "      <th>LP001008</th>\n",
              "      <td>Male</td>\n",
              "      <td>No</td>\n",
              "      <td>0.0</td>\n",
              "      <td>0</td>\n",
              "      <td>No</td>\n",
              "      <td>6000</td>\n",
              "      <td>0.0</td>\n",
              "      <td>141.000000</td>\n",
              "      <td>360.0</td>\n",
              "      <td>1.0</td>\n",
              "      <td>Urban</td>\n",
              "      <td>Y</td>\n",
              "    </tr>\n",
              "  </tbody>\n",
              "</table>\n",
              "</div>"
            ],
            "text/plain": [
              "         Gender Married  Dependents  ...  Credit_History Property_Area  Loan_Status\n",
              "Loan_ID                              ...                                           \n",
              "LP001002   Male      No         0.0  ...             1.0         Urban            Y\n",
              "LP001003   Male     Yes         1.0  ...             1.0         Rural            N\n",
              "LP001005   Male     Yes         0.0  ...             1.0         Urban            Y\n",
              "LP001006   Male     Yes         0.0  ...             1.0         Urban            Y\n",
              "LP001008   Male      No         0.0  ...             1.0         Urban            Y\n",
              "\n",
              "[5 rows x 12 columns]"
            ]
          },
          "metadata": {
            "tags": []
          },
          "execution_count": 172
        }
      ]
    },
    {
      "cell_type": "code",
      "metadata": {
        "id": "cIAhWg6Apwpl",
        "colab_type": "code",
        "colab": {}
      },
      "source": [
        "train['Gender'] = LabelEncoder().fit(train['Gender']).transform(train['Gender'])\n",
        "\n",
        "train['Married'] = LabelEncoder().fit(train['Married']).transform(train['Married'])\n",
        "\n",
        "train['Self_Employed'] = LabelEncoder().fit(train['Self_Employed']).transform(train['Self_Employed'])\n",
        "\n",
        "train['Property_Area'] = LabelEncoder().fit(train['Property_Area']).transform(train['Property_Area'])\n",
        "\n",
        "train['Loan_Status'] = LabelEncoder().fit(train['Loan_Status']).transform(train['Loan_Status'])"
      ],
      "execution_count": 173,
      "outputs": []
    },
    {
      "cell_type": "code",
      "metadata": {
        "id": "CgkjmQ-Zog6w",
        "colab_type": "code",
        "colab": {
          "base_uri": "https://localhost:8080/",
          "height": 225
        },
        "outputId": "26081dc8-96fb-4250-d241-40b6e4d881ff"
      },
      "source": [
        "train.head()"
      ],
      "execution_count": 174,
      "outputs": [
        {
          "output_type": "execute_result",
          "data": {
            "text/html": [
              "<div>\n",
              "<style scoped>\n",
              "    .dataframe tbody tr th:only-of-type {\n",
              "        vertical-align: middle;\n",
              "    }\n",
              "\n",
              "    .dataframe tbody tr th {\n",
              "        vertical-align: top;\n",
              "    }\n",
              "\n",
              "    .dataframe thead th {\n",
              "        text-align: right;\n",
              "    }\n",
              "</style>\n",
              "<table border=\"1\" class=\"dataframe\">\n",
              "  <thead>\n",
              "    <tr style=\"text-align: right;\">\n",
              "      <th></th>\n",
              "      <th>Gender</th>\n",
              "      <th>Married</th>\n",
              "      <th>Dependents</th>\n",
              "      <th>Education</th>\n",
              "      <th>Self_Employed</th>\n",
              "      <th>ApplicantIncome</th>\n",
              "      <th>CoapplicantIncome</th>\n",
              "      <th>LoanAmount</th>\n",
              "      <th>Loan_Amount_Term</th>\n",
              "      <th>Credit_History</th>\n",
              "      <th>Property_Area</th>\n",
              "      <th>Loan_Status</th>\n",
              "    </tr>\n",
              "    <tr>\n",
              "      <th>Loan_ID</th>\n",
              "      <th></th>\n",
              "      <th></th>\n",
              "      <th></th>\n",
              "      <th></th>\n",
              "      <th></th>\n",
              "      <th></th>\n",
              "      <th></th>\n",
              "      <th></th>\n",
              "      <th></th>\n",
              "      <th></th>\n",
              "      <th></th>\n",
              "      <th></th>\n",
              "    </tr>\n",
              "  </thead>\n",
              "  <tbody>\n",
              "    <tr>\n",
              "      <th>LP001002</th>\n",
              "      <td>1</td>\n",
              "      <td>0</td>\n",
              "      <td>0.0</td>\n",
              "      <td>0</td>\n",
              "      <td>0</td>\n",
              "      <td>5849</td>\n",
              "      <td>0.0</td>\n",
              "      <td>146.412162</td>\n",
              "      <td>360.0</td>\n",
              "      <td>1.0</td>\n",
              "      <td>2</td>\n",
              "      <td>1</td>\n",
              "    </tr>\n",
              "    <tr>\n",
              "      <th>LP001003</th>\n",
              "      <td>1</td>\n",
              "      <td>1</td>\n",
              "      <td>1.0</td>\n",
              "      <td>0</td>\n",
              "      <td>0</td>\n",
              "      <td>4583</td>\n",
              "      <td>1508.0</td>\n",
              "      <td>128.000000</td>\n",
              "      <td>360.0</td>\n",
              "      <td>1.0</td>\n",
              "      <td>0</td>\n",
              "      <td>0</td>\n",
              "    </tr>\n",
              "    <tr>\n",
              "      <th>LP001005</th>\n",
              "      <td>1</td>\n",
              "      <td>1</td>\n",
              "      <td>0.0</td>\n",
              "      <td>0</td>\n",
              "      <td>1</td>\n",
              "      <td>3000</td>\n",
              "      <td>0.0</td>\n",
              "      <td>66.000000</td>\n",
              "      <td>360.0</td>\n",
              "      <td>1.0</td>\n",
              "      <td>2</td>\n",
              "      <td>1</td>\n",
              "    </tr>\n",
              "    <tr>\n",
              "      <th>LP001006</th>\n",
              "      <td>1</td>\n",
              "      <td>1</td>\n",
              "      <td>0.0</td>\n",
              "      <td>1</td>\n",
              "      <td>0</td>\n",
              "      <td>2583</td>\n",
              "      <td>2358.0</td>\n",
              "      <td>120.000000</td>\n",
              "      <td>360.0</td>\n",
              "      <td>1.0</td>\n",
              "      <td>2</td>\n",
              "      <td>1</td>\n",
              "    </tr>\n",
              "    <tr>\n",
              "      <th>LP001008</th>\n",
              "      <td>1</td>\n",
              "      <td>0</td>\n",
              "      <td>0.0</td>\n",
              "      <td>0</td>\n",
              "      <td>0</td>\n",
              "      <td>6000</td>\n",
              "      <td>0.0</td>\n",
              "      <td>141.000000</td>\n",
              "      <td>360.0</td>\n",
              "      <td>1.0</td>\n",
              "      <td>2</td>\n",
              "      <td>1</td>\n",
              "    </tr>\n",
              "  </tbody>\n",
              "</table>\n",
              "</div>"
            ],
            "text/plain": [
              "          Gender  Married  ...  Property_Area  Loan_Status\n",
              "Loan_ID                    ...                            \n",
              "LP001002       1        0  ...              2            1\n",
              "LP001003       1        1  ...              0            0\n",
              "LP001005       1        1  ...              2            1\n",
              "LP001006       1        1  ...              2            1\n",
              "LP001008       1        0  ...              2            1\n",
              "\n",
              "[5 rows x 12 columns]"
            ]
          },
          "metadata": {
            "tags": []
          },
          "execution_count": 174
        }
      ]
    },
    {
      "cell_type": "code",
      "metadata": {
        "id": "hyDeOuKsrrz6",
        "colab_type": "code",
        "colab": {}
      },
      "source": [
        "x = train.drop(['Loan_Status'], axis = 1)\n",
        "y = train['Loan_Status']\n"
      ],
      "execution_count": 175,
      "outputs": []
    },
    {
      "cell_type": "markdown",
      "metadata": {
        "id": "g8hoCEmUr2Rf",
        "colab_type": "text"
      },
      "source": [
        "**LOGISTIC REGRESSION**"
      ]
    },
    {
      "cell_type": "code",
      "metadata": {
        "id": "QhOZFZ5Xr6Fz",
        "colab_type": "code",
        "colab": {}
      },
      "source": [
        "from sklearn.linear_model import LogisticRegression"
      ],
      "execution_count": 176,
      "outputs": []
    },
    {
      "cell_type": "code",
      "metadata": {
        "id": "IjHsE3ihr8uo",
        "colab_type": "code",
        "colab": {}
      },
      "source": [
        "X_train, X_test, y_train, y_test = train_test_split(x, y, test_size = 0.3, random_state = 0)"
      ],
      "execution_count": 177,
      "outputs": []
    },
    {
      "cell_type": "code",
      "metadata": {
        "id": "EitAGDylr_JP",
        "colab_type": "code",
        "colab": {
          "base_uri": "https://localhost:8080/",
          "height": 101
        },
        "outputId": "f85764b9-6422-425a-db28-de3ef28f5226"
      },
      "source": [
        "logmodel = LogisticRegression(max_iter=1000)\n",
        "logmodel.fit(X_train, y_train)"
      ],
      "execution_count": 178,
      "outputs": [
        {
          "output_type": "execute_result",
          "data": {
            "text/plain": [
              "LogisticRegression(C=1.0, class_weight=None, dual=False, fit_intercept=True,\n",
              "                   intercept_scaling=1, l1_ratio=None, max_iter=1000,\n",
              "                   multi_class='auto', n_jobs=None, penalty='l2',\n",
              "                   random_state=None, solver='lbfgs', tol=0.0001, verbose=0,\n",
              "                   warm_start=False)"
            ]
          },
          "metadata": {
            "tags": []
          },
          "execution_count": 178
        }
      ]
    },
    {
      "cell_type": "code",
      "metadata": {
        "id": "NXm34-hosB5Q",
        "colab_type": "code",
        "colab": {
          "base_uri": "https://localhost:8080/",
          "height": 168
        },
        "outputId": "3c6cb4c6-eb9c-4a98-d8b9-7296673132a9"
      },
      "source": [
        "predictions = logmodel.predict(X_test)\n",
        "print(classification_report(y_test, predictions))"
      ],
      "execution_count": 179,
      "outputs": [
        {
          "output_type": "stream",
          "text": [
            "              precision    recall  f1-score   support\n",
            "\n",
            "           0       0.88      0.45      0.60        51\n",
            "           1       0.82      0.98      0.89       134\n",
            "\n",
            "    accuracy                           0.83       185\n",
            "   macro avg       0.85      0.71      0.75       185\n",
            "weighted avg       0.84      0.83      0.81       185\n",
            "\n"
          ],
          "name": "stdout"
        }
      ]
    },
    {
      "cell_type": "code",
      "metadata": {
        "id": "Lafcp0uMsKHz",
        "colab_type": "code",
        "colab": {
          "base_uri": "https://localhost:8080/",
          "height": 50
        },
        "outputId": "d30c8f74-cb17-4dde-b79e-6170fb16acf4"
      },
      "source": [
        "confusion_matrix(y_test, predictions)"
      ],
      "execution_count": 180,
      "outputs": [
        {
          "output_type": "execute_result",
          "data": {
            "text/plain": [
              "array([[ 23,  28],\n",
              "       [  3, 131]])"
            ]
          },
          "metadata": {
            "tags": []
          },
          "execution_count": 180
        }
      ]
    },
    {
      "cell_type": "code",
      "metadata": {
        "id": "JIIHFTu2sMMg",
        "colab_type": "code",
        "colab": {
          "base_uri": "https://localhost:8080/",
          "height": 34
        },
        "outputId": "4698383e-e0f4-405f-b51d-166573a01816"
      },
      "source": [
        "accuracy_score(y_test, predictions)"
      ],
      "execution_count": 181,
      "outputs": [
        {
          "output_type": "execute_result",
          "data": {
            "text/plain": [
              "0.8324324324324325"
            ]
          },
          "metadata": {
            "tags": []
          },
          "execution_count": 181
        }
      ]
    },
    {
      "cell_type": "code",
      "metadata": {
        "id": "nWWqftsisQQb",
        "colab_type": "code",
        "colab": {
          "base_uri": "https://localhost:8080/",
          "height": 1000
        },
        "outputId": "babc5522-9855-45ca-ba02-4c9e3cf5bc43"
      },
      "source": [
        "probs = logmodel.predict_proba(X_test)\n",
        "probs"
      ],
      "execution_count": 182,
      "outputs": [
        {
          "output_type": "execute_result",
          "data": {
            "text/plain": [
              "array([[0.23235952, 0.76764048],\n",
              "       [0.24539482, 0.75460518],\n",
              "       [0.22232003, 0.77767997],\n",
              "       [0.15819318, 0.84180682],\n",
              "       [0.16982435, 0.83017565],\n",
              "       [0.79128373, 0.20871627],\n",
              "       [0.09121893, 0.90878107],\n",
              "       [0.31838793, 0.68161207],\n",
              "       [0.84874715, 0.15125285],\n",
              "       [0.19701596, 0.80298404],\n",
              "       [0.23815356, 0.76184644],\n",
              "       [0.15918281, 0.84081719],\n",
              "       [0.29232893, 0.70767107],\n",
              "       [0.23245934, 0.76754066],\n",
              "       [0.15410348, 0.84589652],\n",
              "       [0.12843155, 0.87156845],\n",
              "       [0.52229051, 0.47770949],\n",
              "       [0.3863597 , 0.6136403 ],\n",
              "       [0.29521795, 0.70478205],\n",
              "       [0.85490259, 0.14509741],\n",
              "       [0.77984895, 0.22015105],\n",
              "       [0.19054481, 0.80945519],\n",
              "       [0.20536738, 0.79463262],\n",
              "       [0.24012053, 0.75987947],\n",
              "       [0.27712498, 0.72287502],\n",
              "       [0.21209786, 0.78790214],\n",
              "       [0.33699003, 0.66300997],\n",
              "       [0.24408143, 0.75591857],\n",
              "       [0.77944233, 0.22055767],\n",
              "       [0.83936884, 0.16063116],\n",
              "       [0.18100808, 0.81899192],\n",
              "       [0.37198828, 0.62801172],\n",
              "       [0.28070304, 0.71929696],\n",
              "       [0.22261677, 0.77738323],\n",
              "       [0.20644287, 0.79355713],\n",
              "       [0.8888485 , 0.1111515 ],\n",
              "       [0.20954382, 0.79045618],\n",
              "       [0.43737195, 0.56262805],\n",
              "       [0.16087922, 0.83912078],\n",
              "       [0.25306307, 0.74693693],\n",
              "       [0.20520734, 0.79479266],\n",
              "       [0.82309265, 0.17690735],\n",
              "       [0.04344697, 0.95655303],\n",
              "       [0.24450384, 0.75549616],\n",
              "       [0.22633892, 0.77366108],\n",
              "       [0.35524676, 0.64475324],\n",
              "       [0.15988769, 0.84011231],\n",
              "       [0.24616028, 0.75383972],\n",
              "       [0.20749474, 0.79250526],\n",
              "       [0.31907447, 0.68092553],\n",
              "       [0.24208593, 0.75791407],\n",
              "       [0.16079014, 0.83920986],\n",
              "       [0.3096629 , 0.6903371 ],\n",
              "       [0.30674072, 0.69325928],\n",
              "       [0.21902033, 0.78097967],\n",
              "       [0.3390075 , 0.6609925 ],\n",
              "       [0.14561014, 0.85438986],\n",
              "       [0.40077823, 0.59922177],\n",
              "       [0.16206131, 0.83793869],\n",
              "       [0.27274791, 0.72725209],\n",
              "       [0.91685141, 0.08314859],\n",
              "       [0.27289188, 0.72710812],\n",
              "       [0.24857244, 0.75142756],\n",
              "       [0.8069467 , 0.1930533 ],\n",
              "       [0.16417885, 0.83582115],\n",
              "       [0.24539353, 0.75460647],\n",
              "       [0.30535219, 0.69464781],\n",
              "       [0.27974857, 0.72025143],\n",
              "       [0.22587684, 0.77412316],\n",
              "       [0.5043884 , 0.4956116 ],\n",
              "       [0.44453161, 0.55546839],\n",
              "       [0.17462177, 0.82537823],\n",
              "       [0.32385031, 0.67614969],\n",
              "       [0.10394218, 0.89605782],\n",
              "       [0.18849029, 0.81150971],\n",
              "       [0.21757646, 0.78242354],\n",
              "       [0.77386168, 0.22613832],\n",
              "       [0.39172895, 0.60827105],\n",
              "       [0.13644307, 0.86355693],\n",
              "       [0.84193873, 0.15806127],\n",
              "       [0.48765035, 0.51234965],\n",
              "       [0.21406544, 0.78593456],\n",
              "       [0.31055311, 0.68944689],\n",
              "       [0.14981619, 0.85018381],\n",
              "       [0.30543324, 0.69456676],\n",
              "       [0.0503351 , 0.9496649 ],\n",
              "       [0.20850192, 0.79149808],\n",
              "       [0.25232205, 0.74767795],\n",
              "       [0.09517997, 0.90482003],\n",
              "       [0.18000051, 0.81999949],\n",
              "       [0.279532  , 0.720468  ],\n",
              "       [0.19515439, 0.80484561],\n",
              "       [0.07310453, 0.92689547],\n",
              "       [0.77743564, 0.22256436],\n",
              "       [0.26968333, 0.73031667],\n",
              "       [0.78322631, 0.21677369],\n",
              "       [0.12309788, 0.87690212],\n",
              "       [0.28610037, 0.71389963],\n",
              "       [0.23435397, 0.76564603],\n",
              "       [0.14860044, 0.85139956],\n",
              "       [0.23368753, 0.76631247],\n",
              "       [0.14913561, 0.85086439],\n",
              "       [0.25480244, 0.74519756],\n",
              "       [0.1310905 , 0.8689095 ],\n",
              "       [0.14047297, 0.85952703],\n",
              "       [0.20676256, 0.79323744],\n",
              "       [0.43798142, 0.56201858],\n",
              "       [0.19269616, 0.80730384],\n",
              "       [0.23082878, 0.76917122],\n",
              "       [0.13640604, 0.86359396],\n",
              "       [0.30100622, 0.69899378],\n",
              "       [0.28812977, 0.71187023],\n",
              "       [0.31831011, 0.68168989],\n",
              "       [0.13616838, 0.86383162],\n",
              "       [0.89175604, 0.10824396],\n",
              "       [0.63720198, 0.36279802],\n",
              "       [0.31395795, 0.68604205],\n",
              "       [0.27420917, 0.72579083],\n",
              "       [0.26948396, 0.73051604],\n",
              "       [0.25877037, 0.74122963],\n",
              "       [0.22906591, 0.77093409],\n",
              "       [0.66546447, 0.33453553],\n",
              "       [0.15032046, 0.84967954],\n",
              "       [0.19456297, 0.80543703],\n",
              "       [0.35158183, 0.64841817],\n",
              "       [0.81604108, 0.18395892],\n",
              "       [0.10015336, 0.89984664],\n",
              "       [0.18320851, 0.81679149],\n",
              "       [0.22577001, 0.77422999],\n",
              "       [0.0667434 , 0.9332566 ],\n",
              "       [0.34392122, 0.65607878],\n",
              "       [0.36073237, 0.63926763],\n",
              "       [0.35434802, 0.64565198],\n",
              "       [0.18913051, 0.81086949],\n",
              "       [0.21425762, 0.78574238],\n",
              "       [0.15609507, 0.84390493],\n",
              "       [0.11279122, 0.88720878],\n",
              "       [0.33756089, 0.66243911],\n",
              "       [0.22494762, 0.77505238],\n",
              "       [0.19423715, 0.80576285],\n",
              "       [0.3976183 , 0.6023817 ],\n",
              "       [0.40540547, 0.59459453],\n",
              "       [0.90066301, 0.09933699],\n",
              "       [0.24213408, 0.75786592],\n",
              "       [0.2948575 , 0.7051425 ],\n",
              "       [0.3840631 , 0.6159369 ],\n",
              "       [0.19720279, 0.80279721],\n",
              "       [0.243946  , 0.756054  ],\n",
              "       [0.85964833, 0.14035167],\n",
              "       [0.85755594, 0.14244406],\n",
              "       [0.22085014, 0.77914986],\n",
              "       [0.13843551, 0.86156449],\n",
              "       [0.36256257, 0.63743743],\n",
              "       [0.77521745, 0.22478255],\n",
              "       [0.12466072, 0.87533928],\n",
              "       [0.30420953, 0.69579047],\n",
              "       [0.36728409, 0.63271591],\n",
              "       [0.22332996, 0.77667004],\n",
              "       [0.2207235 , 0.7792765 ],\n",
              "       [0.39614012, 0.60385988],\n",
              "       [0.3656474 , 0.6343526 ],\n",
              "       [0.13477222, 0.86522778],\n",
              "       [0.21177131, 0.78822869],\n",
              "       [0.10695431, 0.89304569],\n",
              "       [0.27967778, 0.72032222],\n",
              "       [0.30721985, 0.69278015],\n",
              "       [0.14083156, 0.85916844],\n",
              "       [0.39125728, 0.60874272],\n",
              "       [0.79854734, 0.20145266],\n",
              "       [0.43453498, 0.56546502],\n",
              "       [0.84830613, 0.15169387],\n",
              "       [0.08782588, 0.91217412],\n",
              "       [0.19638917, 0.80361083],\n",
              "       [0.17862313, 0.82137687],\n",
              "       [0.47855332, 0.52144668],\n",
              "       [0.39321299, 0.60678701],\n",
              "       [0.42147674, 0.57852326],\n",
              "       [0.18487809, 0.81512191],\n",
              "       [0.25671004, 0.74328996],\n",
              "       [0.19551823, 0.80448177],\n",
              "       [0.0864987 , 0.9135013 ],\n",
              "       [0.24193913, 0.75806087],\n",
              "       [0.1508434 , 0.8491566 ],\n",
              "       [0.19714217, 0.80285783],\n",
              "       [0.23284563, 0.76715437]])"
            ]
          },
          "metadata": {
            "tags": []
          },
          "execution_count": 182
        }
      ]
    },
    {
      "cell_type": "code",
      "metadata": {
        "id": "c92Fj8aBskRU",
        "colab_type": "code",
        "colab": {
          "base_uri": "https://localhost:8080/",
          "height": 34
        },
        "outputId": "1a74a985-4b35-4691-f1e6-c4b46f668524"
      },
      "source": [
        "prob_positive  = probs[:,1]      \n",
        "fpr, tpr, threshold = metrics.roc_curve(y_test, prob_positive)\n",
        "roc_auc = metrics.auc(fpr, tpr)\n",
        "print(\"Area under the curve:\", roc_auc)"
      ],
      "execution_count": 183,
      "outputs": [
        {
          "output_type": "stream",
          "text": [
            "Area under the curve: 0.7541703248463565\n"
          ],
          "name": "stdout"
        }
      ]
    },
    {
      "cell_type": "code",
      "metadata": {
        "id": "gIoloNbSsq01",
        "colab_type": "code",
        "colab": {
          "base_uri": "https://localhost:8080/",
          "height": 295
        },
        "outputId": "6b4282f7-826d-4f91-80dc-eba0236958d9"
      },
      "source": [
        "# Plot ROC curve\n",
        "\n",
        "plt.title(\"Receiver Operating Characteristic\")\n",
        "plt.plot(fpr, tpr, 'orange', label = 'AUC = %0.4f' % roc_auc)\n",
        "plt.legend(loc = 'lower right')\n",
        "plt.plot([0,1], [0,1], color = 'darkblue', linestyle = '--')\n",
        "plt.ylabel('True Positive Rate')\n",
        "plt.xlabel('False Positive Rate')\n",
        "plt.show()"
      ],
      "execution_count": 184,
      "outputs": [
        {
          "output_type": "display_data",
          "data": {
            "image/png": "[encoded data removed]",
            "text/plain": [
              "<Figure size 432x288 with 1 Axes>"
            ]
          },
          "metadata": {
            "tags": [],
            "needs_background": "light"
          }
        }
      ]
    },
    {
      "cell_type": "markdown",
      "metadata": {
        "id": "es_6Gdd8x91h",
        "colab_type": "text"
      },
      "source": [
        "**KNN**"
      ]
    },
    {
      "cell_type": "code",
      "metadata": {
        "id": "j9l0X2BnyAdy",
        "colab_type": "code",
        "colab": {}
      },
      "source": [
        "from sklearn.neighbors import KNeighborsClassifier"
      ],
      "execution_count": 185,
      "outputs": []
    },
    {
      "cell_type": "code",
      "metadata": {
        "id": "0DYnegYgyDA3",
        "colab_type": "code",
        "colab": {}
      },
      "source": [
        "knn = KNeighborsClassifier(n_neighbors = 1)"
      ],
      "execution_count": 186,
      "outputs": []
    },
    {
      "cell_type": "code",
      "metadata": {
        "id": "hyTzG46KyFQx",
        "colab_type": "code",
        "colab": {
          "base_uri": "https://localhost:8080/",
          "height": 67
        },
        "outputId": "c91a77ff-9655-4551-d280-e9f51d6e21e5"
      },
      "source": [
        "knn.fit(X_train,y_train)"
      ],
      "execution_count": 187,
      "outputs": [
        {
          "output_type": "execute_result",
          "data": {
            "text/plain": [
              "KNeighborsClassifier(algorithm='auto', leaf_size=30, metric='minkowski',\n",
              "                     metric_params=None, n_jobs=None, n_neighbors=1, p=2,\n",
              "                     weights='uniform')"
            ]
          },
          "metadata": {
            "tags": []
          },
          "execution_count": 187
        }
      ]
    },
    {
      "cell_type": "code",
      "metadata": {
        "id": "UKnhjdnUyHls",
        "colab_type": "code",
        "colab": {}
      },
      "source": [
        "pred = knn.predict(X_test)"
      ],
      "execution_count": 188,
      "outputs": []
    },
    {
      "cell_type": "code",
      "metadata": {
        "id": "fpEwLxuFyKZG",
        "colab_type": "code",
        "colab": {
          "base_uri": "https://localhost:8080/",
          "height": 50
        },
        "outputId": "247bc2f2-3429-4646-c3c7-2fc2c2091235"
      },
      "source": [
        "print(confusion_matrix(y_test,pred))"
      ],
      "execution_count": 189,
      "outputs": [
        {
          "output_type": "stream",
          "text": [
            "[[17 34]\n",
            " [46 88]]\n"
          ],
          "name": "stdout"
        }
      ]
    },
    {
      "cell_type": "code",
      "metadata": {
        "id": "BDI6w7u7yM_u",
        "colab_type": "code",
        "colab": {
          "base_uri": "https://localhost:8080/",
          "height": 168
        },
        "outputId": "4924996d-eda8-4867-d4c0-7c3f4a5c3248"
      },
      "source": [
        "print(classification_report(y_test,pred))"
      ],
      "execution_count": 190,
      "outputs": [
        {
          "output_type": "stream",
          "text": [
            "              precision    recall  f1-score   support\n",
            "\n",
            "           0       0.27      0.33      0.30        51\n",
            "           1       0.72      0.66      0.69       134\n",
            "\n",
            "    accuracy                           0.57       185\n",
            "   macro avg       0.50      0.50      0.49       185\n",
            "weighted avg       0.60      0.57      0.58       185\n",
            "\n"
          ],
          "name": "stdout"
        }
      ]
    },
    {
      "cell_type": "code",
      "metadata": {
        "id": "IE5ARxE3yRTf",
        "colab_type": "code",
        "colab": {
          "base_uri": "https://localhost:8080/",
          "height": 54
        },
        "outputId": "37a0b39f-96a7-4104-f09d-273799c3d582"
      },
      "source": [
        "error_rate = []\n",
        "\n",
        "\n",
        "\n",
        "for i in range(1,40):\n",
        "  knn = KNeighborsClassifier(n_neighbors = i)\n",
        "  knn.fit(X_train,y_train)\n",
        "  pred_i = knn.predict(X_test)\n",
        "  error_rate.append(np.mean(pred_i != y_test))\n",
        "\n",
        "print(error_rate)"
      ],
      "execution_count": 191,
      "outputs": [
        {
          "output_type": "stream",
          "text": [
            "[0.43243243243243246, 0.4864864864864865, 0.40540540540540543, 0.42162162162162165, 0.372972972972973, 0.3891891891891892, 0.3675675675675676, 0.372972972972973, 0.31891891891891894, 0.35135135135135137, 0.3081081081081081, 0.34594594594594597, 0.32432432432432434, 0.33513513513513515, 0.32432432432432434, 0.31351351351351353, 0.2972972972972973, 0.32972972972972975, 0.3027027027027027, 0.31351351351351353, 0.2972972972972973, 0.31351351351351353, 0.2972972972972973, 0.2972972972972973, 0.2864864864864865, 0.2918918918918919, 0.2810810810810811, 0.2864864864864865, 0.2810810810810811, 0.2810810810810811, 0.2810810810810811, 0.2864864864864865, 0.2918918918918919, 0.2864864864864865, 0.2810810810810811, 0.2810810810810811, 0.2756756756756757, 0.2810810810810811, 0.2756756756756757]\n"
          ],
          "name": "stdout"
        }
      ]
    },
    {
      "cell_type": "code",
      "metadata": {
        "id": "87kWrIXlyXsr",
        "colab_type": "code",
        "colab": {
          "base_uri": "https://localhost:8080/",
          "height": 421
        },
        "outputId": "2d894066-438e-4182-f3e6-c3623e85e0ca"
      },
      "source": [
        "plt.figure(figsize = (10,6))\n",
        "plt.plot(range(1,40), error_rate, color = 'blue', linestyle = 'dashed', marker = 'o', markerfacecolor = 'red', markersize = 10)\n",
        "plt.title('Error Rate vs K Value')\n",
        "plt.xlabel('K')\n",
        "plt.ylabel('Error Rate')"
      ],
      "execution_count": 192,
      "outputs": [
        {
          "output_type": "execute_result",
          "data": {
            "text/plain": [
              "Text(0, 0.5, 'Error Rate')"
            ]
          },
          "metadata": {
            "tags": []
          },
          "execution_count": 192
        },
        {
          "output_type": "display_data",
          "data": {
            "image/png": "[encoded data removed]",
            "text/plain": [
              "<Figure size 720x432 with 1 Axes>"
            ]
          },
          "metadata": {
            "tags": [],
            "needs_background": "light"
          }
        }
      ]
    },
    {
      "cell_type": "code",
      "metadata": {
        "id": "uvwiZWX9y0Vp",
        "colab_type": "code",
        "colab": {
          "base_uri": "https://localhost:8080/",
          "height": 286
        },
        "outputId": "ccd3f1fa-73b5-45f7-8ec3-c6ab80a5ee34"
      },
      "source": [
        "knn = KNeighborsClassifier(n_neighbors = 25)\n",
        "\n",
        "knn.fit(X_train,y_train)\n",
        "pred = knn.predict(X_test)\n",
        "\n",
        "print('WITH K = 25')\n",
        "print('\\n')\n",
        "print(confusion_matrix(y_test,pred))\n",
        "print('\\n')\n",
        "print(classification_report(y_test,pred))"
      ],
      "execution_count": 193,
      "outputs": [
        {
          "output_type": "stream",
          "text": [
            "WITH K = 25\n",
            "\n",
            "\n",
            "[[  2  49]\n",
            " [  4 130]]\n",
            "\n",
            "\n",
            "              precision    recall  f1-score   support\n",
            "\n",
            "           0       0.33      0.04      0.07        51\n",
            "           1       0.73      0.97      0.83       134\n",
            "\n",
            "    accuracy                           0.71       185\n",
            "   macro avg       0.53      0.50      0.45       185\n",
            "weighted avg       0.62      0.71      0.62       185\n",
            "\n"
          ],
          "name": "stdout"
        }
      ]
    },
    {
      "cell_type": "markdown",
      "metadata": {
        "id": "sAR3zlgs0FQm",
        "colab_type": "text"
      },
      "source": [
        "**NAIVE BAYES**"
      ]
    },
    {
      "cell_type": "code",
      "metadata": {
        "id": "m-rVCSFD0KDH",
        "colab_type": "code",
        "colab": {
          "base_uri": "https://localhost:8080/",
          "height": 34
        },
        "outputId": "41bfaab2-93a8-4170-e464-31613f3787eb"
      },
      "source": [
        "from sklearn.naive_bayes import GaussianNB\n",
        "\n",
        "gnb = GaussianNB()\n",
        "\n",
        "gnb.fit(X_train, y_train)"
      ],
      "execution_count": 194,
      "outputs": [
        {
          "output_type": "execute_result",
          "data": {
            "text/plain": [
              "GaussianNB(priors=None, var_smoothing=1e-09)"
            ]
          },
          "metadata": {
            "tags": []
          },
          "execution_count": 194
        }
      ]
    },
    {
      "cell_type": "code",
      "metadata": {
        "id": "9XtwDM9o0MXB",
        "colab_type": "code",
        "colab": {
          "base_uri": "https://localhost:8080/",
          "height": 168
        },
        "outputId": "6631ff67-a682-496c-9e91-729763bea9ff"
      },
      "source": [
        "y_pred = gnb.predict(X_test)\n",
        "y_pred"
      ],
      "execution_count": 195,
      "outputs": [
        {
          "output_type": "execute_result",
          "data": {
            "text/plain": [
              "array([1, 1, 1, 1, 1, 0, 1, 1, 0, 1, 1, 1, 1, 1, 1, 1, 1, 1, 1, 0, 0, 1,\n",
              "       1, 1, 1, 1, 1, 1, 0, 0, 1, 1, 1, 1, 1, 0, 1, 1, 1, 1, 1, 0, 1, 1,\n",
              "       1, 1, 1, 1, 1, 1, 1, 1, 1, 1, 1, 1, 1, 1, 1, 1, 0, 1, 1, 0, 1, 1,\n",
              "       1, 1, 1, 1, 1, 1, 1, 1, 1, 1, 0, 1, 1, 0, 1, 1, 1, 1, 1, 1, 1, 0,\n",
              "       1, 1, 1, 1, 1, 0, 1, 0, 1, 1, 1, 1, 1, 1, 1, 1, 1, 1, 1, 1, 1, 1,\n",
              "       1, 1, 1, 1, 0, 0, 1, 1, 1, 1, 1, 0, 1, 1, 1, 0, 1, 1, 1, 1, 1, 1,\n",
              "       1, 1, 1, 1, 1, 1, 1, 1, 1, 1, 0, 1, 1, 1, 1, 0, 0, 0, 1, 1, 1, 0,\n",
              "       1, 1, 1, 1, 1, 1, 1, 1, 1, 1, 1, 1, 1, 1, 0, 1, 0, 1, 1, 1, 1, 1,\n",
              "       1, 1, 1, 1, 1, 1, 1, 1, 1])"
            ]
          },
          "metadata": {
            "tags": []
          },
          "execution_count": 195
        }
      ]
    },
    {
      "cell_type": "code",
      "metadata": {
        "id": "Nuz5mmuB0PCq",
        "colab_type": "code",
        "colab": {
          "base_uri": "https://localhost:8080/",
          "height": 34
        },
        "outputId": "fc858164-7895-4a91-dc6e-78741511dcbb"
      },
      "source": [
        "print('Model accuracy score : {0:0.4f}' . format(accuracy_score(y_test, y_pred)))"
      ],
      "execution_count": 196,
      "outputs": [
        {
          "output_type": "stream",
          "text": [
            "Model accuracy score : 0.8216\n"
          ],
          "name": "stdout"
        }
      ]
    },
    {
      "cell_type": "code",
      "metadata": {
        "id": "7G5u6UBJ0SFQ",
        "colab_type": "code",
        "colab": {
          "base_uri": "https://localhost:8080/",
          "height": 218
        },
        "outputId": "ae3106c6-0810-4fb8-8845-f17c57924fd0"
      },
      "source": [
        "cm = confusion_matrix(y_test, y_pred)\n",
        "\n",
        "print('Confusion matrix\\n\\n', cm)\n",
        "\n",
        "print('\\nTrue Positives (TP) = ', cm[0,0])\n",
        "\n",
        "print('\\nTrue Negatives (TN) = ', cm[1,1])\n",
        "\n",
        "print('\\nFalse Positives (FP) = ', cm[0,1])\n",
        "\n",
        "print('\\nFalse Negatives (FN) = ', cm[1,0])"
      ],
      "execution_count": 197,
      "outputs": [
        {
          "output_type": "stream",
          "text": [
            "Confusion matrix\n",
            "\n",
            " [[ 22  29]\n",
            " [  4 130]]\n",
            "\n",
            "True Positives (TP) =  22\n",
            "\n",
            "True Negatives (TN) =  130\n",
            "\n",
            "False Positives (FP) =  29\n",
            "\n",
            "False Negatives (FN) =  4\n"
          ],
          "name": "stdout"
        }
      ]
    },
    {
      "cell_type": "code",
      "metadata": {
        "id": "Txk7inDQ0Uak",
        "colab_type": "code",
        "colab": {
          "base_uri": "https://localhost:8080/",
          "height": 168
        },
        "outputId": "50438ac1-8e11-4dfe-afc9-f353b19f578d"
      },
      "source": [
        "print(classification_report(y_test, y_pred))"
      ],
      "execution_count": 198,
      "outputs": [
        {
          "output_type": "stream",
          "text": [
            "              precision    recall  f1-score   support\n",
            "\n",
            "           0       0.85      0.43      0.57        51\n",
            "           1       0.82      0.97      0.89       134\n",
            "\n",
            "    accuracy                           0.82       185\n",
            "   macro avg       0.83      0.70      0.73       185\n",
            "weighted avg       0.83      0.82      0.80       185\n",
            "\n"
          ],
          "name": "stdout"
        }
      ]
    },
    {
      "cell_type": "markdown",
      "metadata": {
        "id": "kWaMutc20fIl",
        "colab_type": "text"
      },
      "source": [
        "**SVM**"
      ]
    },
    {
      "cell_type": "markdown",
      "metadata": {
        "id": "OmPi-sqF09ij",
        "colab_type": "text"
      },
      "source": [
        "*Linear Kernel*"
      ]
    },
    {
      "cell_type": "code",
      "metadata": {
        "id": "NJOgXsKW1AcH",
        "colab_type": "code",
        "colab": {
          "base_uri": "https://localhost:8080/",
          "height": 84
        },
        "outputId": "eecf0a5d-d0b8-4659-be72-7fcd2bf1c244"
      },
      "source": [
        "from sklearn.svm import SVC\n",
        "svclassifier = SVC(kernel = 'linear')\n",
        "svclassifier.fit(X_train, y_train)"
      ],
      "execution_count": 199,
      "outputs": [
        {
          "output_type": "execute_result",
          "data": {
            "text/plain": [
              "SVC(C=1.0, break_ties=False, cache_size=200, class_weight=None, coef0=0.0,\n",
              "    decision_function_shape='ovr', degree=3, gamma='scale', kernel='linear',\n",
              "    max_iter=-1, probability=False, random_state=None, shrinking=True,\n",
              "    tol=0.001, verbose=False)"
            ]
          },
          "metadata": {
            "tags": []
          },
          "execution_count": 199
        }
      ]
    },
    {
      "cell_type": "code",
      "metadata": {
        "id": "v4jZ0Lee1DGC",
        "colab_type": "code",
        "colab": {}
      },
      "source": [
        "y_pred = svclassifier.predict(X_test)"
      ],
      "execution_count": 200,
      "outputs": []
    },
    {
      "cell_type": "code",
      "metadata": {
        "id": "JEw4rDUQ1F2B",
        "colab_type": "code",
        "colab": {
          "base_uri": "https://localhost:8080/",
          "height": 202
        },
        "outputId": "5206e8c8-f38b-4ce0-d785-c3bb240a801c"
      },
      "source": [
        "print(confusion_matrix(y_test, y_pred))\n",
        "print(classification_report(y_test, y_pred))"
      ],
      "execution_count": 201,
      "outputs": [
        {
          "output_type": "stream",
          "text": [
            "[[ 21  30]\n",
            " [  2 132]]\n",
            "              precision    recall  f1-score   support\n",
            "\n",
            "           0       0.91      0.41      0.57        51\n",
            "           1       0.81      0.99      0.89       134\n",
            "\n",
            "    accuracy                           0.83       185\n",
            "   macro avg       0.86      0.70      0.73       185\n",
            "weighted avg       0.84      0.83      0.80       185\n",
            "\n"
          ],
          "name": "stdout"
        }
      ]
    },
    {
      "cell_type": "markdown",
      "metadata": {
        "id": "UEhcD5bQ1Izc",
        "colab_type": "text"
      },
      "source": [
        "*Polynomial Kernel*"
      ]
    },
    {
      "cell_type": "code",
      "metadata": {
        "id": "4eMhgnWB1M4R",
        "colab_type": "code",
        "colab": {
          "base_uri": "https://localhost:8080/",
          "height": 84
        },
        "outputId": "6e7a3620-c5ad-4df6-d9fd-077832ddba91"
      },
      "source": [
        "svclassifier1 = SVC(kernel = 'poly', degree = 8)\n",
        "svclassifier1.fit(X_train, y_train)"
      ],
      "execution_count": 202,
      "outputs": [
        {
          "output_type": "execute_result",
          "data": {
            "text/plain": [
              "SVC(C=1.0, break_ties=False, cache_size=200, class_weight=None, coef0=0.0,\n",
              "    decision_function_shape='ovr', degree=8, gamma='scale', kernel='poly',\n",
              "    max_iter=-1, probability=False, random_state=None, shrinking=True,\n",
              "    tol=0.001, verbose=False)"
            ]
          },
          "metadata": {
            "tags": []
          },
          "execution_count": 202
        }
      ]
    },
    {
      "cell_type": "code",
      "metadata": {
        "id": "5jaMe8Ug1SJY",
        "colab_type": "code",
        "colab": {}
      },
      "source": [
        "y_pred1 = svclassifier1.predict(X_test)"
      ],
      "execution_count": 203,
      "outputs": []
    },
    {
      "cell_type": "code",
      "metadata": {
        "id": "uYXeQzfp1UoK",
        "colab_type": "code",
        "colab": {
          "base_uri": "https://localhost:8080/",
          "height": 202
        },
        "outputId": "6ffd4f22-2811-4b11-d41f-25c0166e36db"
      },
      "source": [
        "print(confusion_matrix(y_test, y_pred1))\n",
        "print(classification_report(y_test, y_pred1))"
      ],
      "execution_count": 204,
      "outputs": [
        {
          "output_type": "stream",
          "text": [
            "[[  0  51]\n",
            " [  1 133]]\n",
            "              precision    recall  f1-score   support\n",
            "\n",
            "           0       0.00      0.00      0.00        51\n",
            "           1       0.72      0.99      0.84       134\n",
            "\n",
            "    accuracy                           0.72       185\n",
            "   macro avg       0.36      0.50      0.42       185\n",
            "weighted avg       0.52      0.72      0.61       185\n",
            "\n"
          ],
          "name": "stdout"
        }
      ]
    },
    {
      "cell_type": "markdown",
      "metadata": {
        "id": "uon0TiST1YUf",
        "colab_type": "text"
      },
      "source": [
        "*RBF Kernel or the Gaussian Kernel*"
      ]
    },
    {
      "cell_type": "code",
      "metadata": {
        "id": "QFKJTqoG1aHw",
        "colab_type": "code",
        "colab": {
          "base_uri": "https://localhost:8080/",
          "height": 84
        },
        "outputId": "81b52ee8-1f0a-4328-91c4-970bbc991ee8"
      },
      "source": [
        "svclassifier2 = SVC(kernel = 'rbf')\n",
        "svclassifier2.fit(X_train, y_train)"
      ],
      "execution_count": 205,
      "outputs": [
        {
          "output_type": "execute_result",
          "data": {
            "text/plain": [
              "SVC(C=1.0, break_ties=False, cache_size=200, class_weight=None, coef0=0.0,\n",
              "    decision_function_shape='ovr', degree=3, gamma='scale', kernel='rbf',\n",
              "    max_iter=-1, probability=False, random_state=None, shrinking=True,\n",
              "    tol=0.001, verbose=False)"
            ]
          },
          "metadata": {
            "tags": []
          },
          "execution_count": 205
        }
      ]
    },
    {
      "cell_type": "code",
      "metadata": {
        "id": "4e_F1JKG1dc6",
        "colab_type": "code",
        "colab": {}
      },
      "source": [
        "y_pred2 = svclassifier2.predict(X_test)"
      ],
      "execution_count": 206,
      "outputs": []
    },
    {
      "cell_type": "code",
      "metadata": {
        "id": "4OLznFdl1gnF",
        "colab_type": "code",
        "colab": {
          "base_uri": "https://localhost:8080/",
          "height": 255
        },
        "outputId": "73774b80-2b98-42e5-db45-150fdefb1bfb"
      },
      "source": [
        "print(confusion_matrix(y_test, y_pred2))\n",
        "print(classification_report(y_test, y_pred2))"
      ],
      "execution_count": 207,
      "outputs": [
        {
          "output_type": "stream",
          "text": [
            "[[  0  51]\n",
            " [  0 134]]\n",
            "              precision    recall  f1-score   support\n",
            "\n",
            "           0       0.00      0.00      0.00        51\n",
            "           1       0.72      1.00      0.84       134\n",
            "\n",
            "    accuracy                           0.72       185\n",
            "   macro avg       0.36      0.50      0.42       185\n",
            "weighted avg       0.52      0.72      0.61       185\n",
            "\n"
          ],
          "name": "stdout"
        },
        {
          "output_type": "stream",
          "text": [
            "/usr/local/lib/python3.6/dist-packages/sklearn/metrics/_classification.py:1272: UndefinedMetricWarning: Precision and F-score are ill-defined and being set to 0.0 in labels with no predicted samples. Use `zero_division` parameter to control this behavior.\n",
            "  _warn_prf(average, modifier, msg_start, len(result))\n"
          ],
          "name": "stderr"
        }
      ]
    },
    {
      "cell_type": "markdown",
      "metadata": {
        "id": "RTdNefAC1lHk",
        "colab_type": "text"
      },
      "source": [
        "*Sigmoid Kernel*"
      ]
    },
    {
      "cell_type": "code",
      "metadata": {
        "id": "E9x-UeYS1kNh",
        "colab_type": "code",
        "colab": {
          "base_uri": "https://localhost:8080/",
          "height": 84
        },
        "outputId": "43b354d5-4eb7-4175-cdf0-94cb9c6bd589"
      },
      "source": [
        "svclassifier3 = SVC(kernel = 'sigmoid')\n",
        "svclassifier3.fit(X_train, y_train)"
      ],
      "execution_count": 208,
      "outputs": [
        {
          "output_type": "execute_result",
          "data": {
            "text/plain": [
              "SVC(C=1.0, break_ties=False, cache_size=200, class_weight=None, coef0=0.0,\n",
              "    decision_function_shape='ovr', degree=3, gamma='scale', kernel='sigmoid',\n",
              "    max_iter=-1, probability=False, random_state=None, shrinking=True,\n",
              "    tol=0.001, verbose=False)"
            ]
          },
          "metadata": {
            "tags": []
          },
          "execution_count": 208
        }
      ]
    },
    {
      "cell_type": "code",
      "metadata": {
        "id": "zSbqvBtw1rj8",
        "colab_type": "code",
        "colab": {}
      },
      "source": [
        "y_pred3 = svclassifier3.predict(X_test)"
      ],
      "execution_count": 209,
      "outputs": []
    },
    {
      "cell_type": "code",
      "metadata": {
        "id": "_He4UCen1uDQ",
        "colab_type": "code",
        "colab": {
          "base_uri": "https://localhost:8080/",
          "height": 202
        },
        "outputId": "79211d32-9ef9-4a9a-9a3d-b622bc071327"
      },
      "source": [
        "print(confusion_matrix(y_test, y_pred3))\n",
        "print(classification_report(y_test, y_pred3))"
      ],
      "execution_count": 210,
      "outputs": [
        {
          "output_type": "stream",
          "text": [
            "[[ 9 42]\n",
            " [35 99]]\n",
            "              precision    recall  f1-score   support\n",
            "\n",
            "           0       0.20      0.18      0.19        51\n",
            "           1       0.70      0.74      0.72       134\n",
            "\n",
            "    accuracy                           0.58       185\n",
            "   macro avg       0.45      0.46      0.45       185\n",
            "weighted avg       0.56      0.58      0.57       185\n",
            "\n"
          ],
          "name": "stdout"
        }
      ]
    },
    {
      "cell_type": "markdown",
      "metadata": {
        "id": "RTuxrgjg7o_7",
        "colab_type": "text"
      },
      "source": [
        "**DECISION TREE**"
      ]
    },
    {
      "cell_type": "code",
      "metadata": {
        "id": "g-u7vd0J7qhy",
        "colab_type": "code",
        "colab": {
          "base_uri": "https://localhost:8080/",
          "height": 118
        },
        "outputId": "71071a01-4955-42b0-ab70-49bf8676e54f"
      },
      "source": [
        "from sklearn.tree import DecisionTreeClassifier\n",
        "clf = DecisionTreeClassifier()\n",
        "clf.fit(X_train, y_train)"
      ],
      "execution_count": 211,
      "outputs": [
        {
          "output_type": "execute_result",
          "data": {
            "text/plain": [
              "DecisionTreeClassifier(ccp_alpha=0.0, class_weight=None, criterion='gini',\n",
              "                       max_depth=None, max_features=None, max_leaf_nodes=None,\n",
              "                       min_impurity_decrease=0.0, min_impurity_split=None,\n",
              "                       min_samples_leaf=1, min_samples_split=2,\n",
              "                       min_weight_fraction_leaf=0.0, presort='deprecated',\n",
              "                       random_state=None, splitter='best')"
            ]
          },
          "metadata": {
            "tags": []
          },
          "execution_count": 211
        }
      ]
    },
    {
      "cell_type": "code",
      "metadata": {
        "id": "P9ywBk_K7up_",
        "colab_type": "code",
        "colab": {
          "base_uri": "https://localhost:8080/",
          "height": 168
        },
        "outputId": "8034519f-e79b-4ebb-f63e-f19711452dc8"
      },
      "source": [
        "y_pred = clf.predict(X_test)\n",
        "y_pred"
      ],
      "execution_count": 212,
      "outputs": [
        {
          "output_type": "execute_result",
          "data": {
            "text/plain": [
              "array([1, 1, 1, 0, 1, 0, 0, 0, 0, 1, 1, 1, 0, 1, 1, 1, 1, 1, 1, 0, 0, 1,\n",
              "       1, 0, 1, 1, 0, 1, 0, 0, 1, 1, 1, 1, 1, 0, 0, 1, 1, 1, 1, 0, 1, 1,\n",
              "       1, 1, 1, 1, 0, 1, 1, 1, 1, 1, 1, 0, 1, 0, 1, 1, 0, 0, 1, 0, 0, 1,\n",
              "       1, 1, 0, 1, 1, 1, 1, 0, 1, 1, 0, 0, 1, 0, 1, 1, 1, 1, 1, 0, 1, 1,\n",
              "       1, 1, 1, 1, 1, 1, 1, 0, 1, 1, 1, 1, 1, 1, 1, 1, 1, 1, 1, 1, 1, 1,\n",
              "       1, 1, 1, 1, 0, 0, 1, 1, 1, 1, 0, 0, 0, 1, 0, 0, 1, 0, 1, 1, 1, 1,\n",
              "       1, 1, 1, 1, 1, 1, 1, 1, 1, 1, 0, 1, 1, 0, 1, 1, 0, 0, 1, 1, 1, 0,\n",
              "       1, 1, 1, 1, 1, 1, 1, 1, 1, 0, 1, 0, 1, 0, 1, 1, 0, 1, 1, 1, 1, 1,\n",
              "       0, 1, 0, 1, 1, 1, 1, 1, 1])"
            ]
          },
          "metadata": {
            "tags": []
          },
          "execution_count": 212
        }
      ]
    },
    {
      "cell_type": "code",
      "metadata": {
        "id": "fvK5bEGX7w4t",
        "colab_type": "code",
        "colab": {
          "base_uri": "https://localhost:8080/",
          "height": 67
        },
        "outputId": "e69d1b57-c956-4520-cc2b-22f330a781d9"
      },
      "source": [
        "cm = confusion_matrix(y_test, y_pred)\n",
        "print('Confusion matrix is :', cm, sep = '\\n')"
      ],
      "execution_count": 213,
      "outputs": [
        {
          "output_type": "stream",
          "text": [
            "Confusion matrix is :\n",
            "[[ 28  23]\n",
            " [ 20 114]]\n"
          ],
          "name": "stdout"
        }
      ]
    },
    {
      "cell_type": "code",
      "metadata": {
        "id": "FF-aqe8n7zIX",
        "colab_type": "code",
        "colab": {}
      },
      "source": [
        "cols = list(x.columns.values)"
      ],
      "execution_count": 214,
      "outputs": []
    },
    {
      "cell_type": "code",
      "metadata": {
        "id": "zDWMguwjdT8q",
        "colab_type": "code",
        "colab": {
          "base_uri": "https://localhost:8080/",
          "height": 34
        },
        "outputId": "b2ca9cd9-0efa-4c78-ee00-3d6bed3f4bb3"
      },
      "source": [
        "print('Accuracy (in %) :', accuracy_score(y_test, y_pred)*100)"
      ],
      "execution_count": 215,
      "outputs": [
        {
          "output_type": "stream",
          "text": [
            "Accuracy (in %) : 76.75675675675676\n"
          ],
          "name": "stdout"
        }
      ]
    },
    {
      "cell_type": "code",
      "metadata": {
        "id": "oMUtzXJa71dc",
        "colab_type": "code",
        "colab": {
          "base_uri": "https://localhost:8080/",
          "height": 466
        },
        "outputId": "cc55bc8b-868e-4828-d059-382f14040d4a"
      },
      "source": [
        "from sklearn import tree\n",
        "\n",
        "plt.figure(figsize = (15,8))\n",
        "tree.plot_tree(clf.fit(x, y), feature_names = cols, filled = True, precision = 3, proportion = True, rounded = True)\n",
        "plt.show()"
      ],
      "execution_count": 216,
      "outputs": [
        {
          "output_type": "display_data",
          "data": {
            "image/png": "[encoded data removed]",
            "text/plain": [
              "<Figure size 1080x576 with 1 Axes>"
            ]
          },
          "metadata": {
            "tags": [],
            "needs_background": "light"
          }
        }
      ]
    },
    {
      "cell_type": "markdown",
      "metadata": {
        "id": "zf5r9LbVXFgD",
        "colab_type": "text"
      },
      "source": [
        "*PRUNING*"
      ]
    },
    {
      "cell_type": "code",
      "metadata": {
        "id": "DsC3pAwrXE9n",
        "colab_type": "code",
        "colab": {
          "base_uri": "https://localhost:8080/",
          "height": 118
        },
        "outputId": "a44226f7-4225-47b4-ff51-ecec232f3cad"
      },
      "source": [
        "clf = DecisionTreeClassifier(criterion = 'gini', splitter = 'random', max_leaf_nodes = 10, min_samples_leaf = 5, max_depth = 5)\n",
        "clf.fit(X_train, y_train)"
      ],
      "execution_count": 217,
      "outputs": [
        {
          "output_type": "execute_result",
          "data": {
            "text/plain": [
              "DecisionTreeClassifier(ccp_alpha=0.0, class_weight=None, criterion='gini',\n",
              "                       max_depth=5, max_features=None, max_leaf_nodes=10,\n",
              "                       min_impurity_decrease=0.0, min_impurity_split=None,\n",
              "                       min_samples_leaf=5, min_samples_split=2,\n",
              "                       min_weight_fraction_leaf=0.0, presort='deprecated',\n",
              "                       random_state=None, splitter='random')"
            ]
          },
          "metadata": {
            "tags": []
          },
          "execution_count": 217
        }
      ]
    },
    {
      "cell_type": "code",
      "metadata": {
        "id": "ZJcj-RauXfOV",
        "colab_type": "code",
        "colab": {
          "base_uri": "https://localhost:8080/",
          "height": 168
        },
        "outputId": "5b0bdab7-5e3d-4224-8137-ed76e598fdb0"
      },
      "source": [
        "y_pred = clf.predict(X_test)\n",
        "y_pred"
      ],
      "execution_count": 218,
      "outputs": [
        {
          "output_type": "execute_result",
          "data": {
            "text/plain": [
              "array([1, 1, 1, 1, 1, 0, 1, 1, 0, 1, 1, 1, 1, 1, 1, 1, 1, 1, 1, 0, 0, 1,\n",
              "       1, 1, 1, 1, 1, 1, 0, 0, 1, 1, 1, 1, 1, 0, 1, 1, 1, 1, 1, 0, 1, 1,\n",
              "       1, 1, 1, 1, 1, 1, 1, 1, 1, 1, 1, 1, 1, 1, 1, 1, 0, 1, 1, 0, 1, 1,\n",
              "       1, 1, 1, 1, 1, 1, 1, 1, 1, 1, 1, 1, 1, 0, 1, 1, 1, 1, 1, 1, 1, 1,\n",
              "       1, 1, 1, 1, 1, 0, 1, 0, 1, 1, 1, 1, 1, 1, 1, 1, 1, 1, 1, 1, 1, 1,\n",
              "       1, 1, 1, 1, 0, 0, 1, 1, 1, 1, 1, 0, 1, 1, 1, 0, 1, 1, 1, 1, 1, 1,\n",
              "       1, 1, 1, 1, 1, 1, 1, 1, 1, 1, 0, 1, 1, 1, 1, 1, 0, 0, 1, 1, 1, 0,\n",
              "       1, 1, 1, 1, 1, 1, 1, 1, 1, 1, 1, 1, 1, 1, 0, 1, 0, 1, 1, 1, 1, 1,\n",
              "       1, 1, 1, 1, 1, 1, 1, 1, 1])"
            ]
          },
          "metadata": {
            "tags": []
          },
          "execution_count": 218
        }
      ]
    },
    {
      "cell_type": "code",
      "metadata": {
        "id": "qJnMGG5WXhe2",
        "colab_type": "code",
        "colab": {
          "base_uri": "https://localhost:8080/",
          "height": 67
        },
        "outputId": "244f82e7-c9b8-4de0-bfc2-8e72062c04d5"
      },
      "source": [
        "cm = confusion_matrix(y_test, y_pred)\n",
        "print('Confusion matrix is :', cm, sep = '\\n')"
      ],
      "execution_count": 219,
      "outputs": [
        {
          "output_type": "stream",
          "text": [
            "Confusion matrix is :\n",
            "[[ 21  30]\n",
            " [  2 132]]\n"
          ],
          "name": "stdout"
        }
      ]
    },
    {
      "cell_type": "code",
      "metadata": {
        "id": "B8Zps90bXkER",
        "colab_type": "code",
        "colab": {}
      },
      "source": [
        "cols = list(x.columns.values)"
      ],
      "execution_count": 220,
      "outputs": []
    },
    {
      "cell_type": "code",
      "metadata": {
        "id": "jelHvax8XmiF",
        "colab_type": "code",
        "colab": {
          "base_uri": "https://localhost:8080/",
          "height": 34
        },
        "outputId": "c38752d1-e46d-4a75-f652-a962f4633964"
      },
      "source": [
        "print('Accuracy (in %) :', accuracy_score(y_test, y_pred)*100)"
      ],
      "execution_count": 221,
      "outputs": [
        {
          "output_type": "stream",
          "text": [
            "Accuracy (in %) : 82.70270270270271\n"
          ],
          "name": "stdout"
        }
      ]
    },
    {
      "cell_type": "code",
      "metadata": {
        "id": "j2aOfPZiXpHJ",
        "colab_type": "code",
        "colab": {
          "base_uri": "https://localhost:8080/",
          "height": 466
        },
        "outputId": "1db25be7-30ab-4270-dbe8-6c4e1e7ebff1"
      },
      "source": [
        "from sklearn import tree\n",
        "plt.figure(figsize = (15,8))\n",
        "tree.plot_tree(clf.fit(x, y), feature_names = cols, filled = True, precision = 3, proportion = True, rounded = True)\n",
        "plt.show()"
      ],
      "execution_count": 222,
      "outputs": [
        {
          "output_type": "display_data",
          "data": {
            "image/png": "[encoded data removed]",
            "text/plain": [
              "<Figure size 1080x576 with 1 Axes>"
            ]
          },
          "metadata": {
            "tags": [],
            "needs_background": "light"
          }
        }
      ]
    },
    {
      "cell_type": "markdown",
      "metadata": {
        "id": "kOggPZg9YtEU",
        "colab_type": "text"
      },
      "source": [
        "**RANDOM FOREST**"
      ]
    },
    {
      "cell_type": "code",
      "metadata": {
        "id": "9eapSzHiYu8U",
        "colab_type": "code",
        "colab": {
          "base_uri": "https://localhost:8080/",
          "height": 151
        },
        "outputId": "dc5b274d-83d8-4817-b95c-bddf00a91ff2"
      },
      "source": [
        "from sklearn.ensemble import RandomForestClassifier\n",
        "classifier = RandomForestClassifier(n_estimators = 20, criterion = 'gini', random_state = 1, max_depth = 3)\n",
        "classifier.fit(X_train, y_train)"
      ],
      "execution_count": 223,
      "outputs": [
        {
          "output_type": "execute_result",
          "data": {
            "text/plain": [
              "RandomForestClassifier(bootstrap=True, ccp_alpha=0.0, class_weight=None,\n",
              "                       criterion='gini', max_depth=3, max_features='auto',\n",
              "                       max_leaf_nodes=None, max_samples=None,\n",
              "                       min_impurity_decrease=0.0, min_impurity_split=None,\n",
              "                       min_samples_leaf=1, min_samples_split=2,\n",
              "                       min_weight_fraction_leaf=0.0, n_estimators=20,\n",
              "                       n_jobs=None, oob_score=False, random_state=1, verbose=0,\n",
              "                       warm_start=False)"
            ]
          },
          "metadata": {
            "tags": []
          },
          "execution_count": 223
        }
      ]
    },
    {
      "cell_type": "code",
      "metadata": {
        "id": "7nEm-qs9YyUN",
        "colab_type": "code",
        "colab": {}
      },
      "source": [
        "y_pred = classifier.predict(X_test)"
      ],
      "execution_count": 224,
      "outputs": []
    },
    {
      "cell_type": "code",
      "metadata": {
        "id": "3zmFtmmmY0Rm",
        "colab_type": "code",
        "colab": {
          "base_uri": "https://localhost:8080/",
          "height": 218
        },
        "outputId": "f6bfd2bd-3c73-4c21-ce90-f6cba1cd2b93"
      },
      "source": [
        "print(confusion_matrix(y_test, y_pred))\n",
        "\n",
        "print(classification_report(y_test, y_pred))\n",
        "\n",
        "print(accuracy_score(y_test, y_pred))"
      ],
      "execution_count": 225,
      "outputs": [
        {
          "output_type": "stream",
          "text": [
            "[[ 21  30]\n",
            " [  2 132]]\n",
            "              precision    recall  f1-score   support\n",
            "\n",
            "           0       0.91      0.41      0.57        51\n",
            "           1       0.81      0.99      0.89       134\n",
            "\n",
            "    accuracy                           0.83       185\n",
            "   macro avg       0.86      0.70      0.73       185\n",
            "weighted avg       0.84      0.83      0.80       185\n",
            "\n",
            "0.827027027027027\n"
          ],
          "name": "stdout"
        }
      ]
    },
    {
      "cell_type": "code",
      "metadata": {
        "id": "Cyl9Bew4Y5bZ",
        "colab_type": "code",
        "colab": {}
      },
      "source": [
        "feature_imp = pd.Series(classifier.feature_importances_, index = x.columns).sort_values(ascending = False)"
      ],
      "execution_count": 226,
      "outputs": []
    },
    {
      "cell_type": "code",
      "metadata": {
        "id": "ICf43lyDY8Rg",
        "colab_type": "code",
        "colab": {
          "base_uri": "https://localhost:8080/",
          "height": 218
        },
        "outputId": "ef1e97b5-0a07-4d44-952e-b71bb5919e83"
      },
      "source": [
        "feature_imp"
      ],
      "execution_count": 227,
      "outputs": [
        {
          "output_type": "execute_result",
          "data": {
            "text/plain": [
              "Credit_History       0.616304\n",
              "ApplicantIncome      0.118037\n",
              "LoanAmount           0.103016\n",
              "CoapplicantIncome    0.061363\n",
              "Property_Area        0.036916\n",
              "Married              0.020773\n",
              "Loan_Amount_Term     0.019292\n",
              "Dependents           0.012644\n",
              "Gender               0.010812\n",
              "Education            0.000843\n",
              "Self_Employed        0.000000\n",
              "dtype: float64"
            ]
          },
          "metadata": {
            "tags": []
          },
          "execution_count": 227
        }
      ]
    },
    {
      "cell_type": "code",
      "metadata": {
        "id": "0zQ-x3p2Y-ST",
        "colab_type": "code",
        "colab": {
          "base_uri": "https://localhost:8080/",
          "height": 295
        },
        "outputId": "60df1dd7-cce2-40f3-bef7-157432064412"
      },
      "source": [
        "sns.barplot(x = feature_imp, y = feature_imp.index)\n",
        "plt.xlabel(\"Feature Importance Score\")\n",
        "plt.ylabel(\"Features\")\n",
        "plt.title(\"Visualizing Important Features\")\n",
        "plt.show()"
      ],
      "execution_count": 228,
      "outputs": [
        {
          "output_type": "display_data",
          "data": {
            "image/png": "[encoded data removed]",
            "text/plain": [
              "<Figure size 432x288 with 1 Axes>"
            ]
          },
          "metadata": {
            "tags": [],
            "needs_background": "light"
          }
        }
      ]
    },
    {
      "cell_type": "code",
      "metadata": {
        "id": "i17t7LauZAvz",
        "colab_type": "code",
        "colab": {
          "base_uri": "https://localhost:8080/",
          "height": 286
        },
        "outputId": "b4ebadd6-75a8-4c99-ef09-19f192f0a9f2"
      },
      "source": [
        "from sklearn.feature_selection import SelectFromModel\n",
        "feat_sel = SelectFromModel(classifier, threshold = 0.1)\n",
        "feat_sel.fit(X_train, y_train)"
      ],
      "execution_count": 229,
      "outputs": [
        {
          "output_type": "execute_result",
          "data": {
            "text/plain": [
              "SelectFromModel(estimator=RandomForestClassifier(bootstrap=True, ccp_alpha=0.0,\n",
              "                                                 class_weight=None,\n",
              "                                                 criterion='gini', max_depth=3,\n",
              "                                                 max_features='auto',\n",
              "                                                 max_leaf_nodes=None,\n",
              "                                                 max_samples=None,\n",
              "                                                 min_impurity_decrease=0.0,\n",
              "                                                 min_impurity_split=None,\n",
              "                                                 min_samples_leaf=1,\n",
              "                                                 min_samples_split=2,\n",
              "                                                 min_weight_fraction_leaf=0.0,\n",
              "                                                 n_estimators=20, n_jobs=None,\n",
              "                                                 oob_score=False,\n",
              "                                                 random_state=1, verbose=0,\n",
              "                                                 warm_start=False),\n",
              "                max_features=None, norm_order=1, prefit=False, threshold=0.1)"
            ]
          },
          "metadata": {
            "tags": []
          },
          "execution_count": 229
        }
      ]
    },
    {
      "cell_type": "code",
      "metadata": {
        "id": "sfQpGDbxZDLc",
        "colab_type": "code",
        "colab": {}
      },
      "source": [
        "X_imp_train = feat_sel.transform(X_train)\n",
        "X_imp_test = feat_sel.transform(X_test)"
      ],
      "execution_count": 230,
      "outputs": []
    },
    {
      "cell_type": "code",
      "metadata": {
        "id": "_CefIqGWZFZV",
        "colab_type": "code",
        "colab": {
          "base_uri": "https://localhost:8080/",
          "height": 151
        },
        "outputId": "823ad654-782a-4b3f-b081-3243dddb1850"
      },
      "source": [
        "clf_imp = RandomForestClassifier(n_estimators = 20, criterion = 'gini', random_state = 1, max_depth = 7)\n",
        "clf_imp.fit(X_imp_train, y_train)"
      ],
      "execution_count": 231,
      "outputs": [
        {
          "output_type": "execute_result",
          "data": {
            "text/plain": [
              "RandomForestClassifier(bootstrap=True, ccp_alpha=0.0, class_weight=None,\n",
              "                       criterion='gini', max_depth=7, max_features='auto',\n",
              "                       max_leaf_nodes=None, max_samples=None,\n",
              "                       min_impurity_decrease=0.0, min_impurity_split=None,\n",
              "                       min_samples_leaf=1, min_samples_split=2,\n",
              "                       min_weight_fraction_leaf=0.0, n_estimators=20,\n",
              "                       n_jobs=None, oob_score=False, random_state=1, verbose=0,\n",
              "                       warm_start=False)"
            ]
          },
          "metadata": {
            "tags": []
          },
          "execution_count": 231
        }
      ]
    },
    {
      "cell_type": "code",
      "metadata": {
        "id": "y5myZEu4ZcNy",
        "colab_type": "code",
        "colab": {
          "base_uri": "https://localhost:8080/",
          "height": 34
        },
        "outputId": "14767eed-3cc9-4f1c-e93f-e8fc10420dc6"
      },
      "source": [
        "y_pred = classifier.predict(X_test)\n",
        "accuracy_score(y_test, y_pred)"
      ],
      "execution_count": 232,
      "outputs": [
        {
          "output_type": "execute_result",
          "data": {
            "text/plain": [
              "0.827027027027027"
            ]
          },
          "metadata": {
            "tags": []
          },
          "execution_count": 232
        }
      ]
    },
    {
      "cell_type": "code",
      "metadata": {
        "id": "6eHhYE8qZefC",
        "colab_type": "code",
        "colab": {
          "base_uri": "https://localhost:8080/",
          "height": 34
        },
        "outputId": "eab4b9a1-9bbd-4569-8209-732f92edb22e"
      },
      "source": [
        "y_imp_pred = clf_imp.predict(X_imp_test)\n",
        "accuracy_score(y_test, y_imp_pred)"
      ],
      "execution_count": 233,
      "outputs": [
        {
          "output_type": "execute_result",
          "data": {
            "text/plain": [
              "0.8"
            ]
          },
          "metadata": {
            "tags": []
          },
          "execution_count": 233
        }
      ]
    },
    {
      "cell_type": "markdown",
      "metadata": {
        "id": "SCx1dGPfiVU0",
        "colab_type": "text"
      },
      "source": [
        "**PREDICTING TEST DATA**"
      ]
    },
    {
      "cell_type": "markdown",
      "metadata": {
        "id": "ot9ZZX9T79eI",
        "colab_type": "text"
      },
      "source": [
        "Data preprocessing"
      ]
    },
    {
      "cell_type": "code",
      "metadata": {
        "id": "1HbhzlajiaOM",
        "colab_type": "code",
        "colab": {
          "base_uri": "https://localhost:8080/",
          "height": 195
        },
        "outputId": "5087422d-07eb-4e0c-f0f4-2f26c72d4dda"
      },
      "source": [
        "test = pd.read_csv(\"test_lAUu6dG.csv\")\n",
        "test.head()"
      ],
      "execution_count": 234,
      "outputs": [
        {
          "output_type": "execute_result",
          "data": {
            "text/html": [
              "<div>\n",
              "<style scoped>\n",
              "    .dataframe tbody tr th:only-of-type {\n",
              "        vertical-align: middle;\n",
              "    }\n",
              "\n",
              "    .dataframe tbody tr th {\n",
              "        vertical-align: top;\n",
              "    }\n",
              "\n",
              "    .dataframe thead th {\n",
              "        text-align: right;\n",
              "    }\n",
              "</style>\n",
              "<table border=\"1\" class=\"dataframe\">\n",
              "  <thead>\n",
              "    <tr style=\"text-align: right;\">\n",
              "      <th></th>\n",
              "      <th>Loan_ID</th>\n",
              "      <th>Gender</th>\n",
              "      <th>Married</th>\n",
              "      <th>Dependents</th>\n",
              "      <th>Education</th>\n",
              "      <th>Self_Employed</th>\n",
              "      <th>ApplicantIncome</th>\n",
              "      <th>CoapplicantIncome</th>\n",
              "      <th>LoanAmount</th>\n",
              "      <th>Loan_Amount_Term</th>\n",
              "      <th>Credit_History</th>\n",
              "      <th>Property_Area</th>\n",
              "    </tr>\n",
              "  </thead>\n",
              "  <tbody>\n",
              "    <tr>\n",
              "      <th>0</th>\n",
              "      <td>LP001015</td>\n",
              "      <td>Male</td>\n",
              "      <td>Yes</td>\n",
              "      <td>0</td>\n",
              "      <td>Graduate</td>\n",
              "      <td>No</td>\n",
              "      <td>5720</td>\n",
              "      <td>0</td>\n",
              "      <td>110.0</td>\n",
              "      <td>360.0</td>\n",
              "      <td>1.0</td>\n",
              "      <td>Urban</td>\n",
              "    </tr>\n",
              "    <tr>\n",
              "      <th>1</th>\n",
              "      <td>LP001022</td>\n",
              "      <td>Male</td>\n",
              "      <td>Yes</td>\n",
              "      <td>1</td>\n",
              "      <td>Graduate</td>\n",
              "      <td>No</td>\n",
              "      <td>3076</td>\n",
              "      <td>1500</td>\n",
              "      <td>126.0</td>\n",
              "      <td>360.0</td>\n",
              "      <td>1.0</td>\n",
              "      <td>Urban</td>\n",
              "    </tr>\n",
              "    <tr>\n",
              "      <th>2</th>\n",
              "      <td>LP001031</td>\n",
              "      <td>Male</td>\n",
              "      <td>Yes</td>\n",
              "      <td>2</td>\n",
              "      <td>Graduate</td>\n",
              "      <td>No</td>\n",
              "      <td>5000</td>\n",
              "      <td>1800</td>\n",
              "      <td>208.0</td>\n",
              "      <td>360.0</td>\n",
              "      <td>1.0</td>\n",
              "      <td>Urban</td>\n",
              "    </tr>\n",
              "    <tr>\n",
              "      <th>3</th>\n",
              "      <td>LP001035</td>\n",
              "      <td>Male</td>\n",
              "      <td>Yes</td>\n",
              "      <td>2</td>\n",
              "      <td>Graduate</td>\n",
              "      <td>No</td>\n",
              "      <td>2340</td>\n",
              "      <td>2546</td>\n",
              "      <td>100.0</td>\n",
              "      <td>360.0</td>\n",
              "      <td>NaN</td>\n",
              "      <td>Urban</td>\n",
              "    </tr>\n",
              "    <tr>\n",
              "      <th>4</th>\n",
              "      <td>LP001051</td>\n",
              "      <td>Male</td>\n",
              "      <td>No</td>\n",
              "      <td>0</td>\n",
              "      <td>Not Graduate</td>\n",
              "      <td>No</td>\n",
              "      <td>3276</td>\n",
              "      <td>0</td>\n",
              "      <td>78.0</td>\n",
              "      <td>360.0</td>\n",
              "      <td>1.0</td>\n",
              "      <td>Urban</td>\n",
              "    </tr>\n",
              "  </tbody>\n",
              "</table>\n",
              "</div>"
            ],
            "text/plain": [
              "    Loan_ID Gender Married  ... Loan_Amount_Term Credit_History Property_Area\n",
              "0  LP001015   Male     Yes  ...            360.0            1.0         Urban\n",
              "1  LP001022   Male     Yes  ...            360.0            1.0         Urban\n",
              "2  LP001031   Male     Yes  ...            360.0            1.0         Urban\n",
              "3  LP001035   Male     Yes  ...            360.0            NaN         Urban\n",
              "4  LP001051   Male      No  ...            360.0            1.0         Urban\n",
              "\n",
              "[5 rows x 12 columns]"
            ]
          },
          "metadata": {
            "tags": []
          },
          "execution_count": 234
        }
      ]
    },
    {
      "cell_type": "code",
      "metadata": {
        "id": "C1Y8IJVjir1f",
        "colab_type": "code",
        "colab": {
          "base_uri": "https://localhost:8080/",
          "height": 225
        },
        "outputId": "09ba09cb-577a-4a1e-f12a-ec401a4bd1e8"
      },
      "source": [
        "test = test.set_index('Loan_ID')\n",
        "test.head()"
      ],
      "execution_count": 235,
      "outputs": [
        {
          "output_type": "execute_result",
          "data": {
            "text/html": [
              "<div>\n",
              "<style scoped>\n",
              "    .dataframe tbody tr th:only-of-type {\n",
              "        vertical-align: middle;\n",
              "    }\n",
              "\n",
              "    .dataframe tbody tr th {\n",
              "        vertical-align: top;\n",
              "    }\n",
              "\n",
              "    .dataframe thead th {\n",
              "        text-align: right;\n",
              "    }\n",
              "</style>\n",
              "<table border=\"1\" class=\"dataframe\">\n",
              "  <thead>\n",
              "    <tr style=\"text-align: right;\">\n",
              "      <th></th>\n",
              "      <th>Gender</th>\n",
              "      <th>Married</th>\n",
              "      <th>Dependents</th>\n",
              "      <th>Education</th>\n",
              "      <th>Self_Employed</th>\n",
              "      <th>ApplicantIncome</th>\n",
              "      <th>CoapplicantIncome</th>\n",
              "      <th>LoanAmount</th>\n",
              "      <th>Loan_Amount_Term</th>\n",
              "      <th>Credit_History</th>\n",
              "      <th>Property_Area</th>\n",
              "    </tr>\n",
              "    <tr>\n",
              "      <th>Loan_ID</th>\n",
              "      <th></th>\n",
              "      <th></th>\n",
              "      <th></th>\n",
              "      <th></th>\n",
              "      <th></th>\n",
              "      <th></th>\n",
              "      <th></th>\n",
              "      <th></th>\n",
              "      <th></th>\n",
              "      <th></th>\n",
              "      <th></th>\n",
              "    </tr>\n",
              "  </thead>\n",
              "  <tbody>\n",
              "    <tr>\n",
              "      <th>LP001015</th>\n",
              "      <td>Male</td>\n",
              "      <td>Yes</td>\n",
              "      <td>0</td>\n",
              "      <td>Graduate</td>\n",
              "      <td>No</td>\n",
              "      <td>5720</td>\n",
              "      <td>0</td>\n",
              "      <td>110.0</td>\n",
              "      <td>360.0</td>\n",
              "      <td>1.0</td>\n",
              "      <td>Urban</td>\n",
              "    </tr>\n",
              "    <tr>\n",
              "      <th>LP001022</th>\n",
              "      <td>Male</td>\n",
              "      <td>Yes</td>\n",
              "      <td>1</td>\n",
              "      <td>Graduate</td>\n",
              "      <td>No</td>\n",
              "      <td>3076</td>\n",
              "      <td>1500</td>\n",
              "      <td>126.0</td>\n",
              "      <td>360.0</td>\n",
              "      <td>1.0</td>\n",
              "      <td>Urban</td>\n",
              "    </tr>\n",
              "    <tr>\n",
              "      <th>LP001031</th>\n",
              "      <td>Male</td>\n",
              "      <td>Yes</td>\n",
              "      <td>2</td>\n",
              "      <td>Graduate</td>\n",
              "      <td>No</td>\n",
              "      <td>5000</td>\n",
              "      <td>1800</td>\n",
              "      <td>208.0</td>\n",
              "      <td>360.0</td>\n",
              "      <td>1.0</td>\n",
              "      <td>Urban</td>\n",
              "    </tr>\n",
              "    <tr>\n",
              "      <th>LP001035</th>\n",
              "      <td>Male</td>\n",
              "      <td>Yes</td>\n",
              "      <td>2</td>\n",
              "      <td>Graduate</td>\n",
              "      <td>No</td>\n",
              "      <td>2340</td>\n",
              "      <td>2546</td>\n",
              "      <td>100.0</td>\n",
              "      <td>360.0</td>\n",
              "      <td>NaN</td>\n",
              "      <td>Urban</td>\n",
              "    </tr>\n",
              "    <tr>\n",
              "      <th>LP001051</th>\n",
              "      <td>Male</td>\n",
              "      <td>No</td>\n",
              "      <td>0</td>\n",
              "      <td>Not Graduate</td>\n",
              "      <td>No</td>\n",
              "      <td>3276</td>\n",
              "      <td>0</td>\n",
              "      <td>78.0</td>\n",
              "      <td>360.0</td>\n",
              "      <td>1.0</td>\n",
              "      <td>Urban</td>\n",
              "    </tr>\n",
              "  </tbody>\n",
              "</table>\n",
              "</div>"
            ],
            "text/plain": [
              "         Gender Married  ... Credit_History Property_Area\n",
              "Loan_ID                  ...                             \n",
              "LP001015   Male     Yes  ...            1.0         Urban\n",
              "LP001022   Male     Yes  ...            1.0         Urban\n",
              "LP001031   Male     Yes  ...            1.0         Urban\n",
              "LP001035   Male     Yes  ...            NaN         Urban\n",
              "LP001051   Male      No  ...            1.0         Urban\n",
              "\n",
              "[5 rows x 11 columns]"
            ]
          },
          "metadata": {
            "tags": []
          },
          "execution_count": 235
        }
      ]
    },
    {
      "cell_type": "code",
      "metadata": {
        "id": "nFHcZy9Bi_iB",
        "colab_type": "code",
        "colab": {}
      },
      "source": [
        "test['Dependents'] = test['Dependents'].map({'0':0, '1':1, '2':2, '3+':3})"
      ],
      "execution_count": 236,
      "outputs": []
    },
    {
      "cell_type": "code",
      "metadata": {
        "id": "xZxgbE9ci_4d",
        "colab_type": "code",
        "colab": {}
      },
      "source": [
        "test['Education'] = LabelEncoder().fit(test['Education']).transform(test['Education'])"
      ],
      "execution_count": 237,
      "outputs": []
    },
    {
      "cell_type": "code",
      "metadata": {
        "id": "y6ELTI0SjhlP",
        "colab_type": "code",
        "colab": {}
      },
      "source": [
        "test['Gender'].fillna(test['Gender'].mode()[0], inplace=True)\n",
        "test['Married'].fillna(test['Married'].mode()[0], inplace=True)\n",
        "test['Self_Employed'].fillna(test['Self_Employed'].mode()[0], inplace=True)\n",
        "\n",
        "test['LoanAmount'] = test['LoanAmount'].replace(0, np.NaN)\n",
        "\n",
        "test['Loan_Amount_Term'] = test['Loan_Amount_Term'].replace(0, np.NaN)\n",
        "\n",
        "test['Loan_Amount_Term'] = test['Loan_Amount_Term'].replace(0, np.NaN)\n",
        "\n",
        "test.fillna(test.mean(),inplace=True)"
      ],
      "execution_count": 238,
      "outputs": []
    },
    {
      "cell_type": "code",
      "metadata": {
        "id": "f2OcQBg1joAK",
        "colab_type": "code",
        "colab": {}
      },
      "source": [
        "test['Gender'] = LabelEncoder().fit(test['Gender']).transform(test['Gender'])\n",
        "\n",
        "test['Married'] = LabelEncoder().fit(test['Married']).transform(test['Married'])\n",
        "\n",
        "test['Self_Employed'] = LabelEncoder().fit(test['Self_Employed']).transform(test['Self_Employed'])\n",
        "\n",
        "test['Property_Area'] = LabelEncoder().fit(test['Property_Area']).transform(test['Property_Area'])\n"
      ],
      "execution_count": 239,
      "outputs": []
    },
    {
      "cell_type": "markdown",
      "metadata": {
        "id": "j_WJfK5-7tZA",
        "colab_type": "text"
      },
      "source": [
        "Proceeding with SVM (linear kernel) since it has an accuracy of 86%"
      ]
    },
    {
      "cell_type": "code",
      "metadata": {
        "id": "NMcb7VEuzMWW",
        "colab_type": "code",
        "colab": {
          "base_uri": "https://localhost:8080/",
          "height": 302
        },
        "outputId": "4aa020a3-fc7c-44b4-e167-f49795a80076"
      },
      "source": [
        "y_pred = svclassifier.predict(test)\n",
        "y_pred"
      ],
      "execution_count": 240,
      "outputs": [
        {
          "output_type": "execute_result",
          "data": {
            "text/plain": [
              "array([1, 1, 1, 1, 1, 1, 1, 0, 1, 1, 1, 1, 1, 1, 1, 1, 1, 1, 1, 1, 1, 1,\n",
              "       1, 1, 1, 0, 1, 1, 1, 1, 1, 1, 1, 1, 1, 0, 1, 1, 1, 1, 1, 1, 1, 1,\n",
              "       1, 1, 1, 1, 1, 1, 1, 1, 1, 1, 1, 0, 1, 1, 0, 1, 1, 1, 1, 0, 1, 1,\n",
              "       0, 0, 1, 0, 1, 1, 1, 1, 1, 1, 1, 1, 1, 1, 1, 1, 0, 1, 0, 1, 1, 1,\n",
              "       1, 1, 0, 1, 1, 1, 0, 1, 1, 1, 1, 1, 1, 0, 1, 1, 1, 1, 0, 1, 1, 1,\n",
              "       1, 1, 1, 1, 1, 1, 1, 0, 0, 0, 1, 1, 1, 0, 1, 1, 1, 1, 1, 1, 1, 1,\n",
              "       1, 1, 1, 1, 1, 1, 1, 1, 0, 1, 1, 1, 1, 1, 1, 0, 1, 1, 1, 1, 1, 0,\n",
              "       1, 1, 1, 1, 1, 1, 1, 0, 1, 1, 1, 0, 0, 1, 0, 1, 1, 1, 1, 0, 0, 1,\n",
              "       1, 1, 1, 1, 1, 1, 1, 1, 1, 1, 1, 1, 1, 1, 1, 1, 0, 0, 1, 1, 0, 1,\n",
              "       0, 0, 1, 1, 1, 1, 1, 1, 1, 1, 1, 1, 1, 0, 1, 1, 1, 1, 1, 1, 1, 1,\n",
              "       1, 1, 1, 1, 0, 1, 1, 1, 1, 1, 1, 1, 1, 1, 1, 0, 0, 1, 1, 1, 1, 0,\n",
              "       1, 0, 1, 0, 1, 1, 1, 1, 0, 1, 1, 1, 1, 0, 1, 1, 1, 1, 1, 1, 1, 1,\n",
              "       1, 1, 0, 1, 0, 1, 1, 1, 1, 0, 0, 1, 1, 1, 0, 1, 1, 1, 1, 1, 1, 1,\n",
              "       1, 1, 1, 1, 1, 1, 1, 0, 1, 1, 1, 1, 1, 1, 1, 1, 1, 0, 1, 1, 1, 1,\n",
              "       1, 1, 1, 0, 1, 1, 1, 1, 1, 0, 1, 1, 1, 1, 1, 1, 1, 0, 1, 1, 1, 1,\n",
              "       1, 1, 1, 1, 1, 1, 1, 1, 1, 0, 1, 1, 1, 1, 1, 1, 0, 1, 1, 1, 1, 1,\n",
              "       1, 1, 1, 1, 1, 1, 1, 1, 1, 1, 1, 1, 1, 1, 1])"
            ]
          },
          "metadata": {
            "tags": []
          },
          "execution_count": 240
        }
      ]
    },
    {
      "cell_type": "code",
      "metadata": {
        "id": "hSyzn6Eezy0B",
        "colab_type": "code",
        "colab": {
          "base_uri": "https://localhost:8080/",
          "height": 34
        },
        "outputId": "e75405f5-ade8-4400-bf7f-0390d754995d"
      },
      "source": [
        "svclassifier.score(test, y_pred)"
      ],
      "execution_count": 241,
      "outputs": [
        {
          "output_type": "execute_result",
          "data": {
            "text/plain": [
              "1.0"
            ]
          },
          "metadata": {
            "tags": []
          },
          "execution_count": 241
        }
      ]
    },
    {
      "cell_type": "code",
      "metadata": {
        "id": "17hyy7Ci3h2O",
        "colab_type": "code",
        "colab": {
          "base_uri": "https://localhost:8080/",
          "height": 225
        },
        "outputId": "9c9b5742-394d-42d4-9757-44eb7030a1c6"
      },
      "source": [
        "test['Loan_Status'] = y_pred.tolist()\n",
        "test.head()"
      ],
      "execution_count": 242,
      "outputs": [
        {
          "output_type": "execute_result",
          "data": {
            "text/html": [
              "<div>\n",
              "<style scoped>\n",
              "    .dataframe tbody tr th:only-of-type {\n",
              "        vertical-align: middle;\n",
              "    }\n",
              "\n",
              "    .dataframe tbody tr th {\n",
              "        vertical-align: top;\n",
              "    }\n",
              "\n",
              "    .dataframe thead th {\n",
              "        text-align: right;\n",
              "    }\n",
              "</style>\n",
              "<table border=\"1\" class=\"dataframe\">\n",
              "  <thead>\n",
              "    <tr style=\"text-align: right;\">\n",
              "      <th></th>\n",
              "      <th>Gender</th>\n",
              "      <th>Married</th>\n",
              "      <th>Dependents</th>\n",
              "      <th>Education</th>\n",
              "      <th>Self_Employed</th>\n",
              "      <th>ApplicantIncome</th>\n",
              "      <th>CoapplicantIncome</th>\n",
              "      <th>LoanAmount</th>\n",
              "      <th>Loan_Amount_Term</th>\n",
              "      <th>Credit_History</th>\n",
              "      <th>Property_Area</th>\n",
              "      <th>Loan_Status</th>\n",
              "    </tr>\n",
              "    <tr>\n",
              "      <th>Loan_ID</th>\n",
              "      <th></th>\n",
              "      <th></th>\n",
              "      <th></th>\n",
              "      <th></th>\n",
              "      <th></th>\n",
              "      <th></th>\n",
              "      <th></th>\n",
              "      <th></th>\n",
              "      <th></th>\n",
              "      <th></th>\n",
              "      <th></th>\n",
              "      <th></th>\n",
              "    </tr>\n",
              "  </thead>\n",
              "  <tbody>\n",
              "    <tr>\n",
              "      <th>LP001015</th>\n",
              "      <td>1</td>\n",
              "      <td>1</td>\n",
              "      <td>0.0</td>\n",
              "      <td>0</td>\n",
              "      <td>0</td>\n",
              "      <td>5720</td>\n",
              "      <td>0</td>\n",
              "      <td>110.0</td>\n",
              "      <td>360.0</td>\n",
              "      <td>1.000000</td>\n",
              "      <td>2</td>\n",
              "      <td>1</td>\n",
              "    </tr>\n",
              "    <tr>\n",
              "      <th>LP001022</th>\n",
              "      <td>1</td>\n",
              "      <td>1</td>\n",
              "      <td>1.0</td>\n",
              "      <td>0</td>\n",
              "      <td>0</td>\n",
              "      <td>3076</td>\n",
              "      <td>1500</td>\n",
              "      <td>126.0</td>\n",
              "      <td>360.0</td>\n",
              "      <td>1.000000</td>\n",
              "      <td>2</td>\n",
              "      <td>1</td>\n",
              "    </tr>\n",
              "    <tr>\n",
              "      <th>LP001031</th>\n",
              "      <td>1</td>\n",
              "      <td>1</td>\n",
              "      <td>2.0</td>\n",
              "      <td>0</td>\n",
              "      <td>0</td>\n",
              "      <td>5000</td>\n",
              "      <td>1800</td>\n",
              "      <td>208.0</td>\n",
              "      <td>360.0</td>\n",
              "      <td>1.000000</td>\n",
              "      <td>2</td>\n",
              "      <td>1</td>\n",
              "    </tr>\n",
              "    <tr>\n",
              "      <th>LP001035</th>\n",
              "      <td>1</td>\n",
              "      <td>1</td>\n",
              "      <td>2.0</td>\n",
              "      <td>0</td>\n",
              "      <td>0</td>\n",
              "      <td>2340</td>\n",
              "      <td>2546</td>\n",
              "      <td>100.0</td>\n",
              "      <td>360.0</td>\n",
              "      <td>0.825444</td>\n",
              "      <td>2</td>\n",
              "      <td>1</td>\n",
              "    </tr>\n",
              "    <tr>\n",
              "      <th>LP001051</th>\n",
              "      <td>1</td>\n",
              "      <td>0</td>\n",
              "      <td>0.0</td>\n",
              "      <td>1</td>\n",
              "      <td>0</td>\n",
              "      <td>3276</td>\n",
              "      <td>0</td>\n",
              "      <td>78.0</td>\n",
              "      <td>360.0</td>\n",
              "      <td>1.000000</td>\n",
              "      <td>2</td>\n",
              "      <td>1</td>\n",
              "    </tr>\n",
              "  </tbody>\n",
              "</table>\n",
              "</div>"
            ],
            "text/plain": [
              "          Gender  Married  ...  Property_Area  Loan_Status\n",
              "Loan_ID                    ...                            \n",
              "LP001015       1        1  ...              2            1\n",
              "LP001022       1        1  ...              2            1\n",
              "LP001031       1        1  ...              2            1\n",
              "LP001035       1        1  ...              2            1\n",
              "LP001051       1        0  ...              2            1\n",
              "\n",
              "[5 rows x 12 columns]"
            ]
          },
          "metadata": {
            "tags": []
          },
          "execution_count": 242
        }
      ]
    },
    {
      "cell_type": "code",
      "metadata": {
        "id": "mwBkl1wf5L6X",
        "colab_type": "code",
        "colab": {}
      },
      "source": [
        "x = test.drop(['Loan_Status'], axis = 1)\n",
        "y = test['Loan_Status']\n",
        "\n",
        "X_train, X_test, y_train, y_test = train_test_split(x, y, test_size = 0.3, random_state = 0)"
      ],
      "execution_count": 243,
      "outputs": []
    },
    {
      "cell_type": "code",
      "metadata": {
        "id": "D8ZEqYS05009",
        "colab_type": "code",
        "colab": {
          "base_uri": "https://localhost:8080/",
          "height": 84
        },
        "outputId": "f40c7cbb-e8bc-4290-8e93-cfce5d6c55ef"
      },
      "source": [
        "from sklearn.svm import SVC\n",
        "svclassifier = SVC(kernel = 'linear')\n",
        "svclassifier.fit(X_train, y_train)"
      ],
      "execution_count": 244,
      "outputs": [
        {
          "output_type": "execute_result",
          "data": {
            "text/plain": [
              "SVC(C=1.0, break_ties=False, cache_size=200, class_weight=None, coef0=0.0,\n",
              "    decision_function_shape='ovr', degree=3, gamma='scale', kernel='linear',\n",
              "    max_iter=-1, probability=False, random_state=None, shrinking=True,\n",
              "    tol=0.001, verbose=False)"
            ]
          },
          "metadata": {
            "tags": []
          },
          "execution_count": 244
        }
      ]
    },
    {
      "cell_type": "code",
      "metadata": {
        "id": "Zlt4apnw52i0",
        "colab_type": "code",
        "colab": {}
      },
      "source": [
        "y_pred = svclassifier.predict(X_test)"
      ],
      "execution_count": 245,
      "outputs": []
    },
    {
      "cell_type": "code",
      "metadata": {
        "id": "ajFTpkDF54Qc",
        "colab_type": "code",
        "colab": {
          "base_uri": "https://localhost:8080/",
          "height": 202
        },
        "outputId": "e2c36919-9e96-4167-85d5-5cf7330a49b9"
      },
      "source": [
        "print(confusion_matrix(y_test, y_pred))\n",
        "print(classification_report(y_test, y_pred))"
      ],
      "execution_count": 246,
      "outputs": [
        {
          "output_type": "stream",
          "text": [
            "[[14  3]\n",
            " [ 1 93]]\n",
            "              precision    recall  f1-score   support\n",
            "\n",
            "           0       0.93      0.82      0.87        17\n",
            "           1       0.97      0.99      0.98        94\n",
            "\n",
            "    accuracy                           0.96       111\n",
            "   macro avg       0.95      0.91      0.93       111\n",
            "weighted avg       0.96      0.96      0.96       111\n",
            "\n"
          ],
          "name": "stdout"
        }
      ]
    }
  ]
}