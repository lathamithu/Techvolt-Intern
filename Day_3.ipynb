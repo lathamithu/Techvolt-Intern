{
  "nbformat": 4,
  "nbformat_minor": 0,
  "metadata": {
    "colab": {
      "name": "Day 3.ipynb",
      "provenance": [],
      "collapsed_sections": [],
      "authorship_tag": "ABX9TyOypCTtKWPGFn14R8YZurt7",
      "include_colab_link": true
    },
    "kernelspec": {
      "name": "python3",
      "display_name": "Python 3"
    }
  },
  "cells": [
    {
      "cell_type": "markdown",
      "metadata": {
        "id": "view-in-github",
        "colab_type": "text"
      },
      "source": [
        "<a href=\"https://colab.research.google.com/github/lathamithu/Techvolt-Intern/blob/master/Day_3.ipynb\" target=\"_parent\"><img src=\"https://colab.research.google.com/assets/colab-badge.svg\" alt=\"Open In Colab\"/></a>"
      ]
    },
    {
      "cell_type": "code",
      "metadata": {
        "id": "zuKGwVuBMAS6",
        "colab_type": "code",
        "colab": {}
      },
      "source": [
        "import pandas as pd\n",
        "import numpy as np\n",
        "from matplotlib import pyplot as plt\n",
        "from sklearn.linear_model import LinearRegression\n",
        "from sklearn.metrics import mean_squared_error\n",
        "from sklearn.model_selection import train_test_split"
      ],
      "execution_count": 16,
      "outputs": []
    },
    {
      "cell_type": "code",
      "metadata": {
        "id": "HIPm1gNWXFkK",
        "colab_type": "code",
        "colab": {
          "base_uri": "https://localhost:8080/",
          "height": 35
        },
        "outputId": "1bfa3b7b-62fb-4608-c2ee-52de7444665a"
      },
      "source": [
        "pwd"
      ],
      "execution_count": 17,
      "outputs": [
        {
          "output_type": "execute_result",
          "data": {
            "application/vnd.google.colaboratory.intrinsic": {
              "type": "string"
            },
            "text/plain": [
              "'/content'"
            ]
          },
          "metadata": {
            "tags": []
          },
          "execution_count": 17
        }
      ]
    },
    {
      "cell_type": "code",
      "metadata": {
        "id": "oyI8Ad11XGmL",
        "colab_type": "code",
        "colab": {}
      },
      "source": [
        "headb = pd.read_csv(\"headbrain.csv\")"
      ],
      "execution_count": 18,
      "outputs": []
    },
    {
      "cell_type": "code",
      "metadata": {
        "id": "rY2Q8yK2XM5c",
        "colab_type": "code",
        "colab": {
          "base_uri": "https://localhost:8080/",
          "height": 195
        },
        "outputId": "72b468c5-792d-4f80-d46f-d8c99117147b"
      },
      "source": [
        "headb.head()"
      ],
      "execution_count": 19,
      "outputs": [
        {
          "output_type": "execute_result",
          "data": {
            "text/html": [
              "<div>\n",
              "<style scoped>\n",
              "    .dataframe tbody tr th:only-of-type {\n",
              "        vertical-align: middle;\n",
              "    }\n",
              "\n",
              "    .dataframe tbody tr th {\n",
              "        vertical-align: top;\n",
              "    }\n",
              "\n",
              "    .dataframe thead th {\n",
              "        text-align: right;\n",
              "    }\n",
              "</style>\n",
              "<table border=\"1\" class=\"dataframe\">\n",
              "  <thead>\n",
              "    <tr style=\"text-align: right;\">\n",
              "      <th></th>\n",
              "      <th>Gender</th>\n",
              "      <th>Age Range</th>\n",
              "      <th>Head Size(cm^3)</th>\n",
              "      <th>Brain Weight(grams)</th>\n",
              "    </tr>\n",
              "  </thead>\n",
              "  <tbody>\n",
              "    <tr>\n",
              "      <th>0</th>\n",
              "      <td>1</td>\n",
              "      <td>1</td>\n",
              "      <td>4512</td>\n",
              "      <td>1530</td>\n",
              "    </tr>\n",
              "    <tr>\n",
              "      <th>1</th>\n",
              "      <td>1</td>\n",
              "      <td>1</td>\n",
              "      <td>3738</td>\n",
              "      <td>1297</td>\n",
              "    </tr>\n",
              "    <tr>\n",
              "      <th>2</th>\n",
              "      <td>1</td>\n",
              "      <td>1</td>\n",
              "      <td>4261</td>\n",
              "      <td>1335</td>\n",
              "    </tr>\n",
              "    <tr>\n",
              "      <th>3</th>\n",
              "      <td>1</td>\n",
              "      <td>1</td>\n",
              "      <td>3777</td>\n",
              "      <td>1282</td>\n",
              "    </tr>\n",
              "    <tr>\n",
              "      <th>4</th>\n",
              "      <td>1</td>\n",
              "      <td>1</td>\n",
              "      <td>4177</td>\n",
              "      <td>1590</td>\n",
              "    </tr>\n",
              "  </tbody>\n",
              "</table>\n",
              "</div>"
            ],
            "text/plain": [
              "   Gender  Age Range  Head Size(cm^3)  Brain Weight(grams)\n",
              "0       1          1             4512                 1530\n",
              "1       1          1             3738                 1297\n",
              "2       1          1             4261                 1335\n",
              "3       1          1             3777                 1282\n",
              "4       1          1             4177                 1590"
            ]
          },
          "metadata": {
            "tags": []
          },
          "execution_count": 19
        }
      ]
    },
    {
      "cell_type": "code",
      "metadata": {
        "id": "F-mflfr1XsBA",
        "colab_type": "code",
        "colab": {
          "base_uri": "https://localhost:8080/",
          "height": 302
        },
        "outputId": "bedd396a-10ee-457b-8309-251532bd56cb"
      },
      "source": [
        "#Collecting X and Y\n",
        "\n",
        "x = headb['Head Size(cm^3)'].values           #independent variable\n",
        "y = headb['Brain Weight(grams)'].values       #dependent variable\n",
        "print(x)"
      ],
      "execution_count": 20,
      "outputs": [
        {
          "output_type": "stream",
          "text": [
            "[4512 3738 4261 3777 4177 3585 3785 3559 3613 3982 3443 3993 3640 4208\n",
            " 3832 3876 3497 3466 3095 4424 3878 4046 3804 3710 4747 4423 4036 4022\n",
            " 3454 4175 3787 3796 4103 4161 4158 3814 3527 3748 3334 3492 3962 3505\n",
            " 4315 3804 3863 4034 4308 3165 3641 3644 3891 3793 4270 4063 4012 3458\n",
            " 3890 4166 3935 3669 3866 3393 4442 4253 3727 3329 3415 3372 4430 4381\n",
            " 4008 3858 4121 4057 3824 3394 3558 3362 3930 3835 3830 3856 3249 3577\n",
            " 3933 3850 3309 3406 3506 3907 4160 3318 3662 3899 3700 3779 3473 3490\n",
            " 3654 3478 3495 3834 3876 3661 3618 3648 4032 3399 3916 4430 3695 3524\n",
            " 3571 3594 3383 3499 3589 3900 4114 3937 3399 4200 4488 3614 4051 3782\n",
            " 3391 3124 4053 3582 3666 3532 4046 3667 2857 3436 3791 3302 3104 3171\n",
            " 3572 3530 3175 3438 3903 3899 3401 3267 3451 3090 3413 3323 3680 3439\n",
            " 3853 3156 3279 3707 4006 3269 3071 3779 3548 3292 3497 3082 3248 3358\n",
            " 3803 3566 3145 3503 3571 3724 3615 3203 3609 3561 3979 3533 3689 3158\n",
            " 4005 3181 3479 3642 3632 3069 3394 3703 3165 3354 3000 3687 3556 2773\n",
            " 3058 3344 3493 3297 3360 3228 3277 3851 3067 3692 3402 3995 3318 2720\n",
            " 2937 3580 2939 2989 3586 3156 3246 3170 3268 3389 3381 2864 3740 3479\n",
            " 3647 3716 3284 4204 3735 3218 3685 3704 3214 3394 3233 3352 3391]\n"
          ],
          "name": "stdout"
        }
      ]
    },
    {
      "cell_type": "code",
      "metadata": {
        "id": "eK1dAXooYLeA",
        "colab_type": "code",
        "colab": {
          "base_uri": "https://localhost:8080/",
          "height": 1000
        },
        "outputId": "f93c0a84-69c2-47ea-aad9-8d80135f3a7e"
      },
      "source": [
        "m = len(x)\n",
        "x = x.reshape((m,1))\n",
        "print(m)\n",
        "print(x)"
      ],
      "execution_count": 21,
      "outputs": [
        {
          "output_type": "stream",
          "text": [
            "237\n",
            "[[4512]\n",
            " [3738]\n",
            " [4261]\n",
            " [3777]\n",
            " [4177]\n",
            " [3585]\n",
            " [3785]\n",
            " [3559]\n",
            " [3613]\n",
            " [3982]\n",
            " [3443]\n",
            " [3993]\n",
            " [3640]\n",
            " [4208]\n",
            " [3832]\n",
            " [3876]\n",
            " [3497]\n",
            " [3466]\n",
            " [3095]\n",
            " [4424]\n",
            " [3878]\n",
            " [4046]\n",
            " [3804]\n",
            " [3710]\n",
            " [4747]\n",
            " [4423]\n",
            " [4036]\n",
            " [4022]\n",
            " [3454]\n",
            " [4175]\n",
            " [3787]\n",
            " [3796]\n",
            " [4103]\n",
            " [4161]\n",
            " [4158]\n",
            " [3814]\n",
            " [3527]\n",
            " [3748]\n",
            " [3334]\n",
            " [3492]\n",
            " [3962]\n",
            " [3505]\n",
            " [4315]\n",
            " [3804]\n",
            " [3863]\n",
            " [4034]\n",
            " [4308]\n",
            " [3165]\n",
            " [3641]\n",
            " [3644]\n",
            " [3891]\n",
            " [3793]\n",
            " [4270]\n",
            " [4063]\n",
            " [4012]\n",
            " [3458]\n",
            " [3890]\n",
            " [4166]\n",
            " [3935]\n",
            " [3669]\n",
            " [3866]\n",
            " [3393]\n",
            " [4442]\n",
            " [4253]\n",
            " [3727]\n",
            " [3329]\n",
            " [3415]\n",
            " [3372]\n",
            " [4430]\n",
            " [4381]\n",
            " [4008]\n",
            " [3858]\n",
            " [4121]\n",
            " [4057]\n",
            " [3824]\n",
            " [3394]\n",
            " [3558]\n",
            " [3362]\n",
            " [3930]\n",
            " [3835]\n",
            " [3830]\n",
            " [3856]\n",
            " [3249]\n",
            " [3577]\n",
            " [3933]\n",
            " [3850]\n",
            " [3309]\n",
            " [3406]\n",
            " [3506]\n",
            " [3907]\n",
            " [4160]\n",
            " [3318]\n",
            " [3662]\n",
            " [3899]\n",
            " [3700]\n",
            " [3779]\n",
            " [3473]\n",
            " [3490]\n",
            " [3654]\n",
            " [3478]\n",
            " [3495]\n",
            " [3834]\n",
            " [3876]\n",
            " [3661]\n",
            " [3618]\n",
            " [3648]\n",
            " [4032]\n",
            " [3399]\n",
            " [3916]\n",
            " [4430]\n",
            " [3695]\n",
            " [3524]\n",
            " [3571]\n",
            " [3594]\n",
            " [3383]\n",
            " [3499]\n",
            " [3589]\n",
            " [3900]\n",
            " [4114]\n",
            " [3937]\n",
            " [3399]\n",
            " [4200]\n",
            " [4488]\n",
            " [3614]\n",
            " [4051]\n",
            " [3782]\n",
            " [3391]\n",
            " [3124]\n",
            " [4053]\n",
            " [3582]\n",
            " [3666]\n",
            " [3532]\n",
            " [4046]\n",
            " [3667]\n",
            " [2857]\n",
            " [3436]\n",
            " [3791]\n",
            " [3302]\n",
            " [3104]\n",
            " [3171]\n",
            " [3572]\n",
            " [3530]\n",
            " [3175]\n",
            " [3438]\n",
            " [3903]\n",
            " [3899]\n",
            " [3401]\n",
            " [3267]\n",
            " [3451]\n",
            " [3090]\n",
            " [3413]\n",
            " [3323]\n",
            " [3680]\n",
            " [3439]\n",
            " [3853]\n",
            " [3156]\n",
            " [3279]\n",
            " [3707]\n",
            " [4006]\n",
            " [3269]\n",
            " [3071]\n",
            " [3779]\n",
            " [3548]\n",
            " [3292]\n",
            " [3497]\n",
            " [3082]\n",
            " [3248]\n",
            " [3358]\n",
            " [3803]\n",
            " [3566]\n",
            " [3145]\n",
            " [3503]\n",
            " [3571]\n",
            " [3724]\n",
            " [3615]\n",
            " [3203]\n",
            " [3609]\n",
            " [3561]\n",
            " [3979]\n",
            " [3533]\n",
            " [3689]\n",
            " [3158]\n",
            " [4005]\n",
            " [3181]\n",
            " [3479]\n",
            " [3642]\n",
            " [3632]\n",
            " [3069]\n",
            " [3394]\n",
            " [3703]\n",
            " [3165]\n",
            " [3354]\n",
            " [3000]\n",
            " [3687]\n",
            " [3556]\n",
            " [2773]\n",
            " [3058]\n",
            " [3344]\n",
            " [3493]\n",
            " [3297]\n",
            " [3360]\n",
            " [3228]\n",
            " [3277]\n",
            " [3851]\n",
            " [3067]\n",
            " [3692]\n",
            " [3402]\n",
            " [3995]\n",
            " [3318]\n",
            " [2720]\n",
            " [2937]\n",
            " [3580]\n",
            " [2939]\n",
            " [2989]\n",
            " [3586]\n",
            " [3156]\n",
            " [3246]\n",
            " [3170]\n",
            " [3268]\n",
            " [3389]\n",
            " [3381]\n",
            " [2864]\n",
            " [3740]\n",
            " [3479]\n",
            " [3647]\n",
            " [3716]\n",
            " [3284]\n",
            " [4204]\n",
            " [3735]\n",
            " [3218]\n",
            " [3685]\n",
            " [3704]\n",
            " [3214]\n",
            " [3394]\n",
            " [3233]\n",
            " [3352]\n",
            " [3391]]\n"
          ],
          "name": "stdout"
        }
      ]
    },
    {
      "cell_type": "code",
      "metadata": {
        "id": "G0D3bQ0sY1ma",
        "colab_type": "code",
        "colab": {}
      },
      "source": [
        "#splitting dataset\n",
        "\n",
        "x_train,x_test,y_train,y_test = train_test_split(x,y,test_size = 0.2, random_state = 0)\n",
        "\n",
        "#X_train\n",
        "#print(x_train)"
      ],
      "execution_count": 22,
      "outputs": []
    },
    {
      "cell_type": "code",
      "metadata": {
        "id": "8WRHoQw4ZYXA",
        "colab_type": "code",
        "colab": {
          "base_uri": "https://localhost:8080/",
          "height": 50
        },
        "outputId": "6d346049-6ea8-4250-9659-0a7aa389eb59"
      },
      "source": [
        "reg = LinearRegression()\n",
        "\n",
        "reg = reg.fit(x_train,y_train)\n",
        "print(reg.coef_)\n",
        "print(reg.intercept_)"
      ],
      "execution_count": 23,
      "outputs": [
        {
          "output_type": "stream",
          "text": [
            "[0.26106902]\n",
            "334.2612733470444\n"
          ],
          "name": "stdout"
        }
      ]
    },
    {
      "cell_type": "code",
      "metadata": {
        "id": "UnTMbeFJZtBb",
        "colab_type": "code",
        "colab": {}
      },
      "source": [
        "#Trained Model y = 334.2612 + 0.261x"
      ],
      "execution_count": 24,
      "outputs": []
    },
    {
      "cell_type": "code",
      "metadata": {
        "id": "bRGbd_2fZ0Xf",
        "colab_type": "code",
        "colab": {
          "base_uri": "https://localhost:8080/",
          "height": 282
        },
        "outputId": "f364448e-2b1e-4ac3-b930-24593166ee5f"
      },
      "source": [
        "y_pred = reg.predict(x_test)  #ycap\n",
        "plt.scatter(x_test,y_test,color = 'red')\n",
        "plt.plot(x_test,y_pred,color = 'blue')"
      ],
      "execution_count": 25,
      "outputs": [
        {
          "output_type": "execute_result",
          "data": {
            "text/plain": [
              "[<matplotlib.lines.Line2D at 0x7f1a7f0abbe0>]"
            ]
          },
          "metadata": {
            "tags": []
          },
          "execution_count": 25
        },
        {
          "output_type": "display_data",
          "data": {
            "image/png": "[encoded data removed]",
            "text/plain": [
              "<Figure size 432x288 with 1 Axes>"
            ]
          },
          "metadata": {
            "tags": [],
            "needs_background": "light"
          }
        }
      ]
    },
    {
      "cell_type": "code",
      "metadata": {
        "id": "71lRVOEVbJX6",
        "colab_type": "code",
        "colab": {}
      },
      "source": [
        "#residue\n",
        "\n",
        "residue = (y_test - y_pred)"
      ],
      "execution_count": 26,
      "outputs": []
    },
    {
      "cell_type": "code",
      "metadata": {
        "id": "lG6my7Avb2XL",
        "colab_type": "code",
        "colab": {
          "base_uri": "https://localhost:8080/",
          "height": 281
        },
        "outputId": "4d725e53-b918-47db-cd69-38409376a631"
      },
      "source": [
        "#residual plot\n",
        "\n",
        "x = [i for i in range(1,len(y_pred)+1)]\n",
        "\n",
        "x_plot = plt.scatter(x,(y_test-y_pred),c = 'b')\n",
        "plt.plot(x,[0]*len(y_pred), c = 'r')\n",
        "\n",
        "plt.title(\"Residual plot\")\n",
        "plt.show()"
      ],
      "execution_count": 27,
      "outputs": [
        {
          "output_type": "display_data",
          "data": {
            "image/png": "[encoded data removed]",
            "text/plain": [
              "<Figure size 432x288 with 1 Axes>"
            ]
          },
          "metadata": {
            "tags": [],
            "needs_background": "light"
          }
        }
      ]
    },
    {
      "cell_type": "code",
      "metadata": {
        "id": "AbfVwsyRcn17",
        "colab_type": "code",
        "colab": {}
      },
      "source": [
        "from sklearn.metrics import  r2_score"
      ],
      "execution_count": 28,
      "outputs": []
    },
    {
      "cell_type": "code",
      "metadata": {
        "id": "GGB4UnTnctp2",
        "colab_type": "code",
        "colab": {
          "base_uri": "https://localhost:8080/",
          "height": 50
        },
        "outputId": "f93c747a-0589-4063-f621-27729e7ef59d"
      },
      "source": [
        "rmse = np.sqrt(mean_squared_error(y_test,y_pred))\n",
        "r2 = r2_score(y_test,y_pred)\n",
        "print(rmse)\n",
        "print(r2)"
      ],
      "execution_count": 29,
      "outputs": [
        {
          "output_type": "stream",
          "text": [
            "72.11529287182815\n",
            "0.6376364238008985\n"
          ],
          "name": "stdout"
        }
      ]
    }
  ]
}