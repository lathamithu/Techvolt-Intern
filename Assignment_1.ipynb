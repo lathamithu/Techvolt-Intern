{
  "nbformat": 4,
  "nbformat_minor": 0,
  "metadata": {
    "colab": {
      "name": "Assignment 1.ipynb",
      "provenance": [],
      "collapsed_sections": [],
      "include_colab_link": true
    },
    "kernelspec": {
      "name": "python3",
      "display_name": "Python 3"
    }
  },
  "cells": [
    {
      "cell_type": "markdown",
      "metadata": {
        "id": "view-in-github",
        "colab_type": "text"
      },
      "source": [
        "<a href=\"https://colab.research.google.com/github/lathamithu/Techvolt-Intern/blob/master/Assignment_1.ipynb\" target=\"_parent\"><img src=\"https://colab.research.google.com/assets/colab-badge.svg\" alt=\"Open In Colab\"/></a>"
      ]
    },
    {
      "cell_type": "code",
      "metadata": {
        "id": "j8Yh3cDLOjaG",
        "colab_type": "code",
        "colab": {}
      },
      "source": [
        "# Load the required libraries\n",
        "\n",
        "import pandas as pd\n",
        "import numpy as np\n",
        "from matplotlib import pyplot as plt\n",
        "import seaborn as sns\n",
        "from sklearn.linear_model import LinearRegression\n",
        "from sklearn.metrics import mean_squared_error\n",
        "from sklearn.metrics import r2_score\n",
        "from sklearn.model_selection import train_test_split"
      ],
      "execution_count": null,
      "outputs": []
    },
    {
      "cell_type": "code",
      "metadata": {
        "id": "sDV5ayBfTqw5",
        "colab_type": "code",
        "colab": {}
      },
      "source": [
        "# Loading train and test data\n",
        "\n",
        "df = pd.read_csv(\"Train.csv\")\n",
        "test = pd.read_csv('Test.csv')"
      ],
      "execution_count": null,
      "outputs": []
    },
    {
      "cell_type": "code",
      "metadata": {
        "id": "HuJmjWVNzIBE",
        "colab_type": "code",
        "colab": {
          "base_uri": "https://localhost:8080/",
          "height": 513
        },
        "outputId": "05eb5e2c-2e3b-47c0-bd5f-88b9bb09975e"
      },
      "source": [
        "# Checking out the impact of Outlet_Establishment_Year over Item_Outlet_Sales\n",
        "\n",
        "df.pivot_table(index='Outlet_Establishment_Year', values=\"Item_Outlet_Sales\").plot(kind='bar', color='g',figsize=(10,8))\n",
        "plt.xlabel(\"Outlet_Establishment_Year\")\n",
        "plt.ylabel(\"Item_Outlet_Sales\")\n",
        "plt.show()"
      ],
      "execution_count": null,
      "outputs": [
        {
          "output_type": "display_data",
          "data": {
            "image/png": "[encoded data removed]",
            "text/plain": [
              "<Figure size 720x576 with 1 Axes>"
            ]
          },
          "metadata": {
            "tags": [],
            "needs_background": "light"
          }
        }
      ]
    },
    {
      "cell_type": "markdown",
      "metadata": {
        "id": "jdSjS_8xSmr-",
        "colab_type": "text"
      },
      "source": [
        "The Outlet_Establishment_Year attribute seems to show no contribution in the prediction of Item_Outlet_Sales. So let's drop the column."
      ]
    },
    {
      "cell_type": "code",
      "metadata": {
        "id": "ddyX2lE3TzAU",
        "colab_type": "code",
        "colab": {
          "base_uri": "https://localhost:8080/",
          "height": 541
        },
        "outputId": "01d09118-1ebd-4fe3-d295-9df960639240"
      },
      "source": [
        "#Setting the Item_Identifier as the index of the Dataframe\n",
        "\n",
        "df=df.set_index('Item_Identifier')\n",
        "\n",
        "#Dropping Outlet_Establishment_Year since it has less impact over the target variable\n",
        "\n",
        "df = df.drop([\"Outlet_Establishment_Year\"],axis=1)\n",
        "df.head(10)"
      ],
      "execution_count": null,
      "outputs": [
        {
          "output_type": "execute_result",
          "data": {
            "text/html": [
              "<div>\n",
              "<style scoped>\n",
              "    .dataframe tbody tr th:only-of-type {\n",
              "        vertical-align: middle;\n",
              "    }\n",
              "\n",
              "    .dataframe tbody tr th {\n",
              "        vertical-align: top;\n",
              "    }\n",
              "\n",
              "    .dataframe thead th {\n",
              "        text-align: right;\n",
              "    }\n",
              "</style>\n",
              "<table border=\"1\" class=\"dataframe\">\n",
              "  <thead>\n",
              "    <tr style=\"text-align: right;\">\n",
              "      <th></th>\n",
              "      <th>Item_Weight</th>\n",
              "      <th>Item_Fat_Content</th>\n",
              "      <th>Item_Visibility</th>\n",
              "      <th>Item_Type</th>\n",
              "      <th>Item_MRP</th>\n",
              "      <th>Outlet_Identifier</th>\n",
              "      <th>Outlet_Size</th>\n",
              "      <th>Outlet_Location_Type</th>\n",
              "      <th>Outlet_Type</th>\n",
              "      <th>Item_Outlet_Sales</th>\n",
              "    </tr>\n",
              "    <tr>\n",
              "      <th>Item_Identifier</th>\n",
              "      <th></th>\n",
              "      <th></th>\n",
              "      <th></th>\n",
              "      <th></th>\n",
              "      <th></th>\n",
              "      <th></th>\n",
              "      <th></th>\n",
              "      <th></th>\n",
              "      <th></th>\n",
              "      <th></th>\n",
              "    </tr>\n",
              "  </thead>\n",
              "  <tbody>\n",
              "    <tr>\n",
              "      <th>FDA15</th>\n",
              "      <td>9.300</td>\n",
              "      <td>Low Fat</td>\n",
              "      <td>0.016047</td>\n",
              "      <td>Dairy</td>\n",
              "      <td>249.8092</td>\n",
              "      <td>OUT049</td>\n",
              "      <td>Medium</td>\n",
              "      <td>Tier 1</td>\n",
              "      <td>Supermarket Type1</td>\n",
              "      <td>3735.1380</td>\n",
              "    </tr>\n",
              "    <tr>\n",
              "      <th>DRC01</th>\n",
              "      <td>5.920</td>\n",
              "      <td>Regular</td>\n",
              "      <td>0.019278</td>\n",
              "      <td>Soft Drinks</td>\n",
              "      <td>48.2692</td>\n",
              "      <td>OUT018</td>\n",
              "      <td>Medium</td>\n",
              "      <td>Tier 3</td>\n",
              "      <td>Supermarket Type2</td>\n",
              "      <td>443.4228</td>\n",
              "    </tr>\n",
              "    <tr>\n",
              "      <th>FDN15</th>\n",
              "      <td>17.500</td>\n",
              "      <td>Low Fat</td>\n",
              "      <td>0.016760</td>\n",
              "      <td>Meat</td>\n",
              "      <td>141.6180</td>\n",
              "      <td>OUT049</td>\n",
              "      <td>Medium</td>\n",
              "      <td>Tier 1</td>\n",
              "      <td>Supermarket Type1</td>\n",
              "      <td>2097.2700</td>\n",
              "    </tr>\n",
              "    <tr>\n",
              "      <th>FDX07</th>\n",
              "      <td>19.200</td>\n",
              "      <td>Regular</td>\n",
              "      <td>0.000000</td>\n",
              "      <td>Fruits and Vegetables</td>\n",
              "      <td>182.0950</td>\n",
              "      <td>OUT010</td>\n",
              "      <td>NaN</td>\n",
              "      <td>Tier 3</td>\n",
              "      <td>Grocery Store</td>\n",
              "      <td>732.3800</td>\n",
              "    </tr>\n",
              "    <tr>\n",
              "      <th>NCD19</th>\n",
              "      <td>8.930</td>\n",
              "      <td>Low Fat</td>\n",
              "      <td>0.000000</td>\n",
              "      <td>Household</td>\n",
              "      <td>53.8614</td>\n",
              "      <td>OUT013</td>\n",
              "      <td>High</td>\n",
              "      <td>Tier 3</td>\n",
              "      <td>Supermarket Type1</td>\n",
              "      <td>994.7052</td>\n",
              "    </tr>\n",
              "    <tr>\n",
              "      <th>FDP36</th>\n",
              "      <td>10.395</td>\n",
              "      <td>Regular</td>\n",
              "      <td>0.000000</td>\n",
              "      <td>Baking Goods</td>\n",
              "      <td>51.4008</td>\n",
              "      <td>OUT018</td>\n",
              "      <td>Medium</td>\n",
              "      <td>Tier 3</td>\n",
              "      <td>Supermarket Type2</td>\n",
              "      <td>556.6088</td>\n",
              "    </tr>\n",
              "    <tr>\n",
              "      <th>FDO10</th>\n",
              "      <td>13.650</td>\n",
              "      <td>Regular</td>\n",
              "      <td>0.012741</td>\n",
              "      <td>Snack Foods</td>\n",
              "      <td>57.6588</td>\n",
              "      <td>OUT013</td>\n",
              "      <td>High</td>\n",
              "      <td>Tier 3</td>\n",
              "      <td>Supermarket Type1</td>\n",
              "      <td>343.5528</td>\n",
              "    </tr>\n",
              "    <tr>\n",
              "      <th>FDP10</th>\n",
              "      <td>NaN</td>\n",
              "      <td>Low Fat</td>\n",
              "      <td>0.127470</td>\n",
              "      <td>Snack Foods</td>\n",
              "      <td>107.7622</td>\n",
              "      <td>OUT027</td>\n",
              "      <td>Medium</td>\n",
              "      <td>Tier 3</td>\n",
              "      <td>Supermarket Type3</td>\n",
              "      <td>4022.7636</td>\n",
              "    </tr>\n",
              "    <tr>\n",
              "      <th>FDH17</th>\n",
              "      <td>16.200</td>\n",
              "      <td>Regular</td>\n",
              "      <td>0.016687</td>\n",
              "      <td>Frozen Foods</td>\n",
              "      <td>96.9726</td>\n",
              "      <td>OUT045</td>\n",
              "      <td>NaN</td>\n",
              "      <td>Tier 2</td>\n",
              "      <td>Supermarket Type1</td>\n",
              "      <td>1076.5986</td>\n",
              "    </tr>\n",
              "    <tr>\n",
              "      <th>FDU28</th>\n",
              "      <td>19.200</td>\n",
              "      <td>Regular</td>\n",
              "      <td>0.094450</td>\n",
              "      <td>Frozen Foods</td>\n",
              "      <td>187.8214</td>\n",
              "      <td>OUT017</td>\n",
              "      <td>NaN</td>\n",
              "      <td>Tier 2</td>\n",
              "      <td>Supermarket Type1</td>\n",
              "      <td>4710.5350</td>\n",
              "    </tr>\n",
              "  </tbody>\n",
              "</table>\n",
              "</div>"
            ],
            "text/plain": [
              "                 Item_Weight  ... Item_Outlet_Sales\n",
              "Item_Identifier               ...                  \n",
              "FDA15                  9.300  ...         3735.1380\n",
              "DRC01                  5.920  ...          443.4228\n",
              "FDN15                 17.500  ...         2097.2700\n",
              "FDX07                 19.200  ...          732.3800\n",
              "NCD19                  8.930  ...          994.7052\n",
              "FDP36                 10.395  ...          556.6088\n",
              "FDO10                 13.650  ...          343.5528\n",
              "FDP10                    NaN  ...         4022.7636\n",
              "FDH17                 16.200  ...         1076.5986\n",
              "FDU28                 19.200  ...         4710.5350\n",
              "\n",
              "[10 rows x 10 columns]"
            ]
          },
          "metadata": {
            "tags": []
          },
          "execution_count": 1074
        }
      ]
    },
    {
      "cell_type": "code",
      "metadata": {
        "id": "GoaUUyDgwSho",
        "colab_type": "code",
        "colab": {
          "base_uri": "https://localhost:8080/",
          "height": 297
        },
        "outputId": "592ccf93-ff1e-44df-bebe-e9f5332cdd76"
      },
      "source": [
        "# Plot of Outlet_Size\n",
        "\n",
        "sns.countplot(x=\"Outlet_Size\", hue=\"Outlet_Size\", data = df)"
      ],
      "execution_count": null,
      "outputs": [
        {
          "output_type": "execute_result",
          "data": {
            "text/plain": [
              "<matplotlib.axes._subplots.AxesSubplot at 0x7f77945b3588>"
            ]
          },
          "metadata": {
            "tags": []
          },
          "execution_count": 1075
        },
        {
          "output_type": "display_data",
          "data": {
            "image/png": "[encoded data removed]",
            "text/plain": [
              "<Figure size 432x288 with 1 Axes>"
            ]
          },
          "metadata": {
            "tags": [],
            "needs_background": "light"
          }
        }
      ]
    },
    {
      "cell_type": "markdown",
      "metadata": {
        "id": "RB3pGbwBTGC6",
        "colab_type": "text"
      },
      "source": [
        "Medium sized outlet has the highest count from the graph"
      ]
    },
    {
      "cell_type": "code",
      "metadata": {
        "id": "goPA0xo7wZRT",
        "colab_type": "code",
        "colab": {
          "base_uri": "https://localhost:8080/",
          "height": 300
        },
        "outputId": "a3d9c135-ebd2-4263-cd6b-3b3875a70ac8"
      },
      "source": [
        "# Plot of Outlet_Location_Type\n",
        "\n",
        "sns.countplot(x=\"Outlet_Location_Type\", hue=\"Outlet_Location_Type\", data = df)"
      ],
      "execution_count": null,
      "outputs": [
        {
          "output_type": "execute_result",
          "data": {
            "text/plain": [
              "<matplotlib.axes._subplots.AxesSubplot at 0x7f779458f240>"
            ]
          },
          "metadata": {
            "tags": []
          },
          "execution_count": 1076
        },
        {
          "output_type": "display_data",
          "data": {
            "image/png": "[encoded data removed]",
            "text/plain": [
              "<Figure size 432x288 with 1 Axes>"
            ]
          },
          "metadata": {
            "tags": [],
            "needs_background": "light"
          }
        }
      ]
    },
    {
      "cell_type": "markdown",
      "metadata": {
        "id": "2Jq38iVITa4R",
        "colab_type": "text"
      },
      "source": [
        "Tier 3 has higher count than Tier 1 and 2"
      ]
    },
    {
      "cell_type": "code",
      "metadata": {
        "id": "_2CAkLdTy17k",
        "colab_type": "code",
        "colab": {
          "base_uri": "https://localhost:8080/",
          "height": 380
        },
        "outputId": "83d11b99-4f8e-4b67-a92f-afcb6a6ed17c"
      },
      "source": [
        "# Plot of Item_Type\n",
        "\n",
        "df.Item_Type.value_counts().plot(kind='bar')\n",
        "plt.legend()\n"
      ],
      "execution_count": null,
      "outputs": [
        {
          "output_type": "execute_result",
          "data": {
            "text/plain": [
              "<matplotlib.legend.Legend at 0x7f77964e5e10>"
            ]
          },
          "metadata": {
            "tags": []
          },
          "execution_count": 1077
        },
        {
          "output_type": "display_data",
          "data": {
            "image/png": "[encoded data removed]",
            "text/plain": [
              "<Figure size 432x288 with 1 Axes>"
            ]
          },
          "metadata": {
            "tags": [],
            "needs_background": "light"
          }
        }
      ]
    },
    {
      "cell_type": "code",
      "metadata": {
        "id": "NLjACpeZy-1L",
        "colab_type": "code",
        "colab": {
          "base_uri": "https://localhost:8080/",
          "height": 395
        },
        "outputId": "398a4c69-f3d3-4131-ecd7-4966a54fc7ce"
      },
      "source": [
        "# Impact of Item_Type over Item_Outlet_Sales\n",
        "\n",
        "df.groupby('Item_Type')[['Item_Type','Item_Outlet_Sales']].mean().sort_values(by='Item_Outlet_Sales').plot(kind='bar',color='y')"
      ],
      "execution_count": null,
      "outputs": [
        {
          "output_type": "execute_result",
          "data": {
            "text/plain": [
              "<matplotlib.axes._subplots.AxesSubplot at 0x7f7796dfad68>"
            ]
          },
          "metadata": {
            "tags": []
          },
          "execution_count": 1078
        },
        {
          "output_type": "display_data",
          "data": {
            "image/png": "[encoded data removed]",
            "text/plain": [
              "<Figure size 432x288 with 1 Axes>"
            ]
          },
          "metadata": {
            "tags": [],
            "needs_background": "light"
          }
        }
      ]
    },
    {
      "cell_type": "code",
      "metadata": {
        "id": "rrhBKqyOzF4K",
        "colab_type": "code",
        "colab": {
          "base_uri": "https://localhost:8080/",
          "height": 384
        },
        "outputId": "5207c8f6-99e3-46fc-db39-2fd6bec2e8e0"
      },
      "source": [
        "# Impact of Outlet_Type over Item_Outlet_Sales\n",
        "\n",
        "df.groupby('Outlet_Type')[['Outlet_Type','Item_Outlet_Sales']].mean().sort_values(by='Item_Outlet_Sales').plot(kind='bar',color='g')"
      ],
      "execution_count": null,
      "outputs": [
        {
          "output_type": "execute_result",
          "data": {
            "text/plain": [
              "<matplotlib.axes._subplots.AxesSubplot at 0x7f7794838710>"
            ]
          },
          "metadata": {
            "tags": []
          },
          "execution_count": 1079
        },
        {
          "output_type": "display_data",
          "data": {
            "image/png": "[encoded data removed]",
            "text/plain": [
              "<Figure size 432x288 with 1 Axes>"
            ]
          },
          "metadata": {
            "tags": [],
            "needs_background": "light"
          }
        }
      ]
    },
    {
      "cell_type": "markdown",
      "metadata": {
        "id": "CSh-00xGTspK",
        "colab_type": "text"
      },
      "source": [
        "Type 3 Supermarket is being preferred more than the other outlet types"
      ]
    },
    {
      "cell_type": "code",
      "metadata": {
        "id": "3y7RlgzmzQe3",
        "colab_type": "code",
        "colab": {
          "base_uri": "https://localhost:8080/",
          "height": 297
        },
        "outputId": "1f65159b-765b-475c-ac49-d65b6e7fe152"
      },
      "source": [
        "# Plot of Item_Fat_Content\n",
        "\n",
        "df['Item_Fat_Content']=df['Item_Fat_Content'].map({'Regular':'Regular','reg':'Regular','Low Fat':'Low Fat','low fat':'Low Fat','LF':'Low Fat'})\n",
        "sns.countplot(x=\"Item_Fat_Content\", hue=\"Item_Fat_Content\", data = df)"
      ],
      "execution_count": null,
      "outputs": [
        {
          "output_type": "execute_result",
          "data": {
            "text/plain": [
              "<matplotlib.axes._subplots.AxesSubplot at 0x7f7794b85668>"
            ]
          },
          "metadata": {
            "tags": []
          },
          "execution_count": 1080
        },
        {
          "output_type": "display_data",
          "data": {
            "image/png": "[encoded data removed]",
            "text/plain": [
              "<Figure size 432x288 with 1 Axes>"
            ]
          },
          "metadata": {
            "tags": [],
            "needs_background": "light"
          }
        }
      ]
    },
    {
      "cell_type": "markdown",
      "metadata": {
        "id": "JN6EfL3-UFXh",
        "colab_type": "text"
      },
      "source": [
        "Items with low fat content tops the list"
      ]
    },
    {
      "cell_type": "code",
      "metadata": {
        "id": "3skmh44mT1_w",
        "colab_type": "code",
        "colab": {
          "base_uri": "https://localhost:8080/",
          "height": 541
        },
        "outputId": "6193688f-87af-42dc-c13d-9e1aaa8fa6b0"
      },
      "source": [
        "#Converting the categorical data into numerical data appropriately\n",
        "\n",
        "df['Item_Fat_Content']=df['Item_Fat_Content'].map({'Regular':0,'Low Fat':1})\n",
        "df['Outlet_Size']=df['Outlet_Size'].map({'Small':0,'Medium':1,'High':2})\n",
        "df['Outlet_Location_Type']=df['Outlet_Location_Type'].map({'Tier 1':1,'Tier 2':2,'Tier 3':3})\n",
        "df.head(10)"
      ],
      "execution_count": null,
      "outputs": [
        {
          "output_type": "execute_result",
          "data": {
            "text/html": [
              "<div>\n",
              "<style scoped>\n",
              "    .dataframe tbody tr th:only-of-type {\n",
              "        vertical-align: middle;\n",
              "    }\n",
              "\n",
              "    .dataframe tbody tr th {\n",
              "        vertical-align: top;\n",
              "    }\n",
              "\n",
              "    .dataframe thead th {\n",
              "        text-align: right;\n",
              "    }\n",
              "</style>\n",
              "<table border=\"1\" class=\"dataframe\">\n",
              "  <thead>\n",
              "    <tr style=\"text-align: right;\">\n",
              "      <th></th>\n",
              "      <th>Item_Weight</th>\n",
              "      <th>Item_Fat_Content</th>\n",
              "      <th>Item_Visibility</th>\n",
              "      <th>Item_Type</th>\n",
              "      <th>Item_MRP</th>\n",
              "      <th>Outlet_Identifier</th>\n",
              "      <th>Outlet_Size</th>\n",
              "      <th>Outlet_Location_Type</th>\n",
              "      <th>Outlet_Type</th>\n",
              "      <th>Item_Outlet_Sales</th>\n",
              "    </tr>\n",
              "    <tr>\n",
              "      <th>Item_Identifier</th>\n",
              "      <th></th>\n",
              "      <th></th>\n",
              "      <th></th>\n",
              "      <th></th>\n",
              "      <th></th>\n",
              "      <th></th>\n",
              "      <th></th>\n",
              "      <th></th>\n",
              "      <th></th>\n",
              "      <th></th>\n",
              "    </tr>\n",
              "  </thead>\n",
              "  <tbody>\n",
              "    <tr>\n",
              "      <th>FDA15</th>\n",
              "      <td>9.300</td>\n",
              "      <td>1</td>\n",
              "      <td>0.016047</td>\n",
              "      <td>Dairy</td>\n",
              "      <td>249.8092</td>\n",
              "      <td>OUT049</td>\n",
              "      <td>1.0</td>\n",
              "      <td>1</td>\n",
              "      <td>Supermarket Type1</td>\n",
              "      <td>3735.1380</td>\n",
              "    </tr>\n",
              "    <tr>\n",
              "      <th>DRC01</th>\n",
              "      <td>5.920</td>\n",
              "      <td>0</td>\n",
              "      <td>0.019278</td>\n",
              "      <td>Soft Drinks</td>\n",
              "      <td>48.2692</td>\n",
              "      <td>OUT018</td>\n",
              "      <td>1.0</td>\n",
              "      <td>3</td>\n",
              "      <td>Supermarket Type2</td>\n",
              "      <td>443.4228</td>\n",
              "    </tr>\n",
              "    <tr>\n",
              "      <th>FDN15</th>\n",
              "      <td>17.500</td>\n",
              "      <td>1</td>\n",
              "      <td>0.016760</td>\n",
              "      <td>Meat</td>\n",
              "      <td>141.6180</td>\n",
              "      <td>OUT049</td>\n",
              "      <td>1.0</td>\n",
              "      <td>1</td>\n",
              "      <td>Supermarket Type1</td>\n",
              "      <td>2097.2700</td>\n",
              "    </tr>\n",
              "    <tr>\n",
              "      <th>FDX07</th>\n",
              "      <td>19.200</td>\n",
              "      <td>0</td>\n",
              "      <td>0.000000</td>\n",
              "      <td>Fruits and Vegetables</td>\n",
              "      <td>182.0950</td>\n",
              "      <td>OUT010</td>\n",
              "      <td>NaN</td>\n",
              "      <td>3</td>\n",
              "      <td>Grocery Store</td>\n",
              "      <td>732.3800</td>\n",
              "    </tr>\n",
              "    <tr>\n",
              "      <th>NCD19</th>\n",
              "      <td>8.930</td>\n",
              "      <td>1</td>\n",
              "      <td>0.000000</td>\n",
              "      <td>Household</td>\n",
              "      <td>53.8614</td>\n",
              "      <td>OUT013</td>\n",
              "      <td>2.0</td>\n",
              "      <td>3</td>\n",
              "      <td>Supermarket Type1</td>\n",
              "      <td>994.7052</td>\n",
              "    </tr>\n",
              "    <tr>\n",
              "      <th>FDP36</th>\n",
              "      <td>10.395</td>\n",
              "      <td>0</td>\n",
              "      <td>0.000000</td>\n",
              "      <td>Baking Goods</td>\n",
              "      <td>51.4008</td>\n",
              "      <td>OUT018</td>\n",
              "      <td>1.0</td>\n",
              "      <td>3</td>\n",
              "      <td>Supermarket Type2</td>\n",
              "      <td>556.6088</td>\n",
              "    </tr>\n",
              "    <tr>\n",
              "      <th>FDO10</th>\n",
              "      <td>13.650</td>\n",
              "      <td>0</td>\n",
              "      <td>0.012741</td>\n",
              "      <td>Snack Foods</td>\n",
              "      <td>57.6588</td>\n",
              "      <td>OUT013</td>\n",
              "      <td>2.0</td>\n",
              "      <td>3</td>\n",
              "      <td>Supermarket Type1</td>\n",
              "      <td>343.5528</td>\n",
              "    </tr>\n",
              "    <tr>\n",
              "      <th>FDP10</th>\n",
              "      <td>NaN</td>\n",
              "      <td>1</td>\n",
              "      <td>0.127470</td>\n",
              "      <td>Snack Foods</td>\n",
              "      <td>107.7622</td>\n",
              "      <td>OUT027</td>\n",
              "      <td>1.0</td>\n",
              "      <td>3</td>\n",
              "      <td>Supermarket Type3</td>\n",
              "      <td>4022.7636</td>\n",
              "    </tr>\n",
              "    <tr>\n",
              "      <th>FDH17</th>\n",
              "      <td>16.200</td>\n",
              "      <td>0</td>\n",
              "      <td>0.016687</td>\n",
              "      <td>Frozen Foods</td>\n",
              "      <td>96.9726</td>\n",
              "      <td>OUT045</td>\n",
              "      <td>NaN</td>\n",
              "      <td>2</td>\n",
              "      <td>Supermarket Type1</td>\n",
              "      <td>1076.5986</td>\n",
              "    </tr>\n",
              "    <tr>\n",
              "      <th>FDU28</th>\n",
              "      <td>19.200</td>\n",
              "      <td>0</td>\n",
              "      <td>0.094450</td>\n",
              "      <td>Frozen Foods</td>\n",
              "      <td>187.8214</td>\n",
              "      <td>OUT017</td>\n",
              "      <td>NaN</td>\n",
              "      <td>2</td>\n",
              "      <td>Supermarket Type1</td>\n",
              "      <td>4710.5350</td>\n",
              "    </tr>\n",
              "  </tbody>\n",
              "</table>\n",
              "</div>"
            ],
            "text/plain": [
              "                 Item_Weight  ...  Item_Outlet_Sales\n",
              "Item_Identifier               ...                   \n",
              "FDA15                  9.300  ...          3735.1380\n",
              "DRC01                  5.920  ...           443.4228\n",
              "FDN15                 17.500  ...          2097.2700\n",
              "FDX07                 19.200  ...           732.3800\n",
              "NCD19                  8.930  ...           994.7052\n",
              "FDP36                 10.395  ...           556.6088\n",
              "FDO10                 13.650  ...           343.5528\n",
              "FDP10                    NaN  ...          4022.7636\n",
              "FDH17                 16.200  ...          1076.5986\n",
              "FDU28                 19.200  ...          4710.5350\n",
              "\n",
              "[10 rows x 10 columns]"
            ]
          },
          "metadata": {
            "tags": []
          },
          "execution_count": 1081
        }
      ]
    },
    {
      "cell_type": "code",
      "metadata": {
        "id": "S5J8EMGwTwAJ",
        "colab_type": "code",
        "colab": {}
      },
      "source": [
        "# Treating the missing values \n",
        "\n",
        "df['Item_Weight'] = df['Item_Weight'].replace(0, np.NaN)\n",
        "df.fillna(df.mean(),inplace=True)\n",
        "\n",
        "df['Outlet_Size'] = df['Outlet_Size'].replace(0, np.NaN)\n",
        "df.fillna(df.median(),inplace=True)\n",
        "\n",
        "df['Item_Outlet_Sales']=df['Item_Outlet_Sales'].replace(0, np.NaN)\n",
        "df.fillna(df.mean(),inplace=True)"
      ],
      "execution_count": null,
      "outputs": []
    },
    {
      "cell_type": "code",
      "metadata": {
        "id": "Q-UVuGSsT4VY",
        "colab_type": "code",
        "colab": {
          "base_uri": "https://localhost:8080/",
          "height": 410
        },
        "outputId": "1fdc89e1-d67a-4747-a483-b4863c4675f6"
      },
      "source": [
        "# Normalization of the data\n",
        "\n",
        "df=pd.get_dummies(df,columns=['Item_Type','Outlet_Identifier','Outlet_Type'])\n",
        "df.head(10)"
      ],
      "execution_count": null,
      "outputs": [
        {
          "output_type": "execute_result",
          "data": {
            "text/html": [
              "<div>\n",
              "<style scoped>\n",
              "    .dataframe tbody tr th:only-of-type {\n",
              "        vertical-align: middle;\n",
              "    }\n",
              "\n",
              "    .dataframe tbody tr th {\n",
              "        vertical-align: top;\n",
              "    }\n",
              "\n",
              "    .dataframe thead th {\n",
              "        text-align: right;\n",
              "    }\n",
              "</style>\n",
              "<table border=\"1\" class=\"dataframe\">\n",
              "  <thead>\n",
              "    <tr style=\"text-align: right;\">\n",
              "      <th></th>\n",
              "      <th>Item_Weight</th>\n",
              "      <th>Item_Fat_Content</th>\n",
              "      <th>Item_Visibility</th>\n",
              "      <th>Item_MRP</th>\n",
              "      <th>Outlet_Size</th>\n",
              "      <th>Outlet_Location_Type</th>\n",
              "      <th>Item_Outlet_Sales</th>\n",
              "      <th>Item_Type_Baking Goods</th>\n",
              "      <th>Item_Type_Breads</th>\n",
              "      <th>Item_Type_Breakfast</th>\n",
              "      <th>Item_Type_Canned</th>\n",
              "      <th>Item_Type_Dairy</th>\n",
              "      <th>Item_Type_Frozen Foods</th>\n",
              "      <th>Item_Type_Fruits and Vegetables</th>\n",
              "      <th>Item_Type_Hard Drinks</th>\n",
              "      <th>Item_Type_Health and Hygiene</th>\n",
              "      <th>Item_Type_Household</th>\n",
              "      <th>Item_Type_Meat</th>\n",
              "      <th>Item_Type_Others</th>\n",
              "      <th>Item_Type_Seafood</th>\n",
              "      <th>Item_Type_Snack Foods</th>\n",
              "      <th>Item_Type_Soft Drinks</th>\n",
              "      <th>Item_Type_Starchy Foods</th>\n",
              "      <th>Outlet_Identifier_OUT010</th>\n",
              "      <th>Outlet_Identifier_OUT013</th>\n",
              "      <th>Outlet_Identifier_OUT017</th>\n",
              "      <th>Outlet_Identifier_OUT018</th>\n",
              "      <th>Outlet_Identifier_OUT019</th>\n",
              "      <th>Outlet_Identifier_OUT027</th>\n",
              "      <th>Outlet_Identifier_OUT035</th>\n",
              "      <th>Outlet_Identifier_OUT045</th>\n",
              "      <th>Outlet_Identifier_OUT046</th>\n",
              "      <th>Outlet_Identifier_OUT049</th>\n",
              "      <th>Outlet_Type_Grocery Store</th>\n",
              "      <th>Outlet_Type_Supermarket Type1</th>\n",
              "      <th>Outlet_Type_Supermarket Type2</th>\n",
              "      <th>Outlet_Type_Supermarket Type3</th>\n",
              "    </tr>\n",
              "    <tr>\n",
              "      <th>Item_Identifier</th>\n",
              "      <th></th>\n",
              "      <th></th>\n",
              "      <th></th>\n",
              "      <th></th>\n",
              "      <th></th>\n",
              "      <th></th>\n",
              "      <th></th>\n",
              "      <th></th>\n",
              "      <th></th>\n",
              "      <th></th>\n",
              "      <th></th>\n",
              "      <th></th>\n",
              "      <th></th>\n",
              "      <th></th>\n",
              "      <th></th>\n",
              "      <th></th>\n",
              "      <th></th>\n",
              "      <th></th>\n",
              "      <th></th>\n",
              "      <th></th>\n",
              "      <th></th>\n",
              "      <th></th>\n",
              "      <th></th>\n",
              "      <th></th>\n",
              "      <th></th>\n",
              "      <th></th>\n",
              "      <th></th>\n",
              "      <th></th>\n",
              "      <th></th>\n",
              "      <th></th>\n",
              "      <th></th>\n",
              "      <th></th>\n",
              "      <th></th>\n",
              "      <th></th>\n",
              "      <th></th>\n",
              "      <th></th>\n",
              "      <th></th>\n",
              "    </tr>\n",
              "  </thead>\n",
              "  <tbody>\n",
              "    <tr>\n",
              "      <th>FDA15</th>\n",
              "      <td>9.300000</td>\n",
              "      <td>1</td>\n",
              "      <td>0.016047</td>\n",
              "      <td>249.8092</td>\n",
              "      <td>1.000000</td>\n",
              "      <td>1</td>\n",
              "      <td>3735.1380</td>\n",
              "      <td>0</td>\n",
              "      <td>0</td>\n",
              "      <td>0</td>\n",
              "      <td>0</td>\n",
              "      <td>1</td>\n",
              "      <td>0</td>\n",
              "      <td>0</td>\n",
              "      <td>0</td>\n",
              "      <td>0</td>\n",
              "      <td>0</td>\n",
              "      <td>0</td>\n",
              "      <td>0</td>\n",
              "      <td>0</td>\n",
              "      <td>0</td>\n",
              "      <td>0</td>\n",
              "      <td>0</td>\n",
              "      <td>0</td>\n",
              "      <td>0</td>\n",
              "      <td>0</td>\n",
              "      <td>0</td>\n",
              "      <td>0</td>\n",
              "      <td>0</td>\n",
              "      <td>0</td>\n",
              "      <td>0</td>\n",
              "      <td>0</td>\n",
              "      <td>1</td>\n",
              "      <td>0</td>\n",
              "      <td>1</td>\n",
              "      <td>0</td>\n",
              "      <td>0</td>\n",
              "    </tr>\n",
              "    <tr>\n",
              "      <th>DRC01</th>\n",
              "      <td>5.920000</td>\n",
              "      <td>0</td>\n",
              "      <td>0.019278</td>\n",
              "      <td>48.2692</td>\n",
              "      <td>1.000000</td>\n",
              "      <td>3</td>\n",
              "      <td>443.4228</td>\n",
              "      <td>0</td>\n",
              "      <td>0</td>\n",
              "      <td>0</td>\n",
              "      <td>0</td>\n",
              "      <td>0</td>\n",
              "      <td>0</td>\n",
              "      <td>0</td>\n",
              "      <td>0</td>\n",
              "      <td>0</td>\n",
              "      <td>0</td>\n",
              "      <td>0</td>\n",
              "      <td>0</td>\n",
              "      <td>0</td>\n",
              "      <td>0</td>\n",
              "      <td>1</td>\n",
              "      <td>0</td>\n",
              "      <td>0</td>\n",
              "      <td>0</td>\n",
              "      <td>0</td>\n",
              "      <td>1</td>\n",
              "      <td>0</td>\n",
              "      <td>0</td>\n",
              "      <td>0</td>\n",
              "      <td>0</td>\n",
              "      <td>0</td>\n",
              "      <td>0</td>\n",
              "      <td>0</td>\n",
              "      <td>0</td>\n",
              "      <td>1</td>\n",
              "      <td>0</td>\n",
              "    </tr>\n",
              "    <tr>\n",
              "      <th>FDN15</th>\n",
              "      <td>17.500000</td>\n",
              "      <td>1</td>\n",
              "      <td>0.016760</td>\n",
              "      <td>141.6180</td>\n",
              "      <td>1.000000</td>\n",
              "      <td>1</td>\n",
              "      <td>2097.2700</td>\n",
              "      <td>0</td>\n",
              "      <td>0</td>\n",
              "      <td>0</td>\n",
              "      <td>0</td>\n",
              "      <td>0</td>\n",
              "      <td>0</td>\n",
              "      <td>0</td>\n",
              "      <td>0</td>\n",
              "      <td>0</td>\n",
              "      <td>0</td>\n",
              "      <td>1</td>\n",
              "      <td>0</td>\n",
              "      <td>0</td>\n",
              "      <td>0</td>\n",
              "      <td>0</td>\n",
              "      <td>0</td>\n",
              "      <td>0</td>\n",
              "      <td>0</td>\n",
              "      <td>0</td>\n",
              "      <td>0</td>\n",
              "      <td>0</td>\n",
              "      <td>0</td>\n",
              "      <td>0</td>\n",
              "      <td>0</td>\n",
              "      <td>0</td>\n",
              "      <td>1</td>\n",
              "      <td>0</td>\n",
              "      <td>1</td>\n",
              "      <td>0</td>\n",
              "      <td>0</td>\n",
              "    </tr>\n",
              "    <tr>\n",
              "      <th>FDX07</th>\n",
              "      <td>19.200000</td>\n",
              "      <td>0</td>\n",
              "      <td>0.000000</td>\n",
              "      <td>182.0950</td>\n",
              "      <td>0.761819</td>\n",
              "      <td>3</td>\n",
              "      <td>732.3800</td>\n",
              "      <td>0</td>\n",
              "      <td>0</td>\n",
              "      <td>0</td>\n",
              "      <td>0</td>\n",
              "      <td>0</td>\n",
              "      <td>0</td>\n",
              "      <td>1</td>\n",
              "      <td>0</td>\n",
              "      <td>0</td>\n",
              "      <td>0</td>\n",
              "      <td>0</td>\n",
              "      <td>0</td>\n",
              "      <td>0</td>\n",
              "      <td>0</td>\n",
              "      <td>0</td>\n",
              "      <td>0</td>\n",
              "      <td>1</td>\n",
              "      <td>0</td>\n",
              "      <td>0</td>\n",
              "      <td>0</td>\n",
              "      <td>0</td>\n",
              "      <td>0</td>\n",
              "      <td>0</td>\n",
              "      <td>0</td>\n",
              "      <td>0</td>\n",
              "      <td>0</td>\n",
              "      <td>1</td>\n",
              "      <td>0</td>\n",
              "      <td>0</td>\n",
              "      <td>0</td>\n",
              "    </tr>\n",
              "    <tr>\n",
              "      <th>NCD19</th>\n",
              "      <td>8.930000</td>\n",
              "      <td>1</td>\n",
              "      <td>0.000000</td>\n",
              "      <td>53.8614</td>\n",
              "      <td>2.000000</td>\n",
              "      <td>3</td>\n",
              "      <td>994.7052</td>\n",
              "      <td>0</td>\n",
              "      <td>0</td>\n",
              "      <td>0</td>\n",
              "      <td>0</td>\n",
              "      <td>0</td>\n",
              "      <td>0</td>\n",
              "      <td>0</td>\n",
              "      <td>0</td>\n",
              "      <td>0</td>\n",
              "      <td>1</td>\n",
              "      <td>0</td>\n",
              "      <td>0</td>\n",
              "      <td>0</td>\n",
              "      <td>0</td>\n",
              "      <td>0</td>\n",
              "      <td>0</td>\n",
              "      <td>0</td>\n",
              "      <td>1</td>\n",
              "      <td>0</td>\n",
              "      <td>0</td>\n",
              "      <td>0</td>\n",
              "      <td>0</td>\n",
              "      <td>0</td>\n",
              "      <td>0</td>\n",
              "      <td>0</td>\n",
              "      <td>0</td>\n",
              "      <td>0</td>\n",
              "      <td>1</td>\n",
              "      <td>0</td>\n",
              "      <td>0</td>\n",
              "    </tr>\n",
              "    <tr>\n",
              "      <th>FDP36</th>\n",
              "      <td>10.395000</td>\n",
              "      <td>0</td>\n",
              "      <td>0.000000</td>\n",
              "      <td>51.4008</td>\n",
              "      <td>1.000000</td>\n",
              "      <td>3</td>\n",
              "      <td>556.6088</td>\n",
              "      <td>1</td>\n",
              "      <td>0</td>\n",
              "      <td>0</td>\n",
              "      <td>0</td>\n",
              "      <td>0</td>\n",
              "      <td>0</td>\n",
              "      <td>0</td>\n",
              "      <td>0</td>\n",
              "      <td>0</td>\n",
              "      <td>0</td>\n",
              "      <td>0</td>\n",
              "      <td>0</td>\n",
              "      <td>0</td>\n",
              "      <td>0</td>\n",
              "      <td>0</td>\n",
              "      <td>0</td>\n",
              "      <td>0</td>\n",
              "      <td>0</td>\n",
              "      <td>0</td>\n",
              "      <td>1</td>\n",
              "      <td>0</td>\n",
              "      <td>0</td>\n",
              "      <td>0</td>\n",
              "      <td>0</td>\n",
              "      <td>0</td>\n",
              "      <td>0</td>\n",
              "      <td>0</td>\n",
              "      <td>0</td>\n",
              "      <td>1</td>\n",
              "      <td>0</td>\n",
              "    </tr>\n",
              "    <tr>\n",
              "      <th>FDO10</th>\n",
              "      <td>13.650000</td>\n",
              "      <td>0</td>\n",
              "      <td>0.012741</td>\n",
              "      <td>57.6588</td>\n",
              "      <td>2.000000</td>\n",
              "      <td>3</td>\n",
              "      <td>343.5528</td>\n",
              "      <td>0</td>\n",
              "      <td>0</td>\n",
              "      <td>0</td>\n",
              "      <td>0</td>\n",
              "      <td>0</td>\n",
              "      <td>0</td>\n",
              "      <td>0</td>\n",
              "      <td>0</td>\n",
              "      <td>0</td>\n",
              "      <td>0</td>\n",
              "      <td>0</td>\n",
              "      <td>0</td>\n",
              "      <td>0</td>\n",
              "      <td>1</td>\n",
              "      <td>0</td>\n",
              "      <td>0</td>\n",
              "      <td>0</td>\n",
              "      <td>1</td>\n",
              "      <td>0</td>\n",
              "      <td>0</td>\n",
              "      <td>0</td>\n",
              "      <td>0</td>\n",
              "      <td>0</td>\n",
              "      <td>0</td>\n",
              "      <td>0</td>\n",
              "      <td>0</td>\n",
              "      <td>0</td>\n",
              "      <td>1</td>\n",
              "      <td>0</td>\n",
              "      <td>0</td>\n",
              "    </tr>\n",
              "    <tr>\n",
              "      <th>FDP10</th>\n",
              "      <td>12.857645</td>\n",
              "      <td>1</td>\n",
              "      <td>0.127470</td>\n",
              "      <td>107.7622</td>\n",
              "      <td>1.000000</td>\n",
              "      <td>3</td>\n",
              "      <td>4022.7636</td>\n",
              "      <td>0</td>\n",
              "      <td>0</td>\n",
              "      <td>0</td>\n",
              "      <td>0</td>\n",
              "      <td>0</td>\n",
              "      <td>0</td>\n",
              "      <td>0</td>\n",
              "      <td>0</td>\n",
              "      <td>0</td>\n",
              "      <td>0</td>\n",
              "      <td>0</td>\n",
              "      <td>0</td>\n",
              "      <td>0</td>\n",
              "      <td>1</td>\n",
              "      <td>0</td>\n",
              "      <td>0</td>\n",
              "      <td>0</td>\n",
              "      <td>0</td>\n",
              "      <td>0</td>\n",
              "      <td>0</td>\n",
              "      <td>0</td>\n",
              "      <td>1</td>\n",
              "      <td>0</td>\n",
              "      <td>0</td>\n",
              "      <td>0</td>\n",
              "      <td>0</td>\n",
              "      <td>0</td>\n",
              "      <td>0</td>\n",
              "      <td>0</td>\n",
              "      <td>1</td>\n",
              "    </tr>\n",
              "    <tr>\n",
              "      <th>FDH17</th>\n",
              "      <td>16.200000</td>\n",
              "      <td>0</td>\n",
              "      <td>0.016687</td>\n",
              "      <td>96.9726</td>\n",
              "      <td>0.761819</td>\n",
              "      <td>2</td>\n",
              "      <td>1076.5986</td>\n",
              "      <td>0</td>\n",
              "      <td>0</td>\n",
              "      <td>0</td>\n",
              "      <td>0</td>\n",
              "      <td>0</td>\n",
              "      <td>1</td>\n",
              "      <td>0</td>\n",
              "      <td>0</td>\n",
              "      <td>0</td>\n",
              "      <td>0</td>\n",
              "      <td>0</td>\n",
              "      <td>0</td>\n",
              "      <td>0</td>\n",
              "      <td>0</td>\n",
              "      <td>0</td>\n",
              "      <td>0</td>\n",
              "      <td>0</td>\n",
              "      <td>0</td>\n",
              "      <td>0</td>\n",
              "      <td>0</td>\n",
              "      <td>0</td>\n",
              "      <td>0</td>\n",
              "      <td>0</td>\n",
              "      <td>1</td>\n",
              "      <td>0</td>\n",
              "      <td>0</td>\n",
              "      <td>0</td>\n",
              "      <td>1</td>\n",
              "      <td>0</td>\n",
              "      <td>0</td>\n",
              "    </tr>\n",
              "    <tr>\n",
              "      <th>FDU28</th>\n",
              "      <td>19.200000</td>\n",
              "      <td>0</td>\n",
              "      <td>0.094450</td>\n",
              "      <td>187.8214</td>\n",
              "      <td>0.761819</td>\n",
              "      <td>2</td>\n",
              "      <td>4710.5350</td>\n",
              "      <td>0</td>\n",
              "      <td>0</td>\n",
              "      <td>0</td>\n",
              "      <td>0</td>\n",
              "      <td>0</td>\n",
              "      <td>1</td>\n",
              "      <td>0</td>\n",
              "      <td>0</td>\n",
              "      <td>0</td>\n",
              "      <td>0</td>\n",
              "      <td>0</td>\n",
              "      <td>0</td>\n",
              "      <td>0</td>\n",
              "      <td>0</td>\n",
              "      <td>0</td>\n",
              "      <td>0</td>\n",
              "      <td>0</td>\n",
              "      <td>0</td>\n",
              "      <td>1</td>\n",
              "      <td>0</td>\n",
              "      <td>0</td>\n",
              "      <td>0</td>\n",
              "      <td>0</td>\n",
              "      <td>0</td>\n",
              "      <td>0</td>\n",
              "      <td>0</td>\n",
              "      <td>0</td>\n",
              "      <td>1</td>\n",
              "      <td>0</td>\n",
              "      <td>0</td>\n",
              "    </tr>\n",
              "  </tbody>\n",
              "</table>\n",
              "</div>"
            ],
            "text/plain": [
              "                 Item_Weight  ...  Outlet_Type_Supermarket Type3\n",
              "Item_Identifier               ...                               \n",
              "FDA15               9.300000  ...                              0\n",
              "DRC01               5.920000  ...                              0\n",
              "FDN15              17.500000  ...                              0\n",
              "FDX07              19.200000  ...                              0\n",
              "NCD19               8.930000  ...                              0\n",
              "FDP36              10.395000  ...                              0\n",
              "FDO10              13.650000  ...                              0\n",
              "FDP10              12.857645  ...                              1\n",
              "FDH17              16.200000  ...                              0\n",
              "FDU28              19.200000  ...                              0\n",
              "\n",
              "[10 rows x 37 columns]"
            ]
          },
          "metadata": {
            "tags": []
          },
          "execution_count": 1083
        }
      ]
    },
    {
      "cell_type": "code",
      "metadata": {
        "id": "qWeHMFDgT6hi",
        "colab_type": "code",
        "colab": {}
      },
      "source": [
        "x = df.drop([\"Item_Outlet_Sales\"],axis=1)           #independent variable\n",
        "y = df.Item_Outlet_Sales                            #dependent variable"
      ],
      "execution_count": null,
      "outputs": []
    },
    {
      "cell_type": "code",
      "metadata": {
        "id": "eGTp6UDLT8XQ",
        "colab_type": "code",
        "colab": {
          "base_uri": "https://localhost:8080/",
          "height": 34
        },
        "outputId": "27b1c921-fc00-4722-85f7-1962fd3f6b2c"
      },
      "source": [
        "# Splitting into train and test data\n",
        "\n",
        "x_train,x_test,y_train,y_test = train_test_split(x,y,test_size = 0.3, random_state = 0)\n",
        "print(len(x_train),len(x_test))"
      ],
      "execution_count": null,
      "outputs": [
        {
          "output_type": "stream",
          "text": [
            "5966 2557\n"
          ],
          "name": "stdout"
        }
      ]
    },
    {
      "cell_type": "code",
      "metadata": {
        "id": "0n8AQ_u_T9_h",
        "colab_type": "code",
        "colab": {
          "base_uri": "https://localhost:8080/",
          "height": 34
        },
        "outputId": "b265661a-5c02-4779-fab8-a1c157d93d74"
      },
      "source": [
        "# Fitting the linear regression model\n",
        "\n",
        "reg = LinearRegression()\n",
        "reg.fit(x_train,y_train)"
      ],
      "execution_count": null,
      "outputs": [
        {
          "output_type": "execute_result",
          "data": {
            "text/plain": [
              "LinearRegression(copy_X=True, fit_intercept=True, n_jobs=None, normalize=False)"
            ]
          },
          "metadata": {
            "tags": []
          },
          "execution_count": 1086
        }
      ]
    },
    {
      "cell_type": "code",
      "metadata": {
        "id": "E3oZ4rSuUDHk",
        "colab_type": "code",
        "colab": {
          "base_uri": "https://localhost:8080/",
          "height": 168
        },
        "outputId": "6b482f77-5a23-4bfe-c8e1-8a8009e3c149"
      },
      "source": [
        "reg.coef_"
      ],
      "execution_count": null,
      "outputs": [
        {
          "output_type": "execute_result",
          "data": {
            "text/plain": [
              "array([-1.68607223e+00, -3.14855799e+01, -3.30412640e+02,  1.53630035e+01,\n",
              "        8.53466282e+00,  1.19467426e+02,  1.25792828e+01, -8.34418793e+01,\n",
              "       -6.55090852e+00,  4.31861380e+01, -8.69813301e+01, -3.22527772e+01,\n",
              "       -1.10709353e+00, -1.50506220e-01, -4.00629853e+01, -4.05834726e+01,\n",
              "       -8.25764102e-02, -7.05871442e+00,  2.06831756e+02,  2.25602750e+01,\n",
              "       -4.34155798e+01,  5.65303717e+01, -6.22245920e+02, -1.31864305e+02,\n",
              "        9.28472362e+01, -5.08223341e+01, -4.29711146e+02,  7.91807229e+02,\n",
              "        1.12935690e+02, -6.00648390e+01,  9.46078549e+01,  2.02510535e+02,\n",
              "       -1.05195707e+03,  3.10972172e+02, -5.08223341e+01,  7.91807229e+02])"
            ]
          },
          "metadata": {
            "tags": []
          },
          "execution_count": 1087
        }
      ]
    },
    {
      "cell_type": "code",
      "metadata": {
        "id": "K7V_lMxzUEqn",
        "colab_type": "code",
        "colab": {
          "base_uri": "https://localhost:8080/",
          "height": 34
        },
        "outputId": "b5d0fd8b-66bc-417c-fbaf-16c67e8d6f08"
      },
      "source": [
        "reg.intercept_"
      ],
      "execution_count": null,
      "outputs": [
        {
          "output_type": "execute_result",
          "data": {
            "text/plain": [
              "-371.16655789081733"
            ]
          },
          "metadata": {
            "tags": []
          },
          "execution_count": 1088
        }
      ]
    },
    {
      "cell_type": "code",
      "metadata": {
        "id": "D1xMOqpnUGlB",
        "colab_type": "code",
        "colab": {
          "base_uri": "https://localhost:8080/",
          "height": 50
        },
        "outputId": "8749ee2f-287f-49f6-c7d0-1279317c9734"
      },
      "source": [
        "# Predicting the x_train values\n",
        "pred_train_lr= reg.predict(x_train)\n",
        "pred_train_lr"
      ],
      "execution_count": null,
      "outputs": [
        {
          "output_type": "execute_result",
          "data": {
            "text/plain": [
              "array([1603.03910878, 2476.87014662, 3931.99041327, ..., 1504.40714463,\n",
              "       1860.43170925, 3055.13434254])"
            ]
          },
          "metadata": {
            "tags": []
          },
          "execution_count": 1129
        }
      ]
    },
    {
      "cell_type": "code",
      "metadata": {
        "id": "bSSNU8IUVQqf",
        "colab_type": "code",
        "colab": {
          "base_uri": "https://localhost:8080/",
          "height": 50
        },
        "outputId": "7d5ab4d3-fb12-41b4-ffb5-11673ffd2c9c"
      },
      "source": [
        "# Predicting the x_test values\n",
        "pred_test_lr= reg.predict(x_test)\n",
        "pred_test_lr"
      ],
      "execution_count": null,
      "outputs": [
        {
          "output_type": "execute_result",
          "data": {
            "text/plain": [
              "array([2450.78386778, 2537.32745437, 2173.29597152, ..., 1722.81005163,\n",
              "       2642.45984203, 2812.48474318])"
            ]
          },
          "metadata": {
            "tags": []
          },
          "execution_count": 1130
        }
      ]
    },
    {
      "cell_type": "code",
      "metadata": {
        "id": "gTW2NTJkVS2F",
        "colab_type": "code",
        "colab": {
          "base_uri": "https://localhost:8080/",
          "height": 50
        },
        "outputId": "76dcf707-a19c-4c2c-b532-8adf89cd2e97"
      },
      "source": [
        "# RMSE value\n",
        "print(np.sqrt(mean_squared_error(y_train,pred_train_lr)))\n",
        "\n",
        "# R-squared value\n",
        "print(r2_score(y_train, pred_train_lr))"
      ],
      "execution_count": null,
      "outputs": [
        {
          "output_type": "stream",
          "text": [
            "1116.279822028104\n",
            "0.5633974724933988\n"
          ],
          "name": "stdout"
        }
      ]
    },
    {
      "cell_type": "code",
      "metadata": {
        "id": "ICbl2cI5A1Qp",
        "colab_type": "code",
        "colab": {}
      },
      "source": [
        "# Checking the train and test score of linear regression\n",
        "\n",
        "train_score=reg.score(x_train, y_train)\n",
        "test_score=reg.score(x_test, y_test)"
      ],
      "execution_count": null,
      "outputs": []
    },
    {
      "cell_type": "code",
      "metadata": {
        "id": "db8HYwNiUIQt",
        "colab_type": "code",
        "colab": {
          "base_uri": "https://localhost:8080/",
          "height": 34
        },
        "outputId": "e4921d4c-ac2d-4744-d905-7e2b0a076ff2"
      },
      "source": [
        "# Finding the number of features used for fitting\n",
        "\n",
        "coeff_used = np.sum(reg.coef_!=0)\n",
        "print(\"Number of features used: \", coeff_used)"
      ],
      "execution_count": null,
      "outputs": [
        {
          "output_type": "stream",
          "text": [
            "Number of features used:  36\n"
          ],
          "name": "stdout"
        }
      ]
    },
    {
      "cell_type": "code",
      "metadata": {
        "id": "_u6zG3T372M9",
        "colab_type": "code",
        "colab": {
          "base_uri": "https://localhost:8080/",
          "height": 281
        },
        "outputId": "866f5fff-0226-47c5-8303-4614ccc4e116"
      },
      "source": [
        "# Residual plot\n",
        "\n",
        "x = [i for i in range(1,len(pred_test_lr)+1)]\n",
        "\n",
        "x_plot = plt.scatter(x,(pred_test_lr-y_test),c = 'b')\n",
        "plt.plot(x,[0]*len(pred_test_lr),c = 'r')\n",
        "\n",
        "plt.title(\"Residual Plot\")\n",
        "plt.show()"
      ],
      "execution_count": null,
      "outputs": [
        {
          "output_type": "display_data",
          "data": {
            "image/png": "[encoded data removed]",
            "text/plain": [
              "<Figure size 432x288 with 1 Axes>"
            ]
          },
          "metadata": {
            "tags": [],
            "needs_background": "light"
          }
        }
      ]
    },
    {
      "cell_type": "markdown",
      "metadata": {
        "id": "fM91l6ml77eQ",
        "colab_type": "text"
      },
      "source": [
        "REGULARZATION"
      ]
    },
    {
      "cell_type": "code",
      "metadata": {
        "id": "NYjj6wcA79lG",
        "colab_type": "code",
        "colab": {
          "base_uri": "https://localhost:8080/",
          "height": 286
        },
        "outputId": "5990f540-e3b5-40b5-a576-ad0499a336dd"
      },
      "source": [
        "predictors = x_train.columns\n",
        "predictors"
      ],
      "execution_count": null,
      "outputs": [
        {
          "output_type": "execute_result",
          "data": {
            "text/plain": [
              "Index(['Item_Weight', 'Item_Fat_Content', 'Item_Visibility', 'Item_MRP',\n",
              "       'Outlet_Size', 'Outlet_Location_Type', 'Item_Type_Baking Goods',\n",
              "       'Item_Type_Breads', 'Item_Type_Breakfast', 'Item_Type_Canned',\n",
              "       'Item_Type_Dairy', 'Item_Type_Frozen Foods',\n",
              "       'Item_Type_Fruits and Vegetables', 'Item_Type_Hard Drinks',\n",
              "       'Item_Type_Health and Hygiene', 'Item_Type_Household', 'Item_Type_Meat',\n",
              "       'Item_Type_Others', 'Item_Type_Seafood', 'Item_Type_Snack Foods',\n",
              "       'Item_Type_Soft Drinks', 'Item_Type_Starchy Foods',\n",
              "       'Outlet_Identifier_OUT010', 'Outlet_Identifier_OUT013',\n",
              "       'Outlet_Identifier_OUT017', 'Outlet_Identifier_OUT018',\n",
              "       'Outlet_Identifier_OUT019', 'Outlet_Identifier_OUT027',\n",
              "       'Outlet_Identifier_OUT035', 'Outlet_Identifier_OUT045',\n",
              "       'Outlet_Identifier_OUT046', 'Outlet_Identifier_OUT049',\n",
              "       'Outlet_Type_Grocery Store', 'Outlet_Type_Supermarket Type1',\n",
              "       'Outlet_Type_Supermarket Type2', 'Outlet_Type_Supermarket Type3'],\n",
              "      dtype='object')"
            ]
          },
          "metadata": {
            "tags": []
          },
          "execution_count": 1095
        }
      ]
    },
    {
      "cell_type": "code",
      "metadata": {
        "id": "JOXajC5A8GVs",
        "colab_type": "code",
        "colab": {
          "base_uri": "https://localhost:8080/",
          "height": 638
        },
        "outputId": "f7099fc4-6a82-4af4-9f4f-db0a6e8781d7"
      },
      "source": [
        "coef = pd.Series(reg.coef_,predictors).sort_values()\n",
        "coef"
      ],
      "execution_count": null,
      "outputs": [
        {
          "output_type": "execute_result",
          "data": {
            "text/plain": [
              "Outlet_Type_Grocery Store         -1051.957066\n",
              "Outlet_Identifier_OUT010           -622.245920\n",
              "Outlet_Identifier_OUT019           -429.711146\n",
              "Item_Visibility                    -330.412640\n",
              "Outlet_Identifier_OUT013           -131.864305\n",
              "Item_Type_Dairy                     -86.981330\n",
              "Item_Type_Breads                    -83.441879\n",
              "Outlet_Identifier_OUT045            -60.064839\n",
              "Outlet_Type_Supermarket Type2       -50.822334\n",
              "Outlet_Identifier_OUT018            -50.822334\n",
              "Item_Type_Soft Drinks               -43.415580\n",
              "Item_Type_Household                 -40.583473\n",
              "Item_Type_Health and Hygiene        -40.062985\n",
              "Item_Type_Frozen Foods              -32.252777\n",
              "Item_Fat_Content                    -31.485580\n",
              "Item_Type_Others                     -7.058714\n",
              "Item_Type_Breakfast                  -6.550909\n",
              "Item_Weight                          -1.686072\n",
              "Item_Type_Fruits and Vegetables      -1.107094\n",
              "Item_Type_Hard Drinks                -0.150506\n",
              "Item_Type_Meat                       -0.082576\n",
              "Outlet_Size                           8.534663\n",
              "Item_Type_Baking Goods               12.579283\n",
              "Item_MRP                             15.363004\n",
              "Item_Type_Snack Foods                22.560275\n",
              "Item_Type_Canned                     43.186138\n",
              "Item_Type_Starchy Foods              56.530372\n",
              "Outlet_Identifier_OUT017             92.847236\n",
              "Outlet_Identifier_OUT046             94.607855\n",
              "Outlet_Identifier_OUT035            112.935690\n",
              "Outlet_Location_Type                119.467426\n",
              "Outlet_Identifier_OUT049            202.510535\n",
              "Item_Type_Seafood                   206.831756\n",
              "Outlet_Type_Supermarket Type1       310.972172\n",
              "Outlet_Type_Supermarket Type3       791.807229\n",
              "Outlet_Identifier_OUT027            791.807229\n",
              "dtype: float64"
            ]
          },
          "metadata": {
            "tags": []
          },
          "execution_count": 1096
        }
      ]
    },
    {
      "cell_type": "code",
      "metadata": {
        "id": "WQd1sEzE8OW6",
        "colab_type": "code",
        "colab": {
          "base_uri": "https://localhost:8080/",
          "height": 669
        },
        "outputId": "6626fb29-e31b-4f53-d1d6-796148950aa3"
      },
      "source": [
        "coef.plot(kind = 'bar',title = 'Model Coefficients',figsize=(10,8))"
      ],
      "execution_count": null,
      "outputs": [
        {
          "output_type": "execute_result",
          "data": {
            "text/plain": [
              "<matplotlib.axes._subplots.AxesSubplot at 0x7f7795095470>"
            ]
          },
          "metadata": {
            "tags": []
          },
          "execution_count": 1097
        },
        {
          "output_type": "display_data",
          "data": {
            "image/png": "[encoded data removed]",
            "text/plain": [
              "<Figure size 720x576 with 1 Axes>"
            ]
          },
          "metadata": {
            "tags": [],
            "needs_background": "light"
          }
        }
      ]
    },
    {
      "cell_type": "markdown",
      "metadata": {
        "id": "t0Apb6Zk8SPq",
        "colab_type": "text"
      },
      "source": [
        "RIDGE REGRESSION"
      ]
    },
    {
      "cell_type": "code",
      "metadata": {
        "id": "NjmSsEm78UK5",
        "colab_type": "code",
        "colab": {}
      },
      "source": [
        "# Fitting the ridge regression model\n",
        "\n",
        "from sklearn.linear_model import Ridge\n",
        "ridgeReg = Ridge(alpha=0.001,normalize=True) #  comparison with alpha value\n",
        "ridgeReg.fit(x_train, y_train)\n",
        "pred1 = ridgeReg.predict(x_test)"
      ],
      "execution_count": null,
      "outputs": []
    },
    {
      "cell_type": "code",
      "metadata": {
        "id": "wYD0Le3d8Y5k",
        "colab_type": "code",
        "colab": {
          "base_uri": "https://localhost:8080/",
          "height": 168
        },
        "outputId": "101906c7-bc2e-444d-c5e7-10b3527fe042"
      },
      "source": [
        "ridgeReg.coef_ "
      ],
      "execution_count": null,
      "outputs": [
        {
          "output_type": "execute_result",
          "data": {
            "text/plain": [
              "array([  -1.68107193,  -31.4965484 , -331.87524536,   15.34750874,\n",
              "         32.3691086 ,   50.84376011,   24.62936508,  -71.00718409,\n",
              "          5.74126707,   55.43989967,  -74.50845205,  -19.93131255,\n",
              "         11.21739614,   12.14619434,  -27.86767983,  -28.1362451 ,\n",
              "         12.18741037,    4.97552309,  218.9281374 ,   34.8963577 ,\n",
              "        -31.21221158,   68.87694163, -851.85607875,  -67.13170515,\n",
              "        118.26718784,  -86.77052575, -802.21480471,  755.48636111,\n",
              "        132.71819005,  -34.45447521,   45.83997435,  153.61621558,\n",
              "       -887.83972965,  150.50168558,  -86.77052575,  755.48636111])"
            ]
          },
          "metadata": {
            "tags": []
          },
          "execution_count": 1099
        }
      ]
    },
    {
      "cell_type": "code",
      "metadata": {
        "id": "ZT8HcNhi8a3L",
        "colab_type": "code",
        "colab": {
          "base_uri": "https://localhost:8080/",
          "height": 34
        },
        "outputId": "4264f3ab-1d2f-4dea-e833-39f5ddefabcb"
      },
      "source": [
        "ridgeReg.intercept_ "
      ],
      "execution_count": null,
      "outputs": [
        {
          "output_type": "execute_result",
          "data": {
            "text/plain": [
              "-127.2582318602058"
            ]
          },
          "metadata": {
            "tags": []
          },
          "execution_count": 1100
        }
      ]
    },
    {
      "cell_type": "code",
      "metadata": {
        "id": "4DNgnz5f8l5L",
        "colab_type": "code",
        "colab": {
          "base_uri": "https://localhost:8080/",
          "height": 50
        },
        "outputId": "d715c97d-3c9f-4c49-f8f5-bcca0b5c55e7"
      },
      "source": [
        "ridge_rmse = np.sqrt(mean_squared_error(y_test,pred1))\n",
        "ridge_r2 = r2_score(y_test,pred1)\n",
        "coeff_used = np.sum(ridgeReg.coef_!=0)\n",
        "print(\"RMSE = \",ridge_rmse,\"R2 = \",ridge_r2)\n",
        "print(\"Number of features used: \", coeff_used)"
      ],
      "execution_count": null,
      "outputs": [
        {
          "output_type": "stream",
          "text": [
            "RMSE =  1153.993169228925 R2 =  0.5626718351671283\n",
            "Number of features used:  36\n"
          ],
          "name": "stdout"
        }
      ]
    },
    {
      "cell_type": "code",
      "metadata": {
        "id": "GwvKOO-18o2H",
        "colab_type": "code",
        "colab": {
          "base_uri": "https://localhost:8080/",
          "height": 281
        },
        "outputId": "68433210-bb1a-40ab-946c-0e488af23659"
      },
      "source": [
        "# Residual plot\n",
        "\n",
        "x = [i for i in range(1,len(pred1)+1)]\n",
        "\n",
        "x_plot = plt.scatter(x,(pred1-y_test),c = 'b')\n",
        "plt.plot(x,[0]*len(pred1),c = 'r')\n",
        "plt.title(\"Residual Plot\")\n",
        "plt.show()"
      ],
      "execution_count": null,
      "outputs": [
        {
          "output_type": "display_data",
          "data": {
            "image/png": "[encoded data removed]",
            "text/plain": [
              "<Figure size 432x288 with 1 Axes>"
            ]
          },
          "metadata": {
            "tags": [],
            "needs_background": "light"
          }
        }
      ]
    },
    {
      "cell_type": "code",
      "metadata": {
        "id": "zcYK-gmH8sN5",
        "colab_type": "code",
        "colab": {
          "base_uri": "https://localhost:8080/",
          "height": 343
        },
        "outputId": "1016313c-3ce6-4332-ab78-72f3efd7bbd2"
      },
      "source": [
        "df = pd.DataFrame(columns = ['Linear Reg','Ridge Reg'])\n",
        "for i in range(len(ridgeReg.coef_)):\n",
        "  df = df.append({'Linear Reg' :reg.coef_[i], 'Ridge Reg' : ridgeReg.coef_[i]}, ignore_index = True)\n",
        "df.head(10)"
      ],
      "execution_count": null,
      "outputs": [
        {
          "output_type": "execute_result",
          "data": {
            "text/html": [
              "<div>\n",
              "<style scoped>\n",
              "    .dataframe tbody tr th:only-of-type {\n",
              "        vertical-align: middle;\n",
              "    }\n",
              "\n",
              "    .dataframe tbody tr th {\n",
              "        vertical-align: top;\n",
              "    }\n",
              "\n",
              "    .dataframe thead th {\n",
              "        text-align: right;\n",
              "    }\n",
              "</style>\n",
              "<table border=\"1\" class=\"dataframe\">\n",
              "  <thead>\n",
              "    <tr style=\"text-align: right;\">\n",
              "      <th></th>\n",
              "      <th>Linear Reg</th>\n",
              "      <th>Ridge Reg</th>\n",
              "    </tr>\n",
              "  </thead>\n",
              "  <tbody>\n",
              "    <tr>\n",
              "      <th>0</th>\n",
              "      <td>-1.686072</td>\n",
              "      <td>-1.681072</td>\n",
              "    </tr>\n",
              "    <tr>\n",
              "      <th>1</th>\n",
              "      <td>-31.485580</td>\n",
              "      <td>-31.496548</td>\n",
              "    </tr>\n",
              "    <tr>\n",
              "      <th>2</th>\n",
              "      <td>-330.412640</td>\n",
              "      <td>-331.875245</td>\n",
              "    </tr>\n",
              "    <tr>\n",
              "      <th>3</th>\n",
              "      <td>15.363004</td>\n",
              "      <td>15.347509</td>\n",
              "    </tr>\n",
              "    <tr>\n",
              "      <th>4</th>\n",
              "      <td>8.534663</td>\n",
              "      <td>32.369109</td>\n",
              "    </tr>\n",
              "    <tr>\n",
              "      <th>5</th>\n",
              "      <td>119.467426</td>\n",
              "      <td>50.843760</td>\n",
              "    </tr>\n",
              "    <tr>\n",
              "      <th>6</th>\n",
              "      <td>12.579283</td>\n",
              "      <td>24.629365</td>\n",
              "    </tr>\n",
              "    <tr>\n",
              "      <th>7</th>\n",
              "      <td>-83.441879</td>\n",
              "      <td>-71.007184</td>\n",
              "    </tr>\n",
              "    <tr>\n",
              "      <th>8</th>\n",
              "      <td>-6.550909</td>\n",
              "      <td>5.741267</td>\n",
              "    </tr>\n",
              "    <tr>\n",
              "      <th>9</th>\n",
              "      <td>43.186138</td>\n",
              "      <td>55.439900</td>\n",
              "    </tr>\n",
              "  </tbody>\n",
              "</table>\n",
              "</div>"
            ],
            "text/plain": [
              "   Linear Reg   Ridge Reg\n",
              "0   -1.686072   -1.681072\n",
              "1  -31.485580  -31.496548\n",
              "2 -330.412640 -331.875245\n",
              "3   15.363004   15.347509\n",
              "4    8.534663   32.369109\n",
              "5  119.467426   50.843760\n",
              "6   12.579283   24.629365\n",
              "7  -83.441879  -71.007184\n",
              "8   -6.550909    5.741267\n",
              "9   43.186138   55.439900"
            ]
          },
          "metadata": {
            "tags": []
          },
          "execution_count": 1103
        }
      ]
    },
    {
      "cell_type": "code",
      "metadata": {
        "id": "hmzB3sgy815N",
        "colab_type": "code",
        "colab": {
          "base_uri": "https://localhost:8080/",
          "height": 669
        },
        "outputId": "b8b38767-e3d0-4cd8-a9bf-c22ab25326a4"
      },
      "source": [
        "predictors = x_train.columns\n",
        "coef = pd.Series(ridgeReg.coef_,predictors).sort_values()\n",
        "coef.plot(kind = 'bar', title = 'Model Coefficients',figsize=(10,8))"
      ],
      "execution_count": null,
      "outputs": [
        {
          "output_type": "execute_result",
          "data": {
            "text/plain": [
              "<matplotlib.axes._subplots.AxesSubplot at 0x7f7795d36cc0>"
            ]
          },
          "metadata": {
            "tags": []
          },
          "execution_count": 1104
        },
        {
          "output_type": "display_data",
          "data": {
            "image/png": "[encoded data removed]",
            "text/plain": [
              "<Figure size 720x576 with 1 Axes>"
            ]
          },
          "metadata": {
            "tags": [],
            "needs_background": "light"
          }
        }
      ]
    },
    {
      "cell_type": "code",
      "metadata": {
        "id": "CsA33vL39Ku6",
        "colab_type": "code",
        "colab": {}
      },
      "source": [
        "# Checking the train and test score of ridge regression\n",
        "\n",
        "Ridge_train_score = ridgeReg.score(x_train,y_train)\n",
        "Ridge_test_score = ridgeReg.score(x_test, y_test)"
      ],
      "execution_count": null,
      "outputs": []
    },
    {
      "cell_type": "code",
      "metadata": {
        "id": "8dN_p8xT9TI0",
        "colab_type": "code",
        "colab": {
          "base_uri": "https://localhost:8080/",
          "height": 185
        },
        "outputId": "6bc4259d-b121-4f15-e9ee-38bc522a9309"
      },
      "source": [
        "print(\"Linear regression train score:\", train_score)\n",
        "print('\\n')\n",
        "print(\"Ridge regression train score:\", Ridge_train_score)\n",
        "print('\\n')\n",
        "print(\"Linear regression test score:\", test_score)\n",
        "print('\\n')\n",
        "print(\"Ridge regression test score:\", Ridge_test_score)"
      ],
      "execution_count": null,
      "outputs": [
        {
          "output_type": "stream",
          "text": [
            "Linear regression train score: 0.5633974724933988\n",
            "\n",
            "\n",
            "Ridge regression train score: 0.5633971001611531\n",
            "\n",
            "\n",
            "Linear regression test score: 0.5627080481600449\n",
            "\n",
            "\n",
            "Ridge regression test score: 0.5626718351671283\n"
          ],
          "name": "stdout"
        }
      ]
    },
    {
      "cell_type": "code",
      "metadata": {
        "id": "D7eJiRmf9ZBg",
        "colab_type": "code",
        "colab": {
          "base_uri": "https://localhost:8080/",
          "height": 284
        },
        "outputId": "43734a81-015c-47ff-f3d6-32db7fb3801b"
      },
      "source": [
        "plt.plot(ridgeReg.coef_,alpha=0.7,linestyle='none',marker='*',markersize=5,color='red',label=r'Ridge: $\\alpha = 0.001$')\n",
        "plt.plot(reg.coef_,alpha=0.4,linestyle='none',marker='o',markersize=7,color='green',label='Linear Regression')\n",
        "plt.xlabel('Coefficient Index',fontsize=16)\n",
        "plt.ylabel('Coefficient Magnitude',fontsize=16)\n",
        "plt.legend(fontsize=13)\n",
        "plt.show()"
      ],
      "execution_count": null,
      "outputs": [
        {
          "output_type": "display_data",
          "data": {
            "image/png": "[encoded data removed]",
            "text/plain": [
              "<Figure size 432x288 with 1 Axes>"
            ]
          },
          "metadata": {
            "tags": [],
            "needs_background": "light"
          }
        }
      ]
    },
    {
      "cell_type": "markdown",
      "metadata": {
        "id": "DbJED9_E-4Gz",
        "colab_type": "text"
      },
      "source": [
        "LASSO REGRESSION"
      ]
    },
    {
      "cell_type": "code",
      "metadata": {
        "id": "Z1DYwhGI-6m2",
        "colab_type": "code",
        "colab": {}
      },
      "source": [
        "# Fitting the lasso regression model\n",
        "\n",
        "from sklearn.linear_model import Lasso\n",
        "lassoReg = Lasso(alpha=0.01, max_iter=10e5, normalize = True)\n",
        "lassoReg.fit(x_train,y_train)\n",
        "pred2 = lassoReg.predict(x_test)\n"
      ],
      "execution_count": null,
      "outputs": []
    },
    {
      "cell_type": "code",
      "metadata": {
        "id": "7dLgR9gcCKob",
        "colab_type": "code",
        "colab": {
          "base_uri": "https://localhost:8080/",
          "height": 168
        },
        "outputId": "50ee2226-34e2-4cb1-c822-0e02c183865f"
      },
      "source": [
        "lassoReg.coef_"
      ],
      "execution_count": null,
      "outputs": [
        {
          "output_type": "execute_result",
          "data": {
            "text/plain": [
              "array([-1.50828523e+00, -3.10564069e+01, -3.17793983e+02,  1.53502713e+01,\n",
              "        0.00000000e+00,  0.00000000e+00,  1.24814997e+01, -7.57490419e+01,\n",
              "       -0.00000000e+00,  4.34570595e+01, -8.15883709e+01, -2.69918147e+01,\n",
              "        0.00000000e+00,  0.00000000e+00, -3.44017289e+01, -3.55467366e+01,\n",
              "        0.00000000e+00, -0.00000000e+00,  2.00240216e+02,  2.36486260e+01,\n",
              "       -3.71173051e+01,  5.36135470e+01, -0.00000000e+00,  0.00000000e+00,\n",
              "        9.30300486e+01, -1.47084662e+02, -4.23919100e+01,  1.39435571e+03,\n",
              "        1.15355472e+02, -5.52310771e+01, -1.84193484e+01,  8.52542520e+01,\n",
              "       -1.86283600e+03,  0.00000000e+00, -1.39313951e+02,  0.00000000e+00])"
            ]
          },
          "metadata": {
            "tags": []
          },
          "execution_count": 1109
        }
      ]
    },
    {
      "cell_type": "code",
      "metadata": {
        "id": "BM5mzYZhCQa8",
        "colab_type": "code",
        "colab": {
          "base_uri": "https://localhost:8080/",
          "height": 34
        },
        "outputId": "15a0e053-ad85-4b92-b628-bcf86afb2154"
      },
      "source": [
        "lassoReg.intercept_"
      ],
      "execution_count": null,
      "outputs": [
        {
          "output_type": "execute_result",
          "data": {
            "text/plain": [
              "178.43130356057918"
            ]
          },
          "metadata": {
            "tags": []
          },
          "execution_count": 1110
        }
      ]
    },
    {
      "cell_type": "code",
      "metadata": {
        "id": "m5Ypvy-nMEFs",
        "colab_type": "code",
        "colab": {
          "base_uri": "https://localhost:8080/",
          "height": 67
        },
        "outputId": "146d5db3-dd01-418d-9b37-9b255e2d5e4d"
      },
      "source": [
        "lasso_rmse = np.sqrt(mean_squared_error(y_test,pred2))\n",
        "lasso_r2 = r2_score(y_test,pred2)\n",
        "coeff_used = np.sum(lassoReg.coef_!=0)\n",
        "print(\"RMSE = \",lasso_rmse)\n",
        "print(\"R2 = \",lasso_r2)\n",
        "print(\"Number of features used: \", coeff_used)"
      ],
      "execution_count": null,
      "outputs": [
        {
          "output_type": "stream",
          "text": [
            "RMSE =  1153.9088114874003\n",
            "R2 =  0.5627357708451852\n",
            "Number of features used:  25\n"
          ],
          "name": "stdout"
        }
      ]
    },
    {
      "cell_type": "code",
      "metadata": {
        "id": "HYoummVr--52",
        "colab_type": "code",
        "colab": {}
      },
      "source": [
        "# Checking the train and test score of lasso regression\n",
        "\n",
        "train_score_lasso=lassoReg.score(x_train,y_train)\n",
        "test_score_lasso=lassoReg.score(x_test,y_test)"
      ],
      "execution_count": null,
      "outputs": []
    },
    {
      "cell_type": "code",
      "metadata": {
        "id": "40mG11kDN2Fu",
        "colab_type": "code",
        "colab": {
          "base_uri": "https://localhost:8080/",
          "height": 195
        },
        "outputId": "2449e407-aaaf-4e4b-a5d8-6e675337ee55"
      },
      "source": [
        "df1 = pd.DataFrame(columns = ['Linear Reg','Ridge Reg','Lasso Reg'])\n",
        "\n",
        "for i in range(len(ridgeReg.coef_)):\n",
        "  df1 = df1.append({'Linear Reg' :reg.coef_[i], 'Ridge Reg' :ridgeReg.coef_[i], 'Lasso Reg': lassoReg.coef_[i]},\n",
        "                 ignore_index = True)\n",
        "df1.head()"
      ],
      "execution_count": null,
      "outputs": [
        {
          "output_type": "execute_result",
          "data": {
            "text/html": [
              "<div>\n",
              "<style scoped>\n",
              "    .dataframe tbody tr th:only-of-type {\n",
              "        vertical-align: middle;\n",
              "    }\n",
              "\n",
              "    .dataframe tbody tr th {\n",
              "        vertical-align: top;\n",
              "    }\n",
              "\n",
              "    .dataframe thead th {\n",
              "        text-align: right;\n",
              "    }\n",
              "</style>\n",
              "<table border=\"1\" class=\"dataframe\">\n",
              "  <thead>\n",
              "    <tr style=\"text-align: right;\">\n",
              "      <th></th>\n",
              "      <th>Linear Reg</th>\n",
              "      <th>Ridge Reg</th>\n",
              "      <th>Lasso Reg</th>\n",
              "    </tr>\n",
              "  </thead>\n",
              "  <tbody>\n",
              "    <tr>\n",
              "      <th>0</th>\n",
              "      <td>-1.686072</td>\n",
              "      <td>-1.681072</td>\n",
              "      <td>-1.508285</td>\n",
              "    </tr>\n",
              "    <tr>\n",
              "      <th>1</th>\n",
              "      <td>-31.485580</td>\n",
              "      <td>-31.496548</td>\n",
              "      <td>-31.056407</td>\n",
              "    </tr>\n",
              "    <tr>\n",
              "      <th>2</th>\n",
              "      <td>-330.412640</td>\n",
              "      <td>-331.875245</td>\n",
              "      <td>-317.793983</td>\n",
              "    </tr>\n",
              "    <tr>\n",
              "      <th>3</th>\n",
              "      <td>15.363004</td>\n",
              "      <td>15.347509</td>\n",
              "      <td>15.350271</td>\n",
              "    </tr>\n",
              "    <tr>\n",
              "      <th>4</th>\n",
              "      <td>8.534663</td>\n",
              "      <td>32.369109</td>\n",
              "      <td>0.000000</td>\n",
              "    </tr>\n",
              "  </tbody>\n",
              "</table>\n",
              "</div>"
            ],
            "text/plain": [
              "   Linear Reg   Ridge Reg   Lasso Reg\n",
              "0   -1.686072   -1.681072   -1.508285\n",
              "1  -31.485580  -31.496548  -31.056407\n",
              "2 -330.412640 -331.875245 -317.793983\n",
              "3   15.363004   15.347509   15.350271\n",
              "4    8.534663   32.369109    0.000000"
            ]
          },
          "metadata": {
            "tags": []
          },
          "execution_count": 1113
        }
      ]
    },
    {
      "cell_type": "code",
      "metadata": {
        "id": "gMFxmC88O29K",
        "colab_type": "code",
        "colab": {
          "base_uri": "https://localhost:8080/",
          "height": 185
        },
        "outputId": "faed9467-98de-4df9-b7ef-b100ec215a80"
      },
      "source": [
        "print(\"Linear regression train score:\", train_score)\n",
        "print('\\n')\n",
        "print(\"Lasso regression train score:\", train_score_lasso)\n",
        "print('\\n')\n",
        "print(\"Linear regression test score:\", test_score)\n",
        "print('\\n')\n",
        "print(\"Lasso regression test score:\", test_score_lasso)"
      ],
      "execution_count": null,
      "outputs": [
        {
          "output_type": "stream",
          "text": [
            "Linear regression train score: 0.5633974724933988\n",
            "\n",
            "\n",
            "Lasso regression train score: 0.5633926253185761\n",
            "\n",
            "\n",
            "Linear regression test score: 0.5627080481600449\n",
            "\n",
            "\n",
            "Lasso regression test score: 0.5627357708451852\n"
          ],
          "name": "stdout"
        }
      ]
    },
    {
      "cell_type": "code",
      "metadata": {
        "id": "XpvPTDtwUaaI",
        "colab_type": "code",
        "colab": {
          "base_uri": "https://localhost:8080/",
          "height": 285
        },
        "outputId": "f047a66c-952f-48ef-9118-cdf256c0c43d"
      },
      "source": [
        "plt.plot(lassoReg.coef_,alpha=0.7,linestyle='none',marker='*',markersize=5,color='red',label=r'Lasso: $\\alpha = 0.01$')\n",
        "plt.plot(reg.coef_,alpha=0.4,linestyle='none',marker='o',markersize=7,color='green',label='Linear Regression')\n",
        "plt.xlabel('Coefficient Index',fontsize=16)\n",
        "plt.ylabel('Coefficient Magnitude',fontsize=16)\n",
        "plt.legend(fontsize=13)\n",
        "plt.show()"
      ],
      "execution_count": null,
      "outputs": [
        {
          "output_type": "display_data",
          "data": {
            "image/png": "[encoded data removed]",
            "text/plain": [
              "<Figure size 432x288 with 1 Axes>"
            ]
          },
          "metadata": {
            "tags": [],
            "needs_background": "light"
          }
        }
      ]
    },
    {
      "cell_type": "code",
      "metadata": {
        "id": "409lriZjONft",
        "colab_type": "code",
        "colab": {
          "base_uri": "https://localhost:8080/",
          "height": 669
        },
        "outputId": "6cf9dcb4-2539-4fb1-bd5d-ab5f2435a891"
      },
      "source": [
        "coef = pd.Series(lassoReg.coef_,predictors).sort_values()\n",
        "coef.plot(kind = 'bar', title = 'Model Coefficients',figsize=(10,8))"
      ],
      "execution_count": null,
      "outputs": [
        {
          "output_type": "execute_result",
          "data": {
            "text/plain": [
              "<matplotlib.axes._subplots.AxesSubplot at 0x7f7796666978>"
            ]
          },
          "metadata": {
            "tags": []
          },
          "execution_count": 1116
        },
        {
          "output_type": "display_data",
          "data": {
            "image/png": "[encoded data removed]",
            "text/plain": [
              "<Figure size 720x576 with 1 Axes>"
            ]
          },
          "metadata": {
            "tags": [],
            "needs_background": "light"
          }
        }
      ]
    },
    {
      "cell_type": "markdown",
      "metadata": {
        "id": "j5GoQvLwY43A",
        "colab_type": "text"
      },
      "source": [
        "PREDICTING TEST.CSV "
      ]
    },
    {
      "cell_type": "code",
      "metadata": {
        "id": "_d8KOma_Y8Ha",
        "colab_type": "code",
        "colab": {}
      },
      "source": [
        "test = test.set_index('Item_Identifier')\n",
        "test = test.drop([\"Outlet_Establishment_Year\"],axis=1)\n"
      ],
      "execution_count": null,
      "outputs": []
    },
    {
      "cell_type": "code",
      "metadata": {
        "id": "a2L7qQ8kZM3N",
        "colab_type": "code",
        "colab": {}
      },
      "source": [
        "test['Item_Fat_Content'] = test['Item_Fat_Content'].map({'Regular':0,'reg':0,'Low Fat':1,'low fat':1,'LF':1})\n",
        "test['Outlet_Size'] = test['Outlet_Size'].map({'Small':0,'Medium':1,'High':2})\n",
        "test['Outlet_Location_Type'] = test['Outlet_Location_Type'].map({'Tier 1':1,'Tier 2':2,'Tier 3':3})"
      ],
      "execution_count": null,
      "outputs": []
    },
    {
      "cell_type": "code",
      "metadata": {
        "id": "RGz1S5ugZmiO",
        "colab_type": "code",
        "colab": {}
      },
      "source": [
        "test['Item_Weight'] = test['Item_Weight'].replace(0, np.NaN)\n",
        "test.fillna(test.mean(),inplace=True)\n",
        "\n",
        "test['Outlet_Size'] = test['Outlet_Size'].replace(0, np.NaN)\n",
        "test.fillna(test.median(),inplace=True)\n"
      ],
      "execution_count": null,
      "outputs": []
    },
    {
      "cell_type": "code",
      "metadata": {
        "id": "sZx5fLx0Z40L",
        "colab_type": "code",
        "colab": {}
      },
      "source": [
        "test = pd.get_dummies(test, columns=['Item_Type','Outlet_Identifier','Outlet_Type'])"
      ],
      "execution_count": null,
      "outputs": []
    },
    {
      "cell_type": "code",
      "metadata": {
        "id": "jp09lm1xaDJ9",
        "colab_type": "code",
        "colab": {
          "base_uri": "https://localhost:8080/",
          "height": 410
        },
        "outputId": "a8729041-1163-467a-be64-a3005a926883"
      },
      "source": [
        "test.head(10)"
      ],
      "execution_count": null,
      "outputs": [
        {
          "output_type": "execute_result",
          "data": {
            "text/html": [
              "<div>\n",
              "<style scoped>\n",
              "    .dataframe tbody tr th:only-of-type {\n",
              "        vertical-align: middle;\n",
              "    }\n",
              "\n",
              "    .dataframe tbody tr th {\n",
              "        vertical-align: top;\n",
              "    }\n",
              "\n",
              "    .dataframe thead th {\n",
              "        text-align: right;\n",
              "    }\n",
              "</style>\n",
              "<table border=\"1\" class=\"dataframe\">\n",
              "  <thead>\n",
              "    <tr style=\"text-align: right;\">\n",
              "      <th></th>\n",
              "      <th>Item_Weight</th>\n",
              "      <th>Item_Fat_Content</th>\n",
              "      <th>Item_Visibility</th>\n",
              "      <th>Item_MRP</th>\n",
              "      <th>Outlet_Size</th>\n",
              "      <th>Outlet_Location_Type</th>\n",
              "      <th>Item_Type_Baking Goods</th>\n",
              "      <th>Item_Type_Breads</th>\n",
              "      <th>Item_Type_Breakfast</th>\n",
              "      <th>Item_Type_Canned</th>\n",
              "      <th>Item_Type_Dairy</th>\n",
              "      <th>Item_Type_Frozen Foods</th>\n",
              "      <th>Item_Type_Fruits and Vegetables</th>\n",
              "      <th>Item_Type_Hard Drinks</th>\n",
              "      <th>Item_Type_Health and Hygiene</th>\n",
              "      <th>Item_Type_Household</th>\n",
              "      <th>Item_Type_Meat</th>\n",
              "      <th>Item_Type_Others</th>\n",
              "      <th>Item_Type_Seafood</th>\n",
              "      <th>Item_Type_Snack Foods</th>\n",
              "      <th>Item_Type_Soft Drinks</th>\n",
              "      <th>Item_Type_Starchy Foods</th>\n",
              "      <th>Outlet_Identifier_OUT010</th>\n",
              "      <th>Outlet_Identifier_OUT013</th>\n",
              "      <th>Outlet_Identifier_OUT017</th>\n",
              "      <th>Outlet_Identifier_OUT018</th>\n",
              "      <th>Outlet_Identifier_OUT019</th>\n",
              "      <th>Outlet_Identifier_OUT027</th>\n",
              "      <th>Outlet_Identifier_OUT035</th>\n",
              "      <th>Outlet_Identifier_OUT045</th>\n",
              "      <th>Outlet_Identifier_OUT046</th>\n",
              "      <th>Outlet_Identifier_OUT049</th>\n",
              "      <th>Outlet_Type_Grocery Store</th>\n",
              "      <th>Outlet_Type_Supermarket Type1</th>\n",
              "      <th>Outlet_Type_Supermarket Type2</th>\n",
              "      <th>Outlet_Type_Supermarket Type3</th>\n",
              "    </tr>\n",
              "    <tr>\n",
              "      <th>Item_Identifier</th>\n",
              "      <th></th>\n",
              "      <th></th>\n",
              "      <th></th>\n",
              "      <th></th>\n",
              "      <th></th>\n",
              "      <th></th>\n",
              "      <th></th>\n",
              "      <th></th>\n",
              "      <th></th>\n",
              "      <th></th>\n",
              "      <th></th>\n",
              "      <th></th>\n",
              "      <th></th>\n",
              "      <th></th>\n",
              "      <th></th>\n",
              "      <th></th>\n",
              "      <th></th>\n",
              "      <th></th>\n",
              "      <th></th>\n",
              "      <th></th>\n",
              "      <th></th>\n",
              "      <th></th>\n",
              "      <th></th>\n",
              "      <th></th>\n",
              "      <th></th>\n",
              "      <th></th>\n",
              "      <th></th>\n",
              "      <th></th>\n",
              "      <th></th>\n",
              "      <th></th>\n",
              "      <th></th>\n",
              "      <th></th>\n",
              "      <th></th>\n",
              "      <th></th>\n",
              "      <th></th>\n",
              "      <th></th>\n",
              "    </tr>\n",
              "  </thead>\n",
              "  <tbody>\n",
              "    <tr>\n",
              "      <th>FDW58</th>\n",
              "      <td>20.750000</td>\n",
              "      <td>1</td>\n",
              "      <td>0.007565</td>\n",
              "      <td>107.8622</td>\n",
              "      <td>1.000000</td>\n",
              "      <td>1</td>\n",
              "      <td>0</td>\n",
              "      <td>0</td>\n",
              "      <td>0</td>\n",
              "      <td>0</td>\n",
              "      <td>0</td>\n",
              "      <td>0</td>\n",
              "      <td>0</td>\n",
              "      <td>0</td>\n",
              "      <td>0</td>\n",
              "      <td>0</td>\n",
              "      <td>0</td>\n",
              "      <td>0</td>\n",
              "      <td>0</td>\n",
              "      <td>1</td>\n",
              "      <td>0</td>\n",
              "      <td>0</td>\n",
              "      <td>0</td>\n",
              "      <td>0</td>\n",
              "      <td>0</td>\n",
              "      <td>0</td>\n",
              "      <td>0</td>\n",
              "      <td>0</td>\n",
              "      <td>0</td>\n",
              "      <td>0</td>\n",
              "      <td>0</td>\n",
              "      <td>1</td>\n",
              "      <td>0</td>\n",
              "      <td>1</td>\n",
              "      <td>0</td>\n",
              "      <td>0</td>\n",
              "    </tr>\n",
              "    <tr>\n",
              "      <th>FDW14</th>\n",
              "      <td>8.300000</td>\n",
              "      <td>0</td>\n",
              "      <td>0.038428</td>\n",
              "      <td>87.3198</td>\n",
              "      <td>0.761718</td>\n",
              "      <td>2</td>\n",
              "      <td>0</td>\n",
              "      <td>0</td>\n",
              "      <td>0</td>\n",
              "      <td>0</td>\n",
              "      <td>1</td>\n",
              "      <td>0</td>\n",
              "      <td>0</td>\n",
              "      <td>0</td>\n",
              "      <td>0</td>\n",
              "      <td>0</td>\n",
              "      <td>0</td>\n",
              "      <td>0</td>\n",
              "      <td>0</td>\n",
              "      <td>0</td>\n",
              "      <td>0</td>\n",
              "      <td>0</td>\n",
              "      <td>0</td>\n",
              "      <td>0</td>\n",
              "      <td>1</td>\n",
              "      <td>0</td>\n",
              "      <td>0</td>\n",
              "      <td>0</td>\n",
              "      <td>0</td>\n",
              "      <td>0</td>\n",
              "      <td>0</td>\n",
              "      <td>0</td>\n",
              "      <td>0</td>\n",
              "      <td>1</td>\n",
              "      <td>0</td>\n",
              "      <td>0</td>\n",
              "    </tr>\n",
              "    <tr>\n",
              "      <th>NCN55</th>\n",
              "      <td>14.600000</td>\n",
              "      <td>1</td>\n",
              "      <td>0.099575</td>\n",
              "      <td>241.7538</td>\n",
              "      <td>0.761718</td>\n",
              "      <td>3</td>\n",
              "      <td>0</td>\n",
              "      <td>0</td>\n",
              "      <td>0</td>\n",
              "      <td>0</td>\n",
              "      <td>0</td>\n",
              "      <td>0</td>\n",
              "      <td>0</td>\n",
              "      <td>0</td>\n",
              "      <td>0</td>\n",
              "      <td>0</td>\n",
              "      <td>0</td>\n",
              "      <td>1</td>\n",
              "      <td>0</td>\n",
              "      <td>0</td>\n",
              "      <td>0</td>\n",
              "      <td>0</td>\n",
              "      <td>1</td>\n",
              "      <td>0</td>\n",
              "      <td>0</td>\n",
              "      <td>0</td>\n",
              "      <td>0</td>\n",
              "      <td>0</td>\n",
              "      <td>0</td>\n",
              "      <td>0</td>\n",
              "      <td>0</td>\n",
              "      <td>0</td>\n",
              "      <td>1</td>\n",
              "      <td>0</td>\n",
              "      <td>0</td>\n",
              "      <td>0</td>\n",
              "    </tr>\n",
              "    <tr>\n",
              "      <th>FDQ58</th>\n",
              "      <td>7.315000</td>\n",
              "      <td>1</td>\n",
              "      <td>0.015388</td>\n",
              "      <td>155.0340</td>\n",
              "      <td>0.761718</td>\n",
              "      <td>2</td>\n",
              "      <td>0</td>\n",
              "      <td>0</td>\n",
              "      <td>0</td>\n",
              "      <td>0</td>\n",
              "      <td>0</td>\n",
              "      <td>0</td>\n",
              "      <td>0</td>\n",
              "      <td>0</td>\n",
              "      <td>0</td>\n",
              "      <td>0</td>\n",
              "      <td>0</td>\n",
              "      <td>0</td>\n",
              "      <td>0</td>\n",
              "      <td>1</td>\n",
              "      <td>0</td>\n",
              "      <td>0</td>\n",
              "      <td>0</td>\n",
              "      <td>0</td>\n",
              "      <td>1</td>\n",
              "      <td>0</td>\n",
              "      <td>0</td>\n",
              "      <td>0</td>\n",
              "      <td>0</td>\n",
              "      <td>0</td>\n",
              "      <td>0</td>\n",
              "      <td>0</td>\n",
              "      <td>0</td>\n",
              "      <td>1</td>\n",
              "      <td>0</td>\n",
              "      <td>0</td>\n",
              "    </tr>\n",
              "    <tr>\n",
              "      <th>FDY38</th>\n",
              "      <td>12.695633</td>\n",
              "      <td>0</td>\n",
              "      <td>0.118599</td>\n",
              "      <td>234.2300</td>\n",
              "      <td>1.000000</td>\n",
              "      <td>3</td>\n",
              "      <td>0</td>\n",
              "      <td>0</td>\n",
              "      <td>0</td>\n",
              "      <td>0</td>\n",
              "      <td>1</td>\n",
              "      <td>0</td>\n",
              "      <td>0</td>\n",
              "      <td>0</td>\n",
              "      <td>0</td>\n",
              "      <td>0</td>\n",
              "      <td>0</td>\n",
              "      <td>0</td>\n",
              "      <td>0</td>\n",
              "      <td>0</td>\n",
              "      <td>0</td>\n",
              "      <td>0</td>\n",
              "      <td>0</td>\n",
              "      <td>0</td>\n",
              "      <td>0</td>\n",
              "      <td>0</td>\n",
              "      <td>0</td>\n",
              "      <td>1</td>\n",
              "      <td>0</td>\n",
              "      <td>0</td>\n",
              "      <td>0</td>\n",
              "      <td>0</td>\n",
              "      <td>0</td>\n",
              "      <td>0</td>\n",
              "      <td>0</td>\n",
              "      <td>1</td>\n",
              "    </tr>\n",
              "    <tr>\n",
              "      <th>FDH56</th>\n",
              "      <td>9.800000</td>\n",
              "      <td>0</td>\n",
              "      <td>0.063817</td>\n",
              "      <td>117.1492</td>\n",
              "      <td>1.000000</td>\n",
              "      <td>1</td>\n",
              "      <td>0</td>\n",
              "      <td>0</td>\n",
              "      <td>0</td>\n",
              "      <td>0</td>\n",
              "      <td>0</td>\n",
              "      <td>0</td>\n",
              "      <td>1</td>\n",
              "      <td>0</td>\n",
              "      <td>0</td>\n",
              "      <td>0</td>\n",
              "      <td>0</td>\n",
              "      <td>0</td>\n",
              "      <td>0</td>\n",
              "      <td>0</td>\n",
              "      <td>0</td>\n",
              "      <td>0</td>\n",
              "      <td>0</td>\n",
              "      <td>0</td>\n",
              "      <td>0</td>\n",
              "      <td>0</td>\n",
              "      <td>0</td>\n",
              "      <td>0</td>\n",
              "      <td>0</td>\n",
              "      <td>0</td>\n",
              "      <td>1</td>\n",
              "      <td>0</td>\n",
              "      <td>0</td>\n",
              "      <td>1</td>\n",
              "      <td>0</td>\n",
              "      <td>0</td>\n",
              "    </tr>\n",
              "    <tr>\n",
              "      <th>FDL48</th>\n",
              "      <td>19.350000</td>\n",
              "      <td>0</td>\n",
              "      <td>0.082602</td>\n",
              "      <td>50.1034</td>\n",
              "      <td>1.000000</td>\n",
              "      <td>3</td>\n",
              "      <td>1</td>\n",
              "      <td>0</td>\n",
              "      <td>0</td>\n",
              "      <td>0</td>\n",
              "      <td>0</td>\n",
              "      <td>0</td>\n",
              "      <td>0</td>\n",
              "      <td>0</td>\n",
              "      <td>0</td>\n",
              "      <td>0</td>\n",
              "      <td>0</td>\n",
              "      <td>0</td>\n",
              "      <td>0</td>\n",
              "      <td>0</td>\n",
              "      <td>0</td>\n",
              "      <td>0</td>\n",
              "      <td>0</td>\n",
              "      <td>0</td>\n",
              "      <td>0</td>\n",
              "      <td>1</td>\n",
              "      <td>0</td>\n",
              "      <td>0</td>\n",
              "      <td>0</td>\n",
              "      <td>0</td>\n",
              "      <td>0</td>\n",
              "      <td>0</td>\n",
              "      <td>0</td>\n",
              "      <td>0</td>\n",
              "      <td>1</td>\n",
              "      <td>0</td>\n",
              "    </tr>\n",
              "    <tr>\n",
              "      <th>FDC48</th>\n",
              "      <td>12.695633</td>\n",
              "      <td>1</td>\n",
              "      <td>0.015782</td>\n",
              "      <td>81.0592</td>\n",
              "      <td>1.000000</td>\n",
              "      <td>3</td>\n",
              "      <td>1</td>\n",
              "      <td>0</td>\n",
              "      <td>0</td>\n",
              "      <td>0</td>\n",
              "      <td>0</td>\n",
              "      <td>0</td>\n",
              "      <td>0</td>\n",
              "      <td>0</td>\n",
              "      <td>0</td>\n",
              "      <td>0</td>\n",
              "      <td>0</td>\n",
              "      <td>0</td>\n",
              "      <td>0</td>\n",
              "      <td>0</td>\n",
              "      <td>0</td>\n",
              "      <td>0</td>\n",
              "      <td>0</td>\n",
              "      <td>0</td>\n",
              "      <td>0</td>\n",
              "      <td>0</td>\n",
              "      <td>0</td>\n",
              "      <td>1</td>\n",
              "      <td>0</td>\n",
              "      <td>0</td>\n",
              "      <td>0</td>\n",
              "      <td>0</td>\n",
              "      <td>0</td>\n",
              "      <td>0</td>\n",
              "      <td>0</td>\n",
              "      <td>1</td>\n",
              "    </tr>\n",
              "    <tr>\n",
              "      <th>FDN33</th>\n",
              "      <td>6.305000</td>\n",
              "      <td>0</td>\n",
              "      <td>0.123365</td>\n",
              "      <td>95.7436</td>\n",
              "      <td>0.761718</td>\n",
              "      <td>2</td>\n",
              "      <td>0</td>\n",
              "      <td>0</td>\n",
              "      <td>0</td>\n",
              "      <td>0</td>\n",
              "      <td>0</td>\n",
              "      <td>0</td>\n",
              "      <td>0</td>\n",
              "      <td>0</td>\n",
              "      <td>0</td>\n",
              "      <td>0</td>\n",
              "      <td>0</td>\n",
              "      <td>0</td>\n",
              "      <td>0</td>\n",
              "      <td>1</td>\n",
              "      <td>0</td>\n",
              "      <td>0</td>\n",
              "      <td>0</td>\n",
              "      <td>0</td>\n",
              "      <td>0</td>\n",
              "      <td>0</td>\n",
              "      <td>0</td>\n",
              "      <td>0</td>\n",
              "      <td>0</td>\n",
              "      <td>1</td>\n",
              "      <td>0</td>\n",
              "      <td>0</td>\n",
              "      <td>0</td>\n",
              "      <td>1</td>\n",
              "      <td>0</td>\n",
              "      <td>0</td>\n",
              "    </tr>\n",
              "    <tr>\n",
              "      <th>FDA36</th>\n",
              "      <td>5.985000</td>\n",
              "      <td>1</td>\n",
              "      <td>0.005698</td>\n",
              "      <td>186.8924</td>\n",
              "      <td>0.761718</td>\n",
              "      <td>2</td>\n",
              "      <td>1</td>\n",
              "      <td>0</td>\n",
              "      <td>0</td>\n",
              "      <td>0</td>\n",
              "      <td>0</td>\n",
              "      <td>0</td>\n",
              "      <td>0</td>\n",
              "      <td>0</td>\n",
              "      <td>0</td>\n",
              "      <td>0</td>\n",
              "      <td>0</td>\n",
              "      <td>0</td>\n",
              "      <td>0</td>\n",
              "      <td>0</td>\n",
              "      <td>0</td>\n",
              "      <td>0</td>\n",
              "      <td>0</td>\n",
              "      <td>0</td>\n",
              "      <td>1</td>\n",
              "      <td>0</td>\n",
              "      <td>0</td>\n",
              "      <td>0</td>\n",
              "      <td>0</td>\n",
              "      <td>0</td>\n",
              "      <td>0</td>\n",
              "      <td>0</td>\n",
              "      <td>0</td>\n",
              "      <td>1</td>\n",
              "      <td>0</td>\n",
              "      <td>0</td>\n",
              "    </tr>\n",
              "  </tbody>\n",
              "</table>\n",
              "</div>"
            ],
            "text/plain": [
              "                 Item_Weight  ...  Outlet_Type_Supermarket Type3\n",
              "Item_Identifier               ...                               \n",
              "FDW58              20.750000  ...                              0\n",
              "FDW14               8.300000  ...                              0\n",
              "NCN55              14.600000  ...                              0\n",
              "FDQ58               7.315000  ...                              0\n",
              "FDY38              12.695633  ...                              1\n",
              "FDH56               9.800000  ...                              0\n",
              "FDL48              19.350000  ...                              0\n",
              "FDC48              12.695633  ...                              1\n",
              "FDN33               6.305000  ...                              0\n",
              "FDA36               5.985000  ...                              0\n",
              "\n",
              "[10 rows x 36 columns]"
            ]
          },
          "metadata": {
            "tags": []
          },
          "execution_count": 1121
        }
      ]
    },
    {
      "cell_type": "code",
      "metadata": {
        "id": "arOFCaAsagDc",
        "colab_type": "code",
        "colab": {
          "base_uri": "https://localhost:8080/",
          "height": 50
        },
        "outputId": "de7fb33b-9d48-49a7-c997-d2f49c7c2a16"
      },
      "source": [
        "pred_test= reg.predict(test)\n",
        "pred_test"
      ],
      "execution_count": null,
      "outputs": [
        {
          "output_type": "execute_result",
          "data": {
            "text/plain": [
              "array([1880.99477758, 1505.91038409, 1937.53646906, ..., 1836.7370714 ,\n",
              "       3592.71341465, 1343.65045291])"
            ]
          },
          "metadata": {
            "tags": []
          },
          "execution_count": 1122
        }
      ]
    },
    {
      "cell_type": "code",
      "metadata": {
        "id": "II_e6HKda8Tm",
        "colab_type": "code",
        "colab": {
          "base_uri": "https://localhost:8080/",
          "height": 34
        },
        "outputId": "497c67f6-585d-4878-e4df-424feebc8b6c"
      },
      "source": [
        "reg.score(test, pred_test)"
      ],
      "execution_count": null,
      "outputs": [
        {
          "output_type": "execute_result",
          "data": {
            "text/plain": [
              "1.0"
            ]
          },
          "metadata": {
            "tags": []
          },
          "execution_count": 1123
        }
      ]
    },
    {
      "cell_type": "code",
      "metadata": {
        "id": "3sOHPVAvbMlm",
        "colab_type": "code",
        "colab": {
          "base_uri": "https://localhost:8080/",
          "height": 50
        },
        "outputId": "ed264577-1377-42c7-e889-6919985f961a"
      },
      "source": [
        "pred_test_r= ridgeReg.predict(test)\n",
        "pred_test_r"
      ],
      "execution_count": null,
      "outputs": [
        {
          "output_type": "execute_result",
          "data": {
            "text/plain": [
              "array([1881.4955805 , 1506.78113788, 1936.44080276, ..., 1836.97994614,\n",
              "       3591.48373888, 1344.51812286])"
            ]
          },
          "metadata": {
            "tags": []
          },
          "execution_count": 1124
        }
      ]
    },
    {
      "cell_type": "code",
      "metadata": {
        "id": "FRK5-ICNbe54",
        "colab_type": "code",
        "colab": {
          "base_uri": "https://localhost:8080/",
          "height": 34
        },
        "outputId": "fefe63f0-0444-4ac5-ee7f-34699d6f5420"
      },
      "source": [
        "ridgeReg.score(test, pred_test_r)"
      ],
      "execution_count": null,
      "outputs": [
        {
          "output_type": "execute_result",
          "data": {
            "text/plain": [
              "1.0"
            ]
          },
          "metadata": {
            "tags": []
          },
          "execution_count": 1125
        }
      ]
    },
    {
      "cell_type": "code",
      "metadata": {
        "id": "Xm4YCF8Nbo6v",
        "colab_type": "code",
        "colab": {
          "base_uri": "https://localhost:8080/",
          "height": 50
        },
        "outputId": "59e6b9cf-feee-4c3b-fd9c-653db3b029c1"
      },
      "source": [
        "pred_test_l= lassoReg.predict(test)\n",
        "pred_test_l"
      ],
      "execution_count": null,
      "outputs": [
        {
          "output_type": "execute_result",
          "data": {
            "text/plain": [
              "array([1878.29082948, 1505.52474899, 1941.86003957, ..., 1842.0449191 ,\n",
              "       3586.34450403, 1343.93939093])"
            ]
          },
          "metadata": {
            "tags": []
          },
          "execution_count": 1126
        }
      ]
    },
    {
      "cell_type": "code",
      "metadata": {
        "id": "qvfBbkWubwVe",
        "colab_type": "code",
        "colab": {
          "base_uri": "https://localhost:8080/",
          "height": 34
        },
        "outputId": "4d21707e-9762-4d80-af0c-1c4351711054"
      },
      "source": [
        "lassoReg.score(test, pred_test_l)"
      ],
      "execution_count": null,
      "outputs": [
        {
          "output_type": "execute_result",
          "data": {
            "text/plain": [
              "1.0"
            ]
          },
          "metadata": {
            "tags": []
          },
          "execution_count": 1127
        }
      ]
    },
    {
      "cell_type": "code",
      "metadata": {
        "id": "fQHnsCLb671Z",
        "colab_type": "code",
        "colab": {
          "base_uri": "https://localhost:8080/",
          "height": 262
        },
        "outputId": "bb019b5b-4140-4e87-da63-32d01980a59f"
      },
      "source": [
        "# Appending the predicted values to the test dataframe\n",
        "\n",
        "test['Item_Outlet_Sales'] = pred_test.tolist()\n",
        "test.head()"
      ],
      "execution_count": null,
      "outputs": [
        {
          "output_type": "execute_result",
          "data": {
            "text/html": [
              "<div>\n",
              "<style scoped>\n",
              "    .dataframe tbody tr th:only-of-type {\n",
              "        vertical-align: middle;\n",
              "    }\n",
              "\n",
              "    .dataframe tbody tr th {\n",
              "        vertical-align: top;\n",
              "    }\n",
              "\n",
              "    .dataframe thead th {\n",
              "        text-align: right;\n",
              "    }\n",
              "</style>\n",
              "<table border=\"1\" class=\"dataframe\">\n",
              "  <thead>\n",
              "    <tr style=\"text-align: right;\">\n",
              "      <th></th>\n",
              "      <th>Item_Weight</th>\n",
              "      <th>Item_Fat_Content</th>\n",
              "      <th>Item_Visibility</th>\n",
              "      <th>Item_MRP</th>\n",
              "      <th>Outlet_Size</th>\n",
              "      <th>Outlet_Location_Type</th>\n",
              "      <th>Item_Type_Baking Goods</th>\n",
              "      <th>Item_Type_Breads</th>\n",
              "      <th>Item_Type_Breakfast</th>\n",
              "      <th>Item_Type_Canned</th>\n",
              "      <th>Item_Type_Dairy</th>\n",
              "      <th>Item_Type_Frozen Foods</th>\n",
              "      <th>Item_Type_Fruits and Vegetables</th>\n",
              "      <th>Item_Type_Hard Drinks</th>\n",
              "      <th>Item_Type_Health and Hygiene</th>\n",
              "      <th>Item_Type_Household</th>\n",
              "      <th>Item_Type_Meat</th>\n",
              "      <th>Item_Type_Others</th>\n",
              "      <th>Item_Type_Seafood</th>\n",
              "      <th>Item_Type_Snack Foods</th>\n",
              "      <th>Item_Type_Soft Drinks</th>\n",
              "      <th>Item_Type_Starchy Foods</th>\n",
              "      <th>Outlet_Identifier_OUT010</th>\n",
              "      <th>Outlet_Identifier_OUT013</th>\n",
              "      <th>Outlet_Identifier_OUT017</th>\n",
              "      <th>Outlet_Identifier_OUT018</th>\n",
              "      <th>Outlet_Identifier_OUT019</th>\n",
              "      <th>Outlet_Identifier_OUT027</th>\n",
              "      <th>Outlet_Identifier_OUT035</th>\n",
              "      <th>Outlet_Identifier_OUT045</th>\n",
              "      <th>Outlet_Identifier_OUT046</th>\n",
              "      <th>Outlet_Identifier_OUT049</th>\n",
              "      <th>Outlet_Type_Grocery Store</th>\n",
              "      <th>Outlet_Type_Supermarket Type1</th>\n",
              "      <th>Outlet_Type_Supermarket Type2</th>\n",
              "      <th>Outlet_Type_Supermarket Type3</th>\n",
              "      <th>Item_Outlet_Sales</th>\n",
              "    </tr>\n",
              "    <tr>\n",
              "      <th>Item_Identifier</th>\n",
              "      <th></th>\n",
              "      <th></th>\n",
              "      <th></th>\n",
              "      <th></th>\n",
              "      <th></th>\n",
              "      <th></th>\n",
              "      <th></th>\n",
              "      <th></th>\n",
              "      <th></th>\n",
              "      <th></th>\n",
              "      <th></th>\n",
              "      <th></th>\n",
              "      <th></th>\n",
              "      <th></th>\n",
              "      <th></th>\n",
              "      <th></th>\n",
              "      <th></th>\n",
              "      <th></th>\n",
              "      <th></th>\n",
              "      <th></th>\n",
              "      <th></th>\n",
              "      <th></th>\n",
              "      <th></th>\n",
              "      <th></th>\n",
              "      <th></th>\n",
              "      <th></th>\n",
              "      <th></th>\n",
              "      <th></th>\n",
              "      <th></th>\n",
              "      <th></th>\n",
              "      <th></th>\n",
              "      <th></th>\n",
              "      <th></th>\n",
              "      <th></th>\n",
              "      <th></th>\n",
              "      <th></th>\n",
              "      <th></th>\n",
              "    </tr>\n",
              "  </thead>\n",
              "  <tbody>\n",
              "    <tr>\n",
              "      <th>FDW58</th>\n",
              "      <td>20.750000</td>\n",
              "      <td>1</td>\n",
              "      <td>0.007565</td>\n",
              "      <td>107.8622</td>\n",
              "      <td>1.000000</td>\n",
              "      <td>1</td>\n",
              "      <td>0</td>\n",
              "      <td>0</td>\n",
              "      <td>0</td>\n",
              "      <td>0</td>\n",
              "      <td>0</td>\n",
              "      <td>0</td>\n",
              "      <td>0</td>\n",
              "      <td>0</td>\n",
              "      <td>0</td>\n",
              "      <td>0</td>\n",
              "      <td>0</td>\n",
              "      <td>0</td>\n",
              "      <td>0</td>\n",
              "      <td>1</td>\n",
              "      <td>0</td>\n",
              "      <td>0</td>\n",
              "      <td>0</td>\n",
              "      <td>0</td>\n",
              "      <td>0</td>\n",
              "      <td>0</td>\n",
              "      <td>0</td>\n",
              "      <td>0</td>\n",
              "      <td>0</td>\n",
              "      <td>0</td>\n",
              "      <td>0</td>\n",
              "      <td>1</td>\n",
              "      <td>0</td>\n",
              "      <td>1</td>\n",
              "      <td>0</td>\n",
              "      <td>0</td>\n",
              "      <td>1880.994778</td>\n",
              "    </tr>\n",
              "    <tr>\n",
              "      <th>FDW14</th>\n",
              "      <td>8.300000</td>\n",
              "      <td>0</td>\n",
              "      <td>0.038428</td>\n",
              "      <td>87.3198</td>\n",
              "      <td>0.761718</td>\n",
              "      <td>2</td>\n",
              "      <td>0</td>\n",
              "      <td>0</td>\n",
              "      <td>0</td>\n",
              "      <td>0</td>\n",
              "      <td>1</td>\n",
              "      <td>0</td>\n",
              "      <td>0</td>\n",
              "      <td>0</td>\n",
              "      <td>0</td>\n",
              "      <td>0</td>\n",
              "      <td>0</td>\n",
              "      <td>0</td>\n",
              "      <td>0</td>\n",
              "      <td>0</td>\n",
              "      <td>0</td>\n",
              "      <td>0</td>\n",
              "      <td>0</td>\n",
              "      <td>0</td>\n",
              "      <td>1</td>\n",
              "      <td>0</td>\n",
              "      <td>0</td>\n",
              "      <td>0</td>\n",
              "      <td>0</td>\n",
              "      <td>0</td>\n",
              "      <td>0</td>\n",
              "      <td>0</td>\n",
              "      <td>0</td>\n",
              "      <td>1</td>\n",
              "      <td>0</td>\n",
              "      <td>0</td>\n",
              "      <td>1505.910384</td>\n",
              "    </tr>\n",
              "    <tr>\n",
              "      <th>NCN55</th>\n",
              "      <td>14.600000</td>\n",
              "      <td>1</td>\n",
              "      <td>0.099575</td>\n",
              "      <td>241.7538</td>\n",
              "      <td>0.761718</td>\n",
              "      <td>3</td>\n",
              "      <td>0</td>\n",
              "      <td>0</td>\n",
              "      <td>0</td>\n",
              "      <td>0</td>\n",
              "      <td>0</td>\n",
              "      <td>0</td>\n",
              "      <td>0</td>\n",
              "      <td>0</td>\n",
              "      <td>0</td>\n",
              "      <td>0</td>\n",
              "      <td>0</td>\n",
              "      <td>1</td>\n",
              "      <td>0</td>\n",
              "      <td>0</td>\n",
              "      <td>0</td>\n",
              "      <td>0</td>\n",
              "      <td>1</td>\n",
              "      <td>0</td>\n",
              "      <td>0</td>\n",
              "      <td>0</td>\n",
              "      <td>0</td>\n",
              "      <td>0</td>\n",
              "      <td>0</td>\n",
              "      <td>0</td>\n",
              "      <td>0</td>\n",
              "      <td>0</td>\n",
              "      <td>1</td>\n",
              "      <td>0</td>\n",
              "      <td>0</td>\n",
              "      <td>0</td>\n",
              "      <td>1937.536469</td>\n",
              "    </tr>\n",
              "    <tr>\n",
              "      <th>FDQ58</th>\n",
              "      <td>7.315000</td>\n",
              "      <td>1</td>\n",
              "      <td>0.015388</td>\n",
              "      <td>155.0340</td>\n",
              "      <td>0.761718</td>\n",
              "      <td>2</td>\n",
              "      <td>0</td>\n",
              "      <td>0</td>\n",
              "      <td>0</td>\n",
              "      <td>0</td>\n",
              "      <td>0</td>\n",
              "      <td>0</td>\n",
              "      <td>0</td>\n",
              "      <td>0</td>\n",
              "      <td>0</td>\n",
              "      <td>0</td>\n",
              "      <td>0</td>\n",
              "      <td>0</td>\n",
              "      <td>0</td>\n",
              "      <td>1</td>\n",
              "      <td>0</td>\n",
              "      <td>0</td>\n",
              "      <td>0</td>\n",
              "      <td>0</td>\n",
              "      <td>1</td>\n",
              "      <td>0</td>\n",
              "      <td>0</td>\n",
              "      <td>0</td>\n",
              "      <td>0</td>\n",
              "      <td>0</td>\n",
              "      <td>0</td>\n",
              "      <td>0</td>\n",
              "      <td>0</td>\n",
              "      <td>1</td>\n",
              "      <td>0</td>\n",
              "      <td>0</td>\n",
              "      <td>2633.533156</td>\n",
              "    </tr>\n",
              "    <tr>\n",
              "      <th>FDY38</th>\n",
              "      <td>12.695633</td>\n",
              "      <td>0</td>\n",
              "      <td>0.118599</td>\n",
              "      <td>234.2300</td>\n",
              "      <td>1.000000</td>\n",
              "      <td>3</td>\n",
              "      <td>0</td>\n",
              "      <td>0</td>\n",
              "      <td>0</td>\n",
              "      <td>0</td>\n",
              "      <td>1</td>\n",
              "      <td>0</td>\n",
              "      <td>0</td>\n",
              "      <td>0</td>\n",
              "      <td>0</td>\n",
              "      <td>0</td>\n",
              "      <td>0</td>\n",
              "      <td>0</td>\n",
              "      <td>0</td>\n",
              "      <td>0</td>\n",
              "      <td>0</td>\n",
              "      <td>0</td>\n",
              "      <td>0</td>\n",
              "      <td>0</td>\n",
              "      <td>0</td>\n",
              "      <td>0</td>\n",
              "      <td>0</td>\n",
              "      <td>1</td>\n",
              "      <td>0</td>\n",
              "      <td>0</td>\n",
              "      <td>0</td>\n",
              "      <td>0</td>\n",
              "      <td>0</td>\n",
              "      <td>0</td>\n",
              "      <td>0</td>\n",
              "      <td>1</td>\n",
              "      <td>5030.287364</td>\n",
              "    </tr>\n",
              "  </tbody>\n",
              "</table>\n",
              "</div>"
            ],
            "text/plain": [
              "                 Item_Weight  ...  Item_Outlet_Sales\n",
              "Item_Identifier               ...                   \n",
              "FDW58              20.750000  ...        1880.994778\n",
              "FDW14               8.300000  ...        1505.910384\n",
              "NCN55              14.600000  ...        1937.536469\n",
              "FDQ58               7.315000  ...        2633.533156\n",
              "FDY38              12.695633  ...        5030.287364\n",
              "\n",
              "[5 rows x 37 columns]"
            ]
          },
          "metadata": {
            "tags": []
          },
          "execution_count": 1128
        }
      ]
    },
    {
      "cell_type": "markdown",
      "metadata": {
        "id": "kCZRd-7YCttg",
        "colab_type": "text"
      },
      "source": [
        "From the above analysis,  \n",
        "*   there seems to be no significance between the Outlet_Establishment_Year and Item_Outlet_Sales as the variables are independent of each other. \n",
        "*   Hence we drop the Outlet_Establishment_Year column. \n",
        "*   Item_Weight and Outlet_Size have missing values or Null in Data Analysis and so we have imputed the missing values using mean and median respectively.\n",
        "*   Item_Visibility vs Item_Outlet_Sales indicates that the more visible a product is the less higher its sales will be.\n",
        "*   Item_Weight, Item_Visibility and Item_MRP have the highest impact on the target variable Item_Outlet_Sales.\n",
        "*   For the conversion of categorical data into numerical data, we make use of dummy variables.\n",
        "*   And then our model is ready to be trained.\n",
        "*   We fit them with the algorithm and make necessary regularizations.\n",
        "*   RMSE and R-squared values are computed.\n",
        "*   Residual plots are made."
      ]
    }
  ]
}