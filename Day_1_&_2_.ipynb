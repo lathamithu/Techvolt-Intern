{
  "nbformat": 4,
  "nbformat_minor": 0,
  "metadata": {
    "colab": {
      "name": "Day 1 & 2 .ipynb",
      "provenance": [],
      "collapsed_sections": [],
      "authorship_tag": "ABX9TyMcfVFx+lFJLqUu5Cvmn7kA",
      "include_colab_link": true
    },
    "kernelspec": {
      "name": "python3",
      "display_name": "Python 3"
    }
  },
  "cells": [
    {
      "cell_type": "markdown",
      "metadata": {
        "id": "view-in-github",
        "colab_type": "text"
      },
      "source": [
        "<a href=\"https://colab.research.google.com/github/lathamithu/Techvolt-Intern/blob/master/Day_1_%26_2_.ipynb\" target=\"_parent\"><img src=\"https://colab.research.google.com/assets/colab-badge.svg\" alt=\"Open In Colab\"/></a>"
      ]
    },
    {
      "cell_type": "markdown",
      "metadata": {
        "id": "HohDwUuWD4Pj",
        "colab_type": "text"
      },
      "source": [
        "**DAY 1**"
      ]
    },
    {
      "cell_type": "markdown",
      "metadata": {
        "id": "dZmmnQlbBsJ2",
        "colab_type": "text"
      },
      "source": [
        "***BASICS***"
      ]
    },
    {
      "cell_type": "code",
      "metadata": {
        "id": "a-5jBHz5_Oxb",
        "colab_type": "code",
        "colab": {
          "base_uri": "https://localhost:8080/",
          "height": 50
        },
        "outputId": "d4afaffe-36c1-4840-ce0b-790cdb72b100"
      },
      "source": [
        "x = 10 \n",
        "print(x)\n",
        "print(type(x))"
      ],
      "execution_count": null,
      "outputs": [
        {
          "output_type": "stream",
          "text": [
            "10\n",
            "<class 'int'>\n"
          ],
          "name": "stdout"
        }
      ]
    },
    {
      "cell_type": "code",
      "metadata": {
        "id": "DbhMowyLABlb",
        "colab_type": "code",
        "colab": {
          "base_uri": "https://localhost:8080/",
          "height": 50
        },
        "outputId": "cfe6c248-d41e-472b-dc69-9479916863f3"
      },
      "source": [
        "y = 12.5\n",
        "print(y)\n",
        "print(type(y))"
      ],
      "execution_count": null,
      "outputs": [
        {
          "output_type": "stream",
          "text": [
            "12.5\n",
            "<class 'float'>\n"
          ],
          "name": "stdout"
        }
      ]
    },
    {
      "cell_type": "code",
      "metadata": {
        "id": "i61euFbOAGA_",
        "colab_type": "code",
        "colab": {
          "base_uri": "https://localhost:8080/",
          "height": 50
        },
        "outputId": "298f80c9-d7de-4828-a8d2-e5515d03ec6b"
      },
      "source": [
        "s = 'happy'\n",
        "print(s)\n",
        "print(type(s))"
      ],
      "execution_count": null,
      "outputs": [
        {
          "output_type": "stream",
          "text": [
            "happy\n",
            "<class 'str'>\n"
          ],
          "name": "stdout"
        }
      ]
    },
    {
      "cell_type": "code",
      "metadata": {
        "id": "gG6qB5AeAJ8S",
        "colab_type": "code",
        "colab": {
          "base_uri": "https://localhost:8080/",
          "height": 50
        },
        "outputId": "5ba321d5-2be8-4c13-bc60-e69950e6b08e"
      },
      "source": [
        "z = True\n",
        "print(z)\n",
        "print(type(z))"
      ],
      "execution_count": null,
      "outputs": [
        {
          "output_type": "stream",
          "text": [
            "True\n",
            "<class 'bool'>\n"
          ],
          "name": "stdout"
        }
      ]
    },
    {
      "cell_type": "code",
      "metadata": {
        "id": "h_qnB1CfAZgt",
        "colab_type": "code",
        "colab": {
          "base_uri": "https://localhost:8080/",
          "height": 34
        },
        "outputId": "f8bf4450-d103-41e0-88f7-92cf5c366c00"
      },
      "source": [
        "import sys\n",
        "sys.getsizeof(y)"
      ],
      "execution_count": null,
      "outputs": [
        {
          "output_type": "execute_result",
          "data": {
            "text/plain": [
              "24"
            ]
          },
          "metadata": {
            "tags": []
          },
          "execution_count": 6
        }
      ]
    },
    {
      "cell_type": "code",
      "metadata": {
        "id": "4vsiehwSBKpt",
        "colab_type": "code",
        "colab": {
          "base_uri": "https://localhost:8080/",
          "height": 50
        },
        "outputId": "67a6e2e3-d4a8-4847-d209-18a218b41995"
      },
      "source": [
        "x = 25\n",
        "print(type(x))\n",
        "x = 'hi'\n",
        "print(type(x))"
      ],
      "execution_count": null,
      "outputs": [
        {
          "output_type": "stream",
          "text": [
            "<class 'int'>\n",
            "<class 'str'>\n"
          ],
          "name": "stdout"
        }
      ]
    },
    {
      "cell_type": "markdown",
      "metadata": {
        "id": "X367fWRCB4_G",
        "colab_type": "text"
      },
      "source": [
        "***ARITHMETIC OPERATOR***\n"
      ]
    },
    {
      "cell_type": "code",
      "metadata": {
        "id": "Di5Ufd0fB7L4",
        "colab_type": "code",
        "colab": {
          "base_uri": "https://localhost:8080/",
          "height": 34
        },
        "outputId": "fdfd1f4e-7b6e-4b1c-af29-d7db4b70ac31"
      },
      "source": [
        "x = 10\n",
        "y = 3\n",
        "z = x//y\n",
        "print(z)"
      ],
      "execution_count": null,
      "outputs": [
        {
          "output_type": "stream",
          "text": [
            "3\n"
          ],
          "name": "stdout"
        }
      ]
    },
    {
      "cell_type": "markdown",
      "metadata": {
        "id": "0Jjhumc-CoB8",
        "colab_type": "text"
      },
      "source": [
        "***RELATIONAL OPERATOR***"
      ]
    },
    {
      "cell_type": "code",
      "metadata": {
        "id": "jfJKUZTtCrtC",
        "colab_type": "code",
        "colab": {
          "base_uri": "https://localhost:8080/",
          "height": 34
        },
        "outputId": "2dcdb7dc-7018-41fe-aa25-94d6820bf62a"
      },
      "source": [
        "x > y"
      ],
      "execution_count": null,
      "outputs": [
        {
          "output_type": "execute_result",
          "data": {
            "text/plain": [
              "True"
            ]
          },
          "metadata": {
            "tags": []
          },
          "execution_count": 9
        }
      ]
    },
    {
      "cell_type": "code",
      "metadata": {
        "id": "uJIoF7DgDDhZ",
        "colab_type": "code",
        "colab": {
          "base_uri": "https://localhost:8080/",
          "height": 34
        },
        "outputId": "5948b13e-8788-44fe-c6b5-0a71dc78072c"
      },
      "source": [
        "x < y"
      ],
      "execution_count": null,
      "outputs": [
        {
          "output_type": "execute_result",
          "data": {
            "text/plain": [
              "False"
            ]
          },
          "metadata": {
            "tags": []
          },
          "execution_count": 10
        }
      ]
    },
    {
      "cell_type": "code",
      "metadata": {
        "id": "s_Yu0RsRDGg6",
        "colab_type": "code",
        "colab": {
          "base_uri": "https://localhost:8080/",
          "height": 34
        },
        "outputId": "6b26464c-a9bf-488c-d1ff-2ea06b06087e"
      },
      "source": [
        "x != y"
      ],
      "execution_count": null,
      "outputs": [
        {
          "output_type": "execute_result",
          "data": {
            "text/plain": [
              "True"
            ]
          },
          "metadata": {
            "tags": []
          },
          "execution_count": 11
        }
      ]
    },
    {
      "cell_type": "code",
      "metadata": {
        "id": "35DvbrJeDZhr",
        "colab_type": "code",
        "colab": {
          "base_uri": "https://localhost:8080/",
          "height": 34
        },
        "outputId": "bcdeb330-9155-47aa-82e8-e60c52d486c1"
      },
      "source": [
        "x == y"
      ],
      "execution_count": null,
      "outputs": [
        {
          "output_type": "execute_result",
          "data": {
            "text/plain": [
              "False"
            ]
          },
          "metadata": {
            "tags": []
          },
          "execution_count": 12
        }
      ]
    },
    {
      "cell_type": "markdown",
      "metadata": {
        "id": "THoYzE8eDdSP",
        "colab_type": "text"
      },
      "source": [
        "***LOGICAL OPERATOR***"
      ]
    },
    {
      "cell_type": "code",
      "metadata": {
        "id": "qMZGJrPoDhGE",
        "colab_type": "code",
        "colab": {
          "base_uri": "https://localhost:8080/",
          "height": 34
        },
        "outputId": "24f3c299-ac2c-4297-cde1-4151c726a658"
      },
      "source": [
        "x = 10\n",
        "y = 20\n",
        "x > 5 and y < 30"
      ],
      "execution_count": null,
      "outputs": [
        {
          "output_type": "execute_result",
          "data": {
            "text/plain": [
              "True"
            ]
          },
          "metadata": {
            "tags": []
          },
          "execution_count": 16
        }
      ]
    },
    {
      "cell_type": "code",
      "metadata": {
        "id": "mLVa7HQ2Dn6i",
        "colab_type": "code",
        "colab": {
          "base_uri": "https://localhost:8080/",
          "height": 34
        },
        "outputId": "19a387ac-0858-4d5f-9acf-3da42ccae2c0"
      },
      "source": [
        "x > 5 or y != 30"
      ],
      "execution_count": null,
      "outputs": [
        {
          "output_type": "execute_result",
          "data": {
            "text/plain": [
              "True"
            ]
          },
          "metadata": {
            "tags": []
          },
          "execution_count": 17
        }
      ]
    },
    {
      "cell_type": "code",
      "metadata": {
        "id": "yjRWB_pWDq7_",
        "colab_type": "code",
        "colab": {
          "base_uri": "https://localhost:8080/",
          "height": 34
        },
        "outputId": "dc316973-a709-48cb-c31a-c9b28c6fcde4"
      },
      "source": [
        "p = True\n",
        "not p"
      ],
      "execution_count": null,
      "outputs": [
        {
          "output_type": "execute_result",
          "data": {
            "text/plain": [
              "False"
            ]
          },
          "metadata": {
            "tags": []
          },
          "execution_count": 18
        }
      ]
    },
    {
      "cell_type": "markdown",
      "metadata": {
        "id": "gaF6FLCYEBKi",
        "colab_type": "text"
      },
      "source": [
        "***USER INPUT***"
      ]
    },
    {
      "cell_type": "code",
      "metadata": {
        "id": "L8uuloSlEE6F",
        "colab_type": "code",
        "colab": {
          "base_uri": "https://localhost:8080/",
          "height": 50
        },
        "outputId": "323c926a-249f-4c90-e7ce-88c6d9d2b84e"
      },
      "source": [
        "x = input()\n",
        "print(type(x))"
      ],
      "execution_count": null,
      "outputs": [
        {
          "output_type": "stream",
          "text": [
            "hello\n",
            "<class 'str'>\n"
          ],
          "name": "stdout"
        }
      ]
    },
    {
      "cell_type": "markdown",
      "metadata": {
        "id": "--NOPQHJDRPV",
        "colab_type": "text"
      },
      "source": [
        "**Day 2**"
      ]
    },
    {
      "cell_type": "code",
      "metadata": {
        "id": "KmhHU7zRDSed",
        "colab_type": "code",
        "colab": {
          "base_uri": "https://localhost:8080/",
          "height": 84
        },
        "outputId": "491c2368-86b6-4eb6-f45a-55a9fe5aadd5"
      },
      "source": [
        "x = int(input('Enter x:'))\n",
        "y = int(input('Enter y:'))\n",
        "z = x + y\n",
        "print(z)\n",
        "print(type(x))"
      ],
      "execution_count": 1,
      "outputs": [
        {
          "output_type": "stream",
          "text": [
            "Enter x:10\n",
            "Enter y:20\n",
            "30\n",
            "<class 'int'>\n"
          ],
          "name": "stdout"
        }
      ]
    },
    {
      "cell_type": "markdown",
      "metadata": {
        "id": "0F_K7r5eDkmF",
        "colab_type": "text"
      },
      "source": [
        "***INTRO TO MATH PACKAGE***"
      ]
    },
    {
      "cell_type": "code",
      "metadata": {
        "id": "biBZ9caSDjqM",
        "colab_type": "code",
        "colab": {}
      },
      "source": [
        "import math "
      ],
      "execution_count": 1,
      "outputs": []
    },
    {
      "cell_type": "code",
      "metadata": {
        "id": "27zkHSdtENzE",
        "colab_type": "code",
        "colab": {
          "base_uri": "https://localhost:8080/",
          "height": 34
        },
        "outputId": "d4a79ed9-fd7a-43f8-e4b1-ec456b5efabe"
      },
      "source": [
        "math.sqrt(25)"
      ],
      "execution_count": 3,
      "outputs": [
        {
          "output_type": "execute_result",
          "data": {
            "text/plain": [
              "5.0"
            ]
          },
          "metadata": {
            "tags": []
          },
          "execution_count": 3
        }
      ]
    },
    {
      "cell_type": "code",
      "metadata": {
        "id": "V7aedVgYEQz5",
        "colab_type": "code",
        "colab": {
          "base_uri": "https://localhost:8080/",
          "height": 34
        },
        "outputId": "37fd05ca-4aa4-4812-d0fd-07796324d685"
      },
      "source": [
        "math.sqrt(13)"
      ],
      "execution_count": 4,
      "outputs": [
        {
          "output_type": "execute_result",
          "data": {
            "text/plain": [
              "3.605551275463989"
            ]
          },
          "metadata": {
            "tags": []
          },
          "execution_count": 4
        }
      ]
    },
    {
      "cell_type": "code",
      "metadata": {
        "id": "FFOWs7u_ES_M",
        "colab_type": "code",
        "colab": {
          "base_uri": "https://localhost:8080/",
          "height": 34
        },
        "outputId": "d6f3c512-2ec5-4871-8268-5fd5766bb97e"
      },
      "source": [
        "math.pi"
      ],
      "execution_count": 5,
      "outputs": [
        {
          "output_type": "execute_result",
          "data": {
            "text/plain": [
              "3.141592653589793"
            ]
          },
          "metadata": {
            "tags": []
          },
          "execution_count": 5
        }
      ]
    },
    {
      "cell_type": "code",
      "metadata": {
        "id": "-j3UysL-EYx9",
        "colab_type": "code",
        "colab": {
          "base_uri": "https://localhost:8080/",
          "height": 50
        },
        "outputId": "caecc1af-75a4-439e-cf79-625be1017f30"
      },
      "source": [
        "r = float(input('Enter radius:'))\n",
        "print(math.pi*r*r)"
      ],
      "execution_count": 8,
      "outputs": [
        {
          "output_type": "stream",
          "text": [
            "Enter radius:2\n",
            "12.566370614359172\n"
          ],
          "name": "stdout"
        }
      ]
    },
    {
      "cell_type": "code",
      "metadata": {
        "id": "3ozmLjihEu2Q",
        "colab_type": "code",
        "colab": {
          "base_uri": "https://localhost:8080/",
          "height": 50
        },
        "outputId": "6cbc91b2-3e9f-48a7-a923-cc5b33daef27"
      },
      "source": [
        "b,h = map(float, input(\"Enter b,h: \").split(','))\n",
        "print(0.5*b*h)"
      ],
      "execution_count": 26,
      "outputs": [
        {
          "output_type": "stream",
          "text": [
            "Enter b,h: 1.2,1.2\n",
            "0.72\n"
          ],
          "name": "stdout"
        }
      ]
    },
    {
      "cell_type": "code",
      "metadata": {
        "id": "mVJKMtheF_ou",
        "colab_type": "code",
        "colab": {
          "base_uri": "https://localhost:8080/",
          "height": 34
        },
        "outputId": "8adc1280-4429-43e0-afe9-f6b9ec85a273"
      },
      "source": [
        "print('hello',end=\" \")\n",
        "print('world')"
      ],
      "execution_count": 11,
      "outputs": [
        {
          "output_type": "stream",
          "text": [
            "hello world\n"
          ],
          "name": "stdout"
        }
      ]
    },
    {
      "cell_type": "code",
      "metadata": {
        "id": "dfKe7LrWGSwx",
        "colab_type": "code",
        "colab": {
          "base_uri": "https://localhost:8080/",
          "height": 34
        },
        "outputId": "f5387d5f-dc44-45df-9d1f-1e6f23ef7a2b"
      },
      "source": [
        "print('hello','world',sep='$$$')"
      ],
      "execution_count": 12,
      "outputs": [
        {
          "output_type": "stream",
          "text": [
            "hello$$$world\n"
          ],
          "name": "stdout"
        }
      ]
    },
    {
      "cell_type": "code",
      "metadata": {
        "id": "DeUbM-gmGX8O",
        "colab_type": "code",
        "colab": {
          "base_uri": "https://localhost:8080/",
          "height": 50
        },
        "outputId": "bc8faa0f-d7f0-4b6a-bfdf-36cfeb969d69"
      },
      "source": [
        "print('hello','world',sep='\\n')"
      ],
      "execution_count": 13,
      "outputs": [
        {
          "output_type": "stream",
          "text": [
            "hello\n",
            "world\n"
          ],
          "name": "stdout"
        }
      ]
    },
    {
      "cell_type": "code",
      "metadata": {
        "id": "6ryPzeKzGdOb",
        "colab_type": "code",
        "colab": {
          "base_uri": "https://localhost:8080/",
          "height": 34
        },
        "outputId": "041f4198-ff07-4bda-abfa-c2b623db0cac"
      },
      "source": [
        "a = 5/3\n",
        "print(\"Value of a is: {0:0.3f}\".format(a))"
      ],
      "execution_count": 14,
      "outputs": [
        {
          "output_type": "stream",
          "text": [
            "Value of a is: 1.667\n"
          ],
          "name": "stdout"
        }
      ]
    },
    {
      "cell_type": "code",
      "metadata": {
        "id": "CeD497RhGt6H",
        "colab_type": "code",
        "colab": {
          "base_uri": "https://localhost:8080/",
          "height": 34
        },
        "outputId": "21e3d52e-8750-4ceb-ce1c-dd6e5ff86c03"
      },
      "source": [
        "b = 11/3\n",
        "print('Value of a is: {0:0.2f}, Value of b is {1:0.4f}'.format(a,b))"
      ],
      "execution_count": 15,
      "outputs": [
        {
          "output_type": "stream",
          "text": [
            "Value of a is: 1.67, Value of b is 3.6667\n"
          ],
          "name": "stdout"
        }
      ]
    },
    {
      "cell_type": "code",
      "metadata": {
        "id": "jh4QvcSXHFWS",
        "colab_type": "code",
        "colab": {
          "base_uri": "https://localhost:8080/",
          "height": 34
        },
        "outputId": "66d7ad42-292d-4559-dc1a-d8494c104229"
      },
      "source": [
        "#to find ASCII value\n",
        "\n",
        "c = 'a'\n",
        "print(ord(c))"
      ],
      "execution_count": 16,
      "outputs": [
        {
          "output_type": "stream",
          "text": [
            "97\n"
          ],
          "name": "stdout"
        }
      ]
    },
    {
      "cell_type": "code",
      "metadata": {
        "id": "orQLvN_ZHMG-",
        "colab_type": "code",
        "colab": {
          "base_uri": "https://localhost:8080/",
          "height": 34
        },
        "outputId": "67c2e81a-41b9-4e6e-e7ab-dae65c2836cf"
      },
      "source": [
        "m = max(15,20,35,45)\n",
        "m"
      ],
      "execution_count": 19,
      "outputs": [
        {
          "output_type": "execute_result",
          "data": {
            "text/plain": [
              "45"
            ]
          },
          "metadata": {
            "tags": []
          },
          "execution_count": 19
        }
      ]
    },
    {
      "cell_type": "code",
      "metadata": {
        "id": "t41Q4EybHb0l",
        "colab_type": "code",
        "colab": {
          "base_uri": "https://localhost:8080/",
          "height": 34
        },
        "outputId": "65cbd991-e564-466f-dd4b-a7b5f92cc22a"
      },
      "source": [
        "m = min(1,2,-4,5)\n",
        "m"
      ],
      "execution_count": 22,
      "outputs": [
        {
          "output_type": "execute_result",
          "data": {
            "text/plain": [
              "-4"
            ]
          },
          "metadata": {
            "tags": []
          },
          "execution_count": 22
        }
      ]
    },
    {
      "cell_type": "code",
      "metadata": {
        "id": "OdordSFOHfzL",
        "colab_type": "code",
        "colab": {
          "base_uri": "https://localhost:8080/",
          "height": 34
        },
        "outputId": "3d43f6ec-b4e0-475d-826f-4b8c4c8cda1b"
      },
      "source": [
        "l = len(\"hello world\")\n",
        "print(l)"
      ],
      "execution_count": 21,
      "outputs": [
        {
          "output_type": "stream",
          "text": [
            "11\n"
          ],
          "name": "stdout"
        }
      ]
    },
    {
      "cell_type": "markdown",
      "metadata": {
        "id": "RYvvTPNnHrE0",
        "colab_type": "text"
      },
      "source": [
        "***CONDITIONAL STATEMENTS***"
      ]
    },
    {
      "cell_type": "code",
      "metadata": {
        "id": "LStLh8dZIFAr",
        "colab_type": "code",
        "colab": {
          "base_uri": "https://localhost:8080/",
          "height": 67
        },
        "outputId": "404e9088-79c7-4cb1-9a66-07db2b835a6f"
      },
      "source": [
        "marks = int(input('Enter the marks:'))\n",
        "if marks < 40:\n",
        "  print('fail')\n",
        "print('Over!')"
      ],
      "execution_count": 23,
      "outputs": [
        {
          "output_type": "stream",
          "text": [
            "Enter the marks:23\n",
            "fail\n",
            "Over!\n"
          ],
          "name": "stdout"
        }
      ]
    },
    {
      "cell_type": "code",
      "metadata": {
        "id": "H9rEfJxCIkQP",
        "colab_type": "code",
        "colab": {
          "base_uri": "https://localhost:8080/",
          "height": 50
        },
        "outputId": "8e06b656-5a90-4136-855a-ba4558a31832"
      },
      "source": [
        "marks = int(input('Enter the marks:'))\n",
        "if marks < 40:\n",
        "  print('fail')\n",
        "else:\n",
        "  print('pass')"
      ],
      "execution_count": 24,
      "outputs": [
        {
          "output_type": "stream",
          "text": [
            "Enter the marks:53\n",
            "pass\n"
          ],
          "name": "stdout"
        }
      ]
    },
    {
      "cell_type": "code",
      "metadata": {
        "id": "MN39mFEhIt_l",
        "colab_type": "code",
        "colab": {
          "base_uri": "https://localhost:8080/",
          "height": 50
        },
        "outputId": "09040bf8-a628-4615-a186-22cbf91322a1"
      },
      "source": [
        "marks = int(input('Enter the marks:'))\n",
        "if marks >= 80:\n",
        "  print('First class with distinction')\n",
        "elif marks >= 60 and maarks < 80:\n",
        "  print('First class')\n",
        "elif marks >= 50 and marks < 60:\n",
        "  print('Second class')\n",
        "elif marks >= 35 and marks <50:\n",
        "  print('Third class')\n",
        "else:\n",
        "  print('Fail')"
      ],
      "execution_count": 27,
      "outputs": [
        {
          "output_type": "stream",
          "text": [
            "Enter the marks:90\n",
            "First class with distinction\n"
          ],
          "name": "stdout"
        }
      ]
    },
    {
      "cell_type": "code",
      "metadata": {
        "id": "jC-IMOtuJi7g",
        "colab_type": "code",
        "colab": {
          "base_uri": "https://localhost:8080/",
          "height": 67
        },
        "outputId": "f6a12e31-a3ea-4d19-a1c2-6671cfcc5876"
      },
      "source": [
        "#nested statements\n",
        "\n",
        "marks = float(input('Enter the marks:'))\n",
        "if marks >=60:\n",
        "  if marks < 80:\n",
        "    print('Second class')\n",
        "\n",
        "print('Over')"
      ],
      "execution_count": 28,
      "outputs": [
        {
          "output_type": "stream",
          "text": [
            "Enter the marks:70\n",
            "Second class\n",
            "Over\n"
          ],
          "name": "stdout"
        }
      ]
    },
    {
      "cell_type": "code",
      "metadata": {
        "id": "MQo7WU1xK66G",
        "colab_type": "code",
        "colab": {
          "base_uri": "https://localhost:8080/",
          "height": 50
        },
        "outputId": "e9f14199-3472-497a-af08-f63923a5afe3"
      },
      "source": [
        "marks = float(input('Enter the marks:'))\n",
        "if marks >= 60:\n",
        "  if marks < 80:\n",
        "    print('Second class')\n",
        "  else:\n",
        "    print('Distinction')"
      ],
      "execution_count": 30,
      "outputs": [
        {
          "output_type": "stream",
          "text": [
            "Enter the marks:80\n",
            "Distinction\n"
          ],
          "name": "stdout"
        }
      ]
    },
    {
      "cell_type": "code",
      "metadata": {
        "id": "Ko4Op1WDLZCO",
        "colab_type": "code",
        "colab": {
          "base_uri": "https://localhost:8080/",
          "height": 101
        },
        "outputId": "71766b01-6b13-49ba-e21f-903b2aa8e959"
      },
      "source": [
        "#Looping structures\n",
        "#While loop\n",
        "\n",
        "x = 1\n",
        "while x < 5:\n",
        "  print(x)\n",
        "  x = x + 1\n",
        "\n",
        "print('Done')"
      ],
      "execution_count": 31,
      "outputs": [
        {
          "output_type": "stream",
          "text": [
            "1\n",
            "2\n",
            "3\n",
            "4\n",
            "Done\n"
          ],
          "name": "stdout"
        }
      ]
    },
    {
      "cell_type": "code",
      "metadata": {
        "id": "z9LphnmaLpI-",
        "colab_type": "code",
        "colab": {
          "base_uri": "https://localhost:8080/",
          "height": 67
        },
        "outputId": "0bc7cdaf-e6f0-4462-f496-b54199a5a799"
      },
      "source": [
        "#illustration of break\n",
        "\n",
        "while True:\n",
        "  num = int(input('Enter a number:'))\n",
        "  if num > 0:\n",
        "    print('You have successfully entered a positive number')\n",
        "    break"
      ],
      "execution_count": 32,
      "outputs": [
        {
          "output_type": "stream",
          "text": [
            "Enter a number:-1\n",
            "Enter a number:5\n",
            "You have successfully entered a positive number\n"
          ],
          "name": "stdout"
        }
      ]
    },
    {
      "cell_type": "code",
      "metadata": {
        "id": "gKfB0I63MbwR",
        "colab_type": "code",
        "colab": {
          "base_uri": "https://localhost:8080/",
          "height": 151
        },
        "outputId": "e9eb2a06-0a73-4a5b-bec4-b92ce7446ef7"
      },
      "source": [
        "Total = 0\n",
        "while True:\n",
        "  num = int(input('Enter a number: '))\n",
        "  if num > 0:\n",
        "    Total += num\n",
        "    print(Total)\n",
        "  else:\n",
        "    print(Total)\n",
        "    break"
      ],
      "execution_count": 34,
      "outputs": [
        {
          "output_type": "stream",
          "text": [
            "Enter a number: 5\n",
            "5\n",
            "Enter a number: 6\n",
            "11\n",
            "Enter a number: 7\n",
            "18\n",
            "Enter a number: -1\n",
            "18\n"
          ],
          "name": "stdout"
        }
      ]
    },
    {
      "cell_type": "code",
      "metadata": {
        "id": "BUXm8hcrNhxy",
        "colab_type": "code",
        "colab": {
          "base_uri": "https://localhost:8080/",
          "height": 118
        },
        "outputId": "0bf9a348-6fdd-4633-8d24-79ddbda4070f"
      },
      "source": [
        "Total = 0\n",
        "while True:\n",
        "  num = int(input('Enter a number: '))\n",
        "  if num < 0:\n",
        "    print(\"You've entered a negative number\")\n",
        "    break\n",
        "  else:\n",
        "    Total += num\n",
        "    print('Sum of all positive numbers = ',Total)"
      ],
      "execution_count": 36,
      "outputs": [
        {
          "output_type": "stream",
          "text": [
            "Enter a number: 9\n",
            "Sum of all positive numbers =  9\n",
            "Enter a number: 12\n",
            "Sum of all positive numbers =  21\n",
            "Enter a number: -1\n",
            "You've entered a negative number\n"
          ],
          "name": "stdout"
        }
      ]
    },
    {
      "cell_type": "code",
      "metadata": {
        "id": "dJ1rAzlWOV5m",
        "colab_type": "code",
        "colab": {
          "base_uri": "https://localhost:8080/",
          "height": 34
        },
        "outputId": "b68bf7a4-2217-4873-f9ea-8991f68f621f"
      },
      "source": [
        "#for loop\n",
        "#syntax of range() method : range(start,end,stride)\n",
        "#default start value = 0\n",
        "#default stride value = 1\n",
        "\n",
        "for i in range(6):\n",
        "  print(i, end = ' ')"
      ],
      "execution_count": 42,
      "outputs": [
        {
          "output_type": "stream",
          "text": [
            "0 1 2 3 4 5 "
          ],
          "name": "stdout"
        }
      ]
    },
    {
      "cell_type": "code",
      "metadata": {
        "id": "Hp5IkH1xOm8G",
        "colab_type": "code",
        "colab": {
          "base_uri": "https://localhost:8080/",
          "height": 34
        },
        "outputId": "d3a39c7d-4b8b-4485-b8c1-e7b870892172"
      },
      "source": [
        "for i in range(0,5,1):\n",
        "  print(i, end = ' ')"
      ],
      "execution_count": 38,
      "outputs": [
        {
          "output_type": "stream",
          "text": [
            "0 1 2 3 4 "
          ],
          "name": "stdout"
        }
      ]
    },
    {
      "cell_type": "code",
      "metadata": {
        "id": "n6Z3q_7AOtAN",
        "colab_type": "code",
        "colab": {
          "base_uri": "https://localhost:8080/",
          "height": 34
        },
        "outputId": "ac99a37a-9fca-4f43-98a2-0e97fb259183"
      },
      "source": [
        "for i in range(10,20):\n",
        "  print(i, end = ' ')"
      ],
      "execution_count": 39,
      "outputs": [
        {
          "output_type": "stream",
          "text": [
            "10 11 12 13 14 15 16 17 18 19 "
          ],
          "name": "stdout"
        }
      ]
    },
    {
      "cell_type": "code",
      "metadata": {
        "id": "xZLo6QxnOw8-",
        "colab_type": "code",
        "colab": {
          "base_uri": "https://localhost:8080/",
          "height": 34
        },
        "outputId": "74f0fc27-1d7f-472f-c604-7dbddb5fc987"
      },
      "source": [
        "for i in range(15,30,1):\n",
        "  print(i, end = ' ')"
      ],
      "execution_count": 40,
      "outputs": [
        {
          "output_type": "stream",
          "text": [
            "15 16 17 18 19 20 21 22 23 24 25 26 27 28 29 "
          ],
          "name": "stdout"
        }
      ]
    },
    {
      "cell_type": "code",
      "metadata": {
        "id": "P9aoACyJO1jo",
        "colab_type": "code",
        "colab": {
          "base_uri": "https://localhost:8080/",
          "height": 34
        },
        "outputId": "06b40af3-9390-441a-a04a-af289646918f"
      },
      "source": [
        "for i in range(30,15,-2):\n",
        "  print(i, end = ' ')"
      ],
      "execution_count": 41,
      "outputs": [
        {
          "output_type": "stream",
          "text": [
            "30 28 26 24 22 20 18 16 "
          ],
          "name": "stdout"
        }
      ]
    }
  ]
}